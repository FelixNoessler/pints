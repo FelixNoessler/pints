{
 "cells": [
  {
   "cell_type": "markdown",
   "metadata": {},
   "source": [
    "# Rejection Hamiltonian\n"
   ]
  },
  {
   "cell_type": "markdown",
   "metadata": {},
   "source": [
    "This example shows you how to perform Rejection ABC on a time series from the [stochastic degradation model](../toy/model-stochastic-degradation.ipynb). This model describes the describes the stochastic process of a single chemical reaction, in which the concentration of a substance degrades over time as particles react. It differs from most other models in PINTS through the fact that a likelihood ( $D | \\theta$ ) cannot be derived and we are only able to produce stochastic simulations using Gillespie's algorithm. ABC samplers are the solution to such a problem since they do not evaluate the likelihood to sample from the posterior distribution ( $\\theta | D$ )."
   ]
  },
  {
   "cell_type": "markdown",
   "metadata": {},
   "source": [
    "First, we will load the stochastic degradation model. In order to emphasise the variety provided by the stochastic simulations we will plot multiple runs of the model with the same parameters."
   ]
  },
  {
   "cell_type": "code",
   "execution_count": 20,
   "metadata": {},
   "outputs": [
    {
     "name": "stdout",
     "output_type": "stream",
     "text": [
      "D:\\Part B\\python\\python.exe\n",
      "started\n",
      "Collecting git+https://github.com/pints-team/pints.git@hamiltonian-abc\n",
      "  Cloning https://github.com/pints-team/pints.git (to revision hamiltonian-abc) to c:\\users\\victor\\appdata\\local\\temp\\pip-req-build-2xmy2e59\n",
      "Requirement already satisfied, skipping upgrade: cma>=2 in d:\\part b\\python\\lib\\site-packages (from pints==0.4.1) (3.1.0)\n",
      "Requirement already satisfied, skipping upgrade: numpy>=1.8 in d:\\part b\\python\\lib\\site-packages (from pints==0.4.1) (1.21.2)\n",
      "Requirement already satisfied, skipping upgrade: scipy>=0.14 in d:\\part b\\python\\lib\\site-packages (from pints==0.4.1) (1.7.2)\n",
      "Requirement already satisfied, skipping upgrade: matplotlib>=1.5 in d:\\part b\\python\\lib\\site-packages (from pints==0.4.1) (3.4.3)\n",
      "Requirement already satisfied, skipping upgrade: tabulate in d:\\part b\\python\\lib\\site-packages (from pints==0.4.1) (0.8.9)\n",
      "Requirement already satisfied, skipping upgrade: threadpoolctl in d:\\part b\\python\\lib\\site-packages (from pints==0.4.1) (3.0.0)\n",
      "Requirement already satisfied, skipping upgrade: kiwisolver>=1.0.1 in d:\\part b\\python\\lib\\site-packages (from matplotlib>=1.5->pints==0.4.1) (1.3.2)\n",
      "Requirement already satisfied, skipping upgrade: pyparsing>=2.2.1 in d:\\part b\\python\\lib\\site-packages (from matplotlib>=1.5->pints==0.4.1) (2.4.7)\n",
      "Requirement already satisfied, skipping upgrade: pillow>=6.2.0 in d:\\part b\\python\\lib\\site-packages (from matplotlib>=1.5->pints==0.4.1) (8.4.0)\n",
      "Requirement already satisfied, skipping upgrade: cycler>=0.10 in d:\\part b\\python\\lib\\site-packages (from matplotlib>=1.5->pints==0.4.1) (0.11.0)\n",
      "Requirement already satisfied, skipping upgrade: python-dateutil>=2.7 in d:\\part b\\python\\lib\\site-packages (from matplotlib>=1.5->pints==0.4.1) (2.8.1)\n",
      "Requirement already satisfied, skipping upgrade: six>=1.5 in d:\\part b\\python\\lib\\site-packages (from python-dateutil>=2.7->matplotlib>=1.5->pints==0.4.1) (1.14.0)\n",
      "Installing collected packages: pints\n",
      "  Found existing installation: pints 0.4.1\n",
      "    Uninstalling pints-0.4.1:\n",
      "      Successfully uninstalled pints-0.4.1\n",
      "  Running setup.py install for pints: started\n",
      "    Running setup.py install for pints: finished with status 'done'\n",
      "Successfully installed pints-0.4.1\n",
      "done\n"
     ]
    },
    {
     "name": "stderr",
     "output_type": "stream",
     "text": [
      "  Running command git clone -q https://github.com/pints-team/pints.git 'C:\\Users\\Victor\\AppData\\Local\\Temp\\pip-req-build-2xmy2e59'\n",
      "  Running command git checkout -b hamiltonian-abc --track origin/hamiltonian-abc\n",
      "  Branch 'hamiltonian-abc' set up to track remote branch 'hamiltonian-abc' from 'origin'.\n",
      "  Switched to a new branch 'hamiltonian-abc'\n",
      "WARNING: You are using pip version 19.2.3, however version 22.0.2 is available.\n",
      "You should consider upgrading via the 'python -m pip install --upgrade pip' command.\n"
     ]
    }
   ],
   "source": [
    "import sys\n",
    "print(sys.executable)\n",
    "print(\"started\")\n",
    "!{'D:\\\\\"Part B\"\\python\\python.exe'} -m pip install --upgrade git+https://github.com/pints-team/pints.git@hamiltonian-abc\n",
    "print(\"done\")"
   ]
  },
  {
   "cell_type": "code",
   "execution_count": 21,
   "metadata": {},
   "outputs": [],
   "source": [
    "import pints\n",
    "import pints.toy as toy\n",
    "import pints.toy.stochastic\n",
    "import pints.plot\n",
    "import numpy as np\n",
    "import matplotlib.pyplot as plt"
   ]
  },
  {
   "cell_type": "code",
   "execution_count": 22,
   "metadata": {},
   "outputs": [
    {
     "data": {
      "image/png": "[encoded data removed]",
      "text/plain": [
       "<Figure size 432x288 with 1 Axes>"
      ]
     },
     "metadata": {
      "needs_background": "light"
     },
     "output_type": "display_data"
    }
   ],
   "source": [
    "np.random.seed(3)\n",
    "\n",
    "# Load a forward model\n",
    "model = toy.stochastic.DegradationModel()\n",
    "\n",
    "# Create some toy data\n",
    "real_parameters = model.suggested_parameters()\n",
    "times = np.linspace(0, 10, 100)\n",
    "\n",
    "for i in range(10):\n",
    "    values = model.simulate(real_parameters, times)\n",
    "\n",
    "    # Create an object with links to the model and time series\n",
    "    problem = pints.SingleOutputProblem(model, times, values)\n",
    "\n",
    "    # Create a uniform prior parameter\n",
    "    log_prior = pints.UniformLogPrior([0.0], [0.3])\n",
    "\n",
    "    # Set the error measure to be used to compare simulated to observed data\n",
    "    error_measure = pints.RootMeanSquaredError(problem)\n",
    "\n",
    "    plt.step(times, values)\n",
    "\n",
    "\n",
    "plt.xlabel('time')\n",
    "plt.ylabel('concentration (A(t))')\n",
    "plt.show()"
   ]
  },
  {
   "cell_type": "markdown",
   "metadata": {},
   "source": [
    "## Fit using Rejection ABC\n",
    "\n",
    "The Rejection ABC algorithm can be applied to sample parameter values. An error measure will be used to compare the difference between the stochastic simulation obtained with the true set of parameters and the stochastic simulation obtained with a candidate value. Our error measure of choice is the root mean squared error. Root mean squared error has been chosen in order to amplify smaller differences between two stochastic simulations in order to increase the quality of our samples."
   ]
  },
  {
   "cell_type": "code",
   "execution_count": 23,
   "metadata": {},
   "outputs": [
    {
     "ename": "TypeError",
     "evalue": "__init__() missing 5 required positional arguments: 'eps', 'log_prior', 'sim_f', 'c', and 'y'",
     "output_type": "error",
     "traceback": [
      "\u001b[1;31m---------------------------------------------------------------------------\u001b[0m",
      "\u001b[1;31mTypeError\u001b[0m                                 Traceback (most recent call last)",
      "\u001b[1;32m<ipython-input-23-408360ed7268>\u001b[0m in \u001b[0;36m<module>\u001b[1;34m\u001b[0m\n\u001b[1;32m----> 1\u001b[1;33m \u001b[0mabc\u001b[0m \u001b[1;33m=\u001b[0m \u001b[0mpints\u001b[0m\u001b[1;33m.\u001b[0m\u001b[0mABCController\u001b[0m\u001b[1;33m(\u001b[0m\u001b[0merror_measure\u001b[0m\u001b[1;33m,\u001b[0m \u001b[0mlog_prior\u001b[0m\u001b[1;33m,\u001b[0m \u001b[0mmethod\u001b[0m\u001b[1;33m=\u001b[0m\u001b[0mpints\u001b[0m\u001b[1;33m.\u001b[0m\u001b[0mHamiltonianABC\u001b[0m\u001b[1;33m)\u001b[0m\u001b[1;33m\u001b[0m\u001b[1;33m\u001b[0m\u001b[0m\n\u001b[0m\u001b[0;32m      2\u001b[0m \u001b[1;33m\u001b[0m\u001b[0m\n\u001b[0;32m      3\u001b[0m \u001b[1;33m\u001b[0m\u001b[0m\n\u001b[0;32m      4\u001b[0m \u001b[1;32mdef\u001b[0m \u001b[0msimulator_function\u001b[0m\u001b[1;33m(\u001b[0m\u001b[0mtheta\u001b[0m\u001b[1;33m)\u001b[0m\u001b[1;33m:\u001b[0m\u001b[1;33m\u001b[0m\u001b[1;33m\u001b[0m\u001b[0m\n\u001b[0;32m      5\u001b[0m     \u001b[1;32mreturn\u001b[0m \u001b[0mmodel\u001b[0m\u001b[1;33m.\u001b[0m\u001b[0msimulate\u001b[0m\u001b[1;33m(\u001b[0m\u001b[0mtheta\u001b[0m\u001b[1;33m,\u001b[0m \u001b[0mtimes\u001b[0m\u001b[1;33m)\u001b[0m\u001b[1;33m\u001b[0m\u001b[1;33m\u001b[0m\u001b[0m\n",
      "\u001b[1;32mD:\\Part B\\python\\lib\\site-packages\\pints\\_abc\\__init__.py\u001b[0m in \u001b[0;36m__init__\u001b[1;34m(self, error_measure, log_prior, method)\u001b[0m\n\u001b[0;32m    115\u001b[0m \u001b[1;33m\u001b[0m\u001b[0m\n\u001b[0;32m    116\u001b[0m         \u001b[1;31m# The sampler object uses the prior distribution\u001b[0m\u001b[1;33m\u001b[0m\u001b[1;33m\u001b[0m\u001b[1;33m\u001b[0m\u001b[0m\n\u001b[1;32m--> 117\u001b[1;33m         \u001b[0mself\u001b[0m\u001b[1;33m.\u001b[0m\u001b[0m_sampler\u001b[0m \u001b[1;33m=\u001b[0m \u001b[0mmethod\u001b[0m\u001b[1;33m(\u001b[0m\u001b[0mlog_prior\u001b[0m\u001b[1;33m)\u001b[0m\u001b[1;33m\u001b[0m\u001b[1;33m\u001b[0m\u001b[0m\n\u001b[0m\u001b[0;32m    118\u001b[0m \u001b[1;33m\u001b[0m\u001b[0m\n\u001b[0;32m    119\u001b[0m         \u001b[1;31m# Logging\u001b[0m\u001b[1;33m\u001b[0m\u001b[1;33m\u001b[0m\u001b[1;33m\u001b[0m\u001b[0m\n",
      "\u001b[1;31mTypeError\u001b[0m: __init__() missing 5 required positional arguments: 'eps', 'log_prior', 'sim_f', 'c', and 'y'"
     ]
    }
   ],
   "source": [
    "abc = pints.ABCController(error_measure, log_prior, method=pints.HamiltonianABC)\n",
    "\n",
    "\n",
    "def simulator_function(theta):\n",
    "    return model.simulate(theta, times)\n",
    "\n",
    "# set target number of samples\n",
    "abc.set_n_samples(100)\n",
    "abc.set_theta0([0.15])\n",
    "abc.set_sim_f(simulator_function)\n",
    "\n",
    "# log to screen\n",
    "abc.set_log_to_screen(True)\n",
    "\n",
    "print('Running...')\n",
    "samples  = abc.run()\n",
    "print('Done')"
   ]
  },
  {
   "cell_type": "markdown",
   "metadata": {},
   "source": [
    "In order to find the efficiency of the rejection ABC, we plot the approximate posterior compared to the actual parameter value. In the graph, we can see that there is a high concentration of samples around the value with which the data was generated. This suggests that the rejection ABC algorithm performs well and that the root mean squared error was a good choice as an error measure, since high quality samples were produced."
   ]
  },
  {
   "cell_type": "code",
   "execution_count": 4,
   "metadata": {},
   "outputs": [
    {
     "data": {
      "image/png": "[encoded data removed]",
      "text/plain": [
       "<Figure size 432x288 with 1 Axes>"
      ]
     },
     "metadata": {
      "needs_background": "light"
     },
     "output_type": "display_data"
    }
   ],
   "source": [
    "plt.hist(samples[:,0], color=\"blue\", label=\"Samples\")\n",
    "plt.vlines(x=model.suggested_parameters(), linestyles='dashed', ymin=0, ymax=50, label=\"Actual value\", color=\"red\")\n",
    "plt.legend()\n",
    "plt.show()"
   ]
  },
  {
   "cell_type": "markdown",
   "metadata": {},
   "source": [
    "# Note on Rejection ABC\n",
    "\n",
    "The Rejection ABC algorithm is a highly simplistic method for Bayesian inference. As a consequence, it is inefficient when used with high variance priors.\n",
    "\n",
    "Please make sure that you are monitoring the acceptance rate to see if this algorithm is working for your problem."
   ]
  }
 ],
 "metadata": {
  "interpreter": {
   "hash": "62b8c3045b77e73a8aab814fbf01ae024ab075fc3f7014742f3a4c5a8ac43e7b"
  },
  "kernelspec": {
   "display_name": "Python 3.8.0 32-bit",
   "language": "python",
   "name": "python3"
  },
  "language_info": {
   "codemirror_mode": {
    "name": "ipython",
    "version": 3
   },
   "file_extension": ".py",
   "mimetype": "text/x-python",
   "name": "python",
   "nbconvert_exporter": "python",
   "pygments_lexer": "ipython3",
   "version": "3.8.0"
  },
  "orig_nbformat": 4
 },
 "nbformat": 4,
 "nbformat_minor": 2
}
