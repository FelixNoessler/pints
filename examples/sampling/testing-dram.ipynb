{
 "cells": [
  {
   "cell_type": "code",
   "execution_count": 1,
   "metadata": {
    "collapsed": true
   },
   "outputs": [],
   "source": [
    "import os\n",
    "import pints\n",
    "import pints.toy\n",
    "import numpy as np\n",
    "import matplotlib.pyplot as plt"
   ]
  },
  {
   "cell_type": "code",
   "execution_count": 2,
   "metadata": {},
   "outputs": [],
   "source": [
    "from pints.functionaltests.dram import (test_dram_acmc_on_banana,\n",
    "test_dram_acmc_on_two_dim_gaussian, test_dram_acmc_on_correlated_gaussian)"
   ]
  },
  {
   "cell_type": "code",
   "execution_count": 3,
   "metadata": {
    "collapsed": true
   },
   "outputs": [],
   "source": [
    "def run_multiple_iterations(iterations, test):\n",
    "    results = [test(it) for it in iterations]\n",
    "    return results"
   ]
  },
  {
   "cell_type": "markdown",
   "metadata": {},
   "source": [
    "Two dim Gaussian."
   ]
  },
  {
   "cell_type": "code",
   "execution_count": 4,
   "metadata": {},
   "outputs": [],
   "source": [
    "iterations = 10**np.linspace(np.log10(3000), np.log10(10000), 8)\n",
    "two_dim = run_multiple_iterations(iterations, test_dram_acmc_on_two_dim_gaussian)"
   ]
  },
  {
   "cell_type": "code",
   "execution_count": 5,
   "metadata": {},
   "outputs": [
    {
     "data": {
      "text/plain": [
       "[{'kld': 0.0843291601915892, 'mean-ess': 65.42417904748329},\n",
       " {'kld': 0.08783868969367603, 'mean-ess': 74.05203949357681},\n",
       " {'kld': 0.07856933950548317, 'mean-ess': 94.83417986182587},\n",
       " {'kld': 0.06490065736823292, 'mean-ess': 123.58066861642241},\n",
       " {'kld': 0.047663485744746215, 'mean-ess': 129.17435727088025},\n",
       " {'kld': 0.024449431351263318, 'mean-ess': 223.56798187270576},\n",
       " {'kld': 0.02419095979967123, 'mean-ess': 259.4066401354307},\n",
       " {'kld': 0.03137579713375693, 'mean-ess': 236.25076197545593}]"
      ]
     },
     "execution_count": 5,
     "metadata": {},
     "output_type": "execute_result"
    }
   ],
   "source": [
    "cor_gauss"
   ]
  },
  {
   "cell_type": "code",
   "execution_count": null,
   "metadata": {
    "collapsed": true
   },
   "outputs": [],
   "source": [
    "iterations = 10**np.linspace(np.log10(3000), np.log10(10000), 8)\n",
    "plt.plot(iterations, two_dim)\n",
    "plt.show()"
   ]
  },
  {
   "cell_type": "markdown",
   "metadata": {},
   "source": [
    "Banana."
   ]
  },
  {
   "cell_type": "code",
   "execution_count": 5,
   "metadata": {
    "collapsed": true
   },
   "outputs": [],
   "source": [
    "iterations = 10**np.linspace(np.log10(3000), np.log10(10000), 8)\n",
    "banana = run_multiple_iterations(iterations, test_dram_acmc_on_banana)"
   ]
  },
  {
   "cell_type": "markdown",
   "metadata": {},
   "source": [
    "Correlated Gaussian."
   ]
  },
  {
   "cell_type": "code",
   "execution_count": 4,
   "metadata": {},
   "outputs": [],
   "source": [
    "iterations = 10**np.linspace(np.log10(5000), np.log10(10000), 8)\n",
    "cor_gauss = run_multiple_iterations(iterations, test_dram_acmc_on_correlated_gaussian)"
   ]
  },
  {
   "cell_type": "code",
   "execution_count": null,
   "metadata": {
    "collapsed": true
   },
   "outputs": [],
   "source": []
  }
 ],
 "metadata": {
  "kernelspec": {
   "display_name": "Python 3",
   "language": "python",
   "name": "python3"
  },
  "language_info": {
   "codemirror_mode": {
    "name": "ipython",
    "version": 3
   },
   "file_extension": ".py",
   "mimetype": "text/x-python",
   "name": "python",
   "nbconvert_exporter": "python",
   "pygments_lexer": "ipython3",
   "version": "3.7.7"
  }
 },
 "nbformat": 4,
 "nbformat_minor": 2
}
