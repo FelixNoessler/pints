{
 "cells": [
  {
   "cell_type": "markdown",
   "metadata": {},
   "source": [
    "# Ellipsoidal nested sampling\n",
    "\n",
    "This example demonstrates how to use ellipsoidal nested rejection sampling [1] to sample from the posterior distribution for a logistic model fitted to model-simulated data.\n",
    "\n",
    "[1] \"A nested sampling algorithm for cosmological model selection\", Pia Mukherjee, David Parkinson and Andrew R. Liddle, [arXiv:astro-ph/0508461v2](https://arxiv.org/abs/astro-ph/0508461)."
   ]
  },
  {
   "cell_type": "markdown",
   "metadata": {},
   "source": [
    "First create fake data."
   ]
  },
  {
   "cell_type": "code",
   "execution_count": 1,
   "metadata": {},
   "outputs": [
    {
     "data": {
      "text/plain": [
       "<Figure size 640x480 with 1 Axes>"
      ]
     },
     "metadata": {},
     "output_type": "display_data"
    }
   ],
   "source": [
    "import os\n",
    "os.chdir(\"../..\")\n",
    "import pints\n",
    "import pints.toy as toy\n",
    "import numpy as np\n",
    "import matplotlib.pyplot as plt\n",
    "\n",
    "# Load a forward model\n",
    "model = toy.LogisticModel()\n",
    "\n",
    "# Create some toy data\n",
    "r = 0.015\n",
    "k = 500\n",
    "real_parameters = [r, k]\n",
    "times = np.linspace(0, 1000, 100)\n",
    "signal_values = model.simulate(real_parameters, times)\n",
    "\n",
    "# Add independent Gaussian noise\n",
    "sigma = 10\n",
    "observed_values = signal_values + pints.noise.independent(sigma, signal_values.shape)\n",
    "\n",
    "# Plot\n",
    "plt.plot(times,signal_values,label = 'signal')\n",
    "plt.plot(times,observed_values,label = 'observed')\n",
    "plt.xlabel('Time')\n",
    "plt.ylabel('Values')\n",
    "plt.legend()\n",
    "plt.show()"
   ]
  },
  {
   "cell_type": "markdown",
   "metadata": {},
   "source": [
    "Create the nested sampler that will be used to sample from the posterior."
   ]
  },
  {
   "cell_type": "code",
   "execution_count": 2,
   "metadata": {
    "collapsed": true
   },
   "outputs": [],
   "source": [
    "# Create an object with links to the model and time series\n",
    "problem = pints.SingleOutputProblem(model, times, observed_values)\n",
    "\n",
    "# Create a log-likelihood function (adds an extra parameter!)\n",
    "log_likelihood = pints.GaussianLogLikelihood(problem)\n",
    "\n",
    "# Create a uniform prior over both the parameters and the new noise variable\n",
    "log_prior = pints.UniformLogPrior(\n",
    "    [0.01, 400, sigma * 0.5],\n",
    "    [0.02, 600, sigma * 1.5])\n",
    "\n",
    "# Create a nested ellipsoidal rejectection sampler\n",
    "controller = pints.NestedController(log_likelihood, log_prior,\n",
    "                                    method=pints.NestedEllipsoidSampler)\n",
    "\n",
    "# Set number of iterations\n",
    "controller.set_iterations(8000)\n",
    "\n",
    "# Set the number of posterior samples to generate\n",
    "controller.set_n_posterior_samples(1600)\n",
    "\n",
    "# Do proposals in parallel\n",
    "controller.set_parallel(True)\n",
    "\n",
    "# Use dynamic enlargement factor\n",
    "controller.sampler().set_dynamic_enlargement_factor(1)"
   ]
  },
  {
   "cell_type": "markdown",
   "metadata": {},
   "source": [
    "Run the sampler!"
   ]
  },
  {
   "cell_type": "code",
   "execution_count": 3,
   "metadata": {},
   "outputs": [
    {
     "name": "stdout",
     "output_type": "stream",
     "text": [
      "Running Nested ellipsoidal sampler\n",
      "Number of active points: 400\n",
      "Total number of iterations: 8000\n",
      "Total number of posterior samples: 1600\n",
      "Iter. Eval. Time m:s Delta_log(z) Acceptance rate\n",
      "0     1       0:00.1 -inf          1             \n",
      "0     2       0:00.1 -inf          1             \n",
      "0     21      0:00.2 -inf          1             \n",
      "0     41      0:00.2 -inf          1             \n",
      "0     61      0:00.2 -inf          1             \n",
      "0     81      0:00.3 -inf          1             \n",
      "0     101     0:00.3 -inf          1             \n",
      "0     121     0:00.3 -inf          1             \n",
      "0     141     0:00.4 -inf          1             \n",
      "0     161     0:00.4 -inf          1             \n",
      "0     181     0:00.4 -inf          1             \n",
      "0     201     0:00.5 -inf          1             \n",
      "0     221     0:00.5 -inf          1             \n",
      "0     241     0:00.5 -inf          1             \n",
      "0     261     0:00.6 -inf          1             \n",
      "0     281     0:00.6 -inf          1             \n",
      "0     301     0:00.6 -inf          1             \n",
      "0     321     0:00.7 -inf          1             \n",
      "0     341     0:00.7 -inf          1             \n",
      "0     361     0:00.7 -inf          1             \n",
      "0     381     0:00.7 -inf          1             \n",
      "1     424     0:00.8 -inf          0.0416666667  \n",
      "0     20      7:04.0  0.797920071 -13249.58585913\n",
      "0     0       0:40.0  448          0.81275877    \n",
      "-8787 0       0:00.0  60           472           \n",
      "0     -7333   0:00.8  0            80            \n",
      "496   0     -101:57.9  0.833333     0             \n",
      "100   520     0:00.9 -4971.25166   0.833333333   \n",
      "0     120     9:04.0  0.870092266 -4229.230082794\n",
      "0     0       2:20.0  568          0.884435539   \n",
      "-3684 0       0:00.0  160          592           \n",
      "0     -3336   0:00.8  0            180           \n",
      "640   0     -51:25.1  0.75         0             \n",
      "200   664     0:00.9 -2694.753721  0.757575758   \n",
      "0     220    11:52.0  0.950913572 -2446.134871338\n",
      "0     0       4:00.0  736          0.966354084   \n",
      "-2253 0       0:00.0  260          784           \n",
      "0     -2064   0:00.7  0            280           \n",
      "832   1     -32:43.8  0.648148     0             \n",
      "300   856     0:01.0 -1700.841327  0.657894737   \n",
      "0     320    15:04.0  1.039969484 -1633.667217372\n",
      "0     0       5:40.0  952          1.058653923   \n",
      "-1549 0       0:00.0  360          1000          \n",
      "1     -1466   0:00.6  0            380           \n",
      "1072  1     -24:45.9  0.565476     0             \n",
      "400   1144    0:01.1 -1328.125328  0.537634409   \n",
      "0     420    19:52.0  1.143897409 -1278.888286986\n",
      "0     0       7:20.0  1264         1.166960197   \n",
      "-1217 0       0:00.0  460          1312          \n",
      "1     -1161   0:00.5  0            480           \n",
      "1384  1     -19:45.9  0.487804878  0             \n",
      "500   1456    0:01.2 -1044.316042  0.473484848   \n",
      "0     520    25:28.0  1.256814656 -992.5400336604\n",
      "0     0       9:00.0  1600         1.280038913   \n",
      "-947  0       0:00.0  560          1696          \n",
      "1     -921    0:00.4  0            580           \n",
      "1816  1     -15:07.1  0.409605     0             \n",
      "600   1912    0:01.4 -839.9097051  0.396825397   \n",
      "0     620    32:40.0  1.405479627 -803.6099849912\n",
      "0     0      10:40.0  2008         1.428745927   \n",
      "-770  0       0:00.0  660          2032          \n",
      "1     -729    0:00.4  0            680           \n",
      "2080  1     -12:47.2  0.404762     0             \n",
      "700   2128    0:01.5 -627.374508   0.405092593   \n",
      "0     720    36:40.0  1.523545206 -592.6352425302\n",
      "0     0      12:20.0  2248         1.546330193   \n",
      "-570  0       0:00.0  760          2296          \n",
      "1     -540    0:00.4  0            780           \n",
      "2344  1      -9:17.8  0.401235     0             \n",
      "800   2416    0:01.6 -500.9390243  0.396825397   \n",
      "0     820    41:04.0  1.641005077 -476.0469500892\n",
      "0     0      14:00.0  2560         1.674899202   \n",
      "-442  0       0:00.0  860          2632          \n",
      "1     -423    0:00.4  0            880           \n",
      "2728  1      -7:17.7  0.378007     0             \n",
      "900   2776    0:01.8 -380.6591408  0.378787879   \n",
      "0     920    47:52.0  1.79197531  -365.3254680194\n",
      "0     0      15:40.0  2968         1.824863218   \n",
      "-348  0       0:00.0  960          3064          \n",
      "1     -331    0:00.4  0            980           \n",
      "3160  1      -6:48.9  0.355072     0             \n",
      "1000  3232    0:01.9 -299.265424   0.353107345   \n",
      "0     1020   55:28.0  1.950630802 -284.2128054453\n",
      "0     0      17:20.0  3448         1.989424971   \n",
      "-264  0       0:00.0  1060         3568          \n",
      "2     -247    0:00.3  0            1080          \n",
      "3712  2      -4:05.6  0.326087     0             \n",
      "1100  3832    0:02.1 -218.5541431  0.320512821   \n",
      "0     1120   66:40.0  2.158399692 -209.4006948405\n",
      "0     0      19:00.0  4144         2.202615412   \n",
      "-196  0       0:00.0  1160         4312          \n",
      "2     -187    0:00.3  0            1180          \n",
      "4480  2      -3:03.6  0.289216     0             \n",
      "1200  4672    0:02.4 -165.2574093  0.280898876   \n",
      "0     1220   78:16.0  2.380921302 -157.5731454956\n",
      "0     0      20:40.0  4744         2.404372035   \n",
      "-151  0       0:00.0  1260         4792          \n",
      "2     -143    0:00.3  0            1280          \n",
      "4840  2      -3:44.4  0.288288     0             \n",
      "1300  4888    0:02.5 -129.4103406  0.289661319   \n",
      "0     1320   82:16.0  2.497294351 -124.5144786232\n",
      "0     0      22:20.0  4984         2.520368186   \n",
      "-119  0       0:00.0  1360         5056          \n",
      "2     -115    0:00.3  0            1380          \n",
      "5104  2      -2:10.6  0.293367     0             \n",
      "1400  5152    0:02.6 -104.5171996  0.294612795   \n",
      "0     1420   86:16.0  2.612352149 -97.86598704292\n",
      "0     0      24:00.0  5248         2.641280373   \n",
      "-93   0       0:00.0  1460         5320          \n",
      "2     -89     0:00.3  0            1480          \n",
      "5368  2      -2:35.3  0.297907     0             \n",
      "1500  5416    0:02.7 -80.84639923  0.299043062201\n",
      "0     1520   91:52.0  2.748004018 -78.04018165761\n",
      "0     0      25:40.0  5608         2.78129935    \n",
      "-75   0       0:00.0  1560         5680          \n",
      "2     -70     0:00.3  0            1580          \n",
      "5776  2      -2:52.6  0.293899     0             \n",
      "1600  5872    0:02.9 -64.37177464  0.292397661   \n",
      "0     1620   98:16.0  2.904013696 -61.80556661419\n",
      "0     0      27:20.0  5944         2.927594494   \n",
      "-59   0       0:00.0  1660         5992          \n",
      "2     -56     0:00.3  0            1680          \n",
      "6016  2      -1:05.0  0.299145     0             \n",
      "1700  6064    0:03.0 -53.65639533  0.300141243   \n",
      "0     1720  101:52.0  3.017182548 -52.28675197889\n",
      "0     0      29:00.0  6160         3.040503616   \n",
      "-51   0       0:00.0  1760         6232          \n",
      "3     -49     0:00.3  0            1780          \n",
      "6280  3      -1:11.8  0.302721     0             \n",
      "1800  6328    0:03.1 -47.17452344  0.303643725   \n",
      "0     1820  106:40.0  3.145858712 -45.91819150769\n",
      "0     0      30:40.0  6472         3.174077553   \n",
      "-44   0       0:00.0  1860         6568          \n",
      "3     -43     0:00.3  0            1880          \n",
      "6640  3      -1:17.1  0.301282     0             \n",
      "1900  6736    0:03.3 -41.79838486  0.299873737   \n",
      "0     1920  112:40.0  3.294572071 -40.86830002096\n",
      "0     0      32:20.0  6784         3.313614632   \n",
      "-40   0       0:00.0  1960         6808          \n",
      "3     -39     0:00.3  0            1980          \n",
      "6832  3      -1:21.7  0.307836     0             \n",
      "2000  6880    0:03.4 -37.34848362  0.308641975   \n",
      "0     2020  115:04.0  3.392907197 -36.25757839123\n",
      "0     0      34:00.0  6928         3.411906115   \n",
      "-35   0       0:00.0  2060         6976          \n",
      "3     -34     0:00.3  0            2080          \n",
      "7000  3      -1:26.2  0.315152     0             \n",
      "2100  7048    0:03.5 -32.94071852  0.315884477   \n",
      "0     2120  118:16.0  3.502323197 -32.08182274482\n",
      "0     0      35:40.0  7144         3.526281363   \n",
      "-31   0       0:00.0  2160         7192          \n",
      "3     -30     0:00.3  0            2180          \n",
      "7240  3      -1:30.7  0.318713     0             \n",
      "2200  7312    0:03.6 -28.51447024  0.318287037037\n",
      "0     2220  122:40.0  3.625279341 -27.74181012073\n",
      "0     0      37:20.0  7432         3.654641059   \n",
      "-26   0       0:00.0  2260         7504          \n",
      "3     -26     0:00.3  0            2280          \n",
      "7576  3      -1:34.6  0.317726     0             \n",
      "2300  7624    0:03.7 -24.9875388   0.318383167   \n",
      "0     2320  128:16.0  3.766558911 -24.35626335804\n",
      "0     0      39:00.0  7792         3.800623767   \n",
      "-23   0       0:00.0  2360         7888          \n"
     ]
    },
    {
     "name": "stdout",
     "output_type": "stream",
     "text": [
      "3     -23     0:00.3  0            2380          \n",
      "8008  3      -1:37.5  0.312829     0             \n",
      "2400  8080    0:03.9 -21.96509658  0.3125        \n",
      "0     2420  136:16.0  3.938369732 -21.33574769378\n",
      "0     0      40:40.0  8296         3.978624477   \n",
      "-20   0       0:00.0  2460         8488          \n",
      "4     -20     0:00.3  0            2480          \n",
      "8632  4      -1:40.3  0.301263     0             \n",
      "2500  8800    0:04.1 -19.22063514  0.297619047619\n",
      "0     2520  146:40.0  4.145196337 -18.76364090348\n",
      "0     0      42:20.0  8848         4.168728316   \n",
      "-18   0       0:00.0  2560         8872          \n",
      "4     -17     0:00.3  0            2580          \n",
      "8896  4      -1:42.6  0.303672     0             \n",
      "2600  8920    0:04.2 -16.94120606  0.305164319   \n",
      "0     2620  149:28.0  4.253504144 -16.5093004317 \n",
      "0     0      44:00.0  8992         4.272059753   \n",
      "-16   0       0:00.0  2660         9040          \n",
      "4     -16     0:00.3  0            2680          \n",
      "9064  4      -1:44.2  0.309326     0             \n",
      "2700  9088    0:04.3 -15.34434034  0.310773480663\n",
      "0     2720  152:16.0  4.359220379 -14.93098861482\n",
      "0     0      45:40.0  9184         4.383067504   \n",
      "-14   0       0:00.0  2760         9232          \n",
      "4     -14     0:00.3  0            2780          \n",
      "9304  4      -1:46.0  0.312219     0             \n",
      "2800  9352    0:04.5 -13.64676336  0.312779267   \n",
      "0     2820  156:16.0  4.488241089 -13.23640583742\n",
      "0     0      47:20.0  9400         4.506890036   \n",
      "-12   0       0:00.0  2860         9424          \n",
      "4     -12     0:00.3  0            2880          \n",
      "9448  4      -1:47.9  0.318302     0             \n",
      "2900  9472    0:04.6 -11.76948996  0.319664903   \n",
      "0     2920  158:16.0  4.584018147 -11.40822426597\n",
      "0     0      49:00.0  9544         4.608283429   \n",
      "-11   0       0:00.0  2960         9568          \n",
      "4     -10     0:00.3  0            2980          \n",
      "9616  4      -1:49.7  0.323351     0             \n",
      "3000  9664    0:04.7 -10.03057777  0.323834197   \n",
      "0     3020  161:28.0  4.696376529 -9.743960705922\n",
      "0     0      50:40.0  9736         4.720498078   \n",
      "-9    0       0:00.0  3060         9784          \n",
      "4     -9      0:00.3  0            3080          \n",
      "9832  4      -1:51.1  0.326547922  0             \n",
      "3100  9904    0:04.8 -8.645871934  0.326178451   \n",
      "0     3120  165:52.0  4.823776527 -8.397211591579\n",
      "0     0      52:20.0  10024        4.854531451   \n",
      "-8    0       0:00.0  3160         10072         \n",
      "4     -7      0:00.3  0            3180          \n",
      "10144 4      -1:52.3  0.326355     0             \n",
      "3200  10192   0:04.9 -7.442282529  0.326797386   \n",
      "0     3220  170:40.0  4.9565412   -7.216842261549\n",
      "0     0      54:00.0  10336        4.992407235   \n",
      "-6    0       0:00.0  3260         10432         \n",
      "5     -6      0:00.3  0            3280          \n",
      "10504 5      -1:53.4  0.324624     0             \n",
      "3300  10576   0:05.1 -6.416916634  0.324292453   \n",
      "0     3320  177:04.0  5.11257786  -6.2376144122  \n",
      "0     0      55:40.0  10720        5.147045984   \n",
      "-6    0       0:00.0  3360         10840         \n",
      "5     -5      0:00.3  0            3380          \n",
      "10936 5      -1:54.3  0.320805     0             \n",
      "3400  11032   0:05.3 -5.544911068  0.319789315   \n",
      "0     3420  185:52.0  5.298071034 -5.376348509182\n",
      "0     0      57:20.0  11272        5.337416023   \n",
      "-5    0       0:00.0  3460         11368         \n",
      "5     -5      0:00.3  0            3480          \n",
      "11464 5      -1:55.1  0.314534     0             \n",
      "3500  11584   0:05.4 -4.747701486  0.312947067   \n",
      "0     3520  195:04.0  5.491557842 -4.596857290732\n",
      "0     0      59:00.0  11848        5.537374962   \n",
      "-4    0       0:00.0  3560         11968         \n",
      "5     -4      0:00.3  0            3580          \n",
      "12208 5      -1:55.9  0.303184     0             \n",
      "3600  12400   0:06.0 -4.005195743  0.3           \n",
      "0     3620  206:40.0  6.008507708 -3.863765180313\n",
      "0     0      60:40.0  12424        6.027783553   \n",
      "-3    0       0:00.0  3660         12448         \n",
      "6     -3      0:00.3  0            3680          \n",
      "12496 6      -1:56.5  0.304233     0             \n",
      "3700  12520   0:06.1 -3.343707566  0.305280528   \n",
      "0     3720  209:04.0  6.110520589 -3.223961721898\n",
      "0     0      62:20.0  12568        6.130178809   \n",
      "-3    0       0:00.0  3760         12592         \n",
      "6     -2      0:00.3  0            3780          \n",
      "12640 6      -1:57.1  0.308824     0             \n",
      "3800  12664   0:06.2 -2.776067043  0.309849967   \n",
      "0     3820  211:28.0  6.217746423 -2.67207574063 \n",
      "0     0      64:00.0  12736        6.242678433   \n",
      "-2    0       0:00.0  3860         12784         \n",
      "6     -2      0:00.3  0            3880          \n",
      "12808 6      -1:57.6  0.312701     0             \n",
      "3900  12856   0:06.3 -2.28025137   0.313102119   \n",
      "0     3920  215:04.0  6.336343307 -2.189246929486\n",
      "0     0      65:40.0  12928        6.357236824   \n",
      "-2    0       0:00.0  3960         13000         \n",
      "6     -2      0:00.3  0            3980          \n",
      "13048 6      -1:58.1  0.314674     0             \n",
      "4000  13120   0:06.4 -1.852942575  0.314465408805\n",
      "0     4020  219:28.0  6.466929677 -1.775845109134\n",
      "0     0      67:20.0  13216        6.491891335   \n",
      "-1    0       0:00.0  4060         13288         \n",
      "6     -1      0:00.3  0            4080          \n",
      "13336 6      -1:58.4  0.315399     0             \n",
      "4100  13384   0:06.6 -1.488463816  0.315773259   \n",
      "0     4120  223:52.0  6.597242655 -1.421999319674\n",
      "0     0      69:00.0  13504        6.627679061   \n",
      "-1    0       0:00.0  4160         13600         \n",
      "6     -1      0:00.3  0            4180          \n",
      "13672 6      -1:58.8  0.314949     0             \n",
      "4200  13744   0:06.7 -1.179421614  0.314748201   \n",
      "0     4220  230:40.0  6.758152636 -1.124544459825\n",
      "0     0      70:40.0  13936        6.794604991   \n",
      "-1    0       0:00.0  4260         13984         \n",
      "6     -1      0:00.3  0            4280          \n",
      "14080 6      -1:59.0  0.312865     0             \n",
      "4300  14176   0:06.9 -0.926339     0.31213705    \n",
      "0     4320  236:40.0  6.914519998 -0.881804407   \n",
      "0     0      72:20.0  14224        6.934317002   \n",
      "0     0       0:00.0  4360         14248         \n",
      "6     0       0:00.3  0            4380          \n",
      "14272 6      -1:59.2  0.315744     0             \n",
      "4400  14296   0:07.0 -0.722279381  0.316637881   \n",
      "0     4420  238:40.0  7.01496548  -0.686784459   \n",
      "0     0      74:00.0  14368        7.04060709    \n",
      "0     0       0:00.0  4460         14392         \n",
      "7     0       0:00.3  0            4480          \n",
      "14440 7      -1:59.4  0.319088     0             \n",
      "4500  14464   0:07.1 -0.560075     0.31996587    \n",
      "0     4520  241:52.0  7.131841176 -0.532047205181\n",
      "0     0      75:40.0  14560        7.156850651   \n",
      "Convergence obtained with Delta_z = -0.4988692558617345\n",
      "Done!\n"
     ]
    }
   ],
   "source": [
    "samples = controller.run()\n",
    "print('Done!')"
   ]
  },
  {
   "cell_type": "markdown",
   "metadata": {},
   "source": [
    "## Plot posterior samples versus true parameter values (dashed lines)"
   ]
  },
  {
   "cell_type": "code",
   "execution_count": 4,
   "metadata": {},
   "outputs": [
    {
     "data": {
      "image/png": "[encoded data removed]",
      "text/plain": [
       "<Figure size 432x432 with 3 Axes>"
      ]
     },
     "metadata": {
      "needs_background": "light"
     },
     "output_type": "display_data"
    }
   ],
   "source": [
    "# Plot output\n",
    "import pints.plot\n",
    "\n",
    "pints.plot.histogram([samples], ref_parameters=[r, k, sigma])\n",
    "\n",
    "plt.show()"
   ]
  },
  {
   "cell_type": "markdown",
   "metadata": {},
   "source": [
    "## Plot posterior predictive simulations versus the observed data"
   ]
  },
  {
   "cell_type": "code",
   "execution_count": 5,
   "metadata": {},
   "outputs": [
    {
     "data": {
      "image/png": "[encoded data removed]",
      "text/plain": [
       "<Figure size 576x216 with 1 Axes>"
      ]
     },
     "metadata": {
      "needs_background": "light"
     },
     "output_type": "display_data"
    }
   ],
   "source": [
    "pints.plot.series(samples[:100], problem)\n",
    "plt.show()"
   ]
  },
  {
   "cell_type": "markdown",
   "metadata": {},
   "source": [
    "## Marginal likelihood estimate"
   ]
  },
  {
   "cell_type": "code",
   "execution_count": 6,
   "metadata": {},
   "outputs": [
    {
     "name": "stdout",
     "output_type": "stream",
     "text": [
      "marginal log-likelihood = -395.11450903761835 ± 0.07710546353202827\n"
     ]
    }
   ],
   "source": [
    "print('marginal log-likelihood = ' + str(controller.marginal_log_likelihood())\n",
    "      + ' ± ' + str(controller.marginal_log_likelihood_standard_deviation()))"
   ]
  },
  {
   "cell_type": "markdown",
   "metadata": {},
   "source": [
    "## Effective sample size"
   ]
  },
  {
   "cell_type": "code",
   "execution_count": 7,
   "metadata": {},
   "outputs": [
    {
     "name": "stdout",
     "output_type": "stream",
     "text": [
      "effective sample size = 1630.799077894995\n"
     ]
    }
   ],
   "source": [
    "print('effective sample size = ' + str(controller.effective_sample_size()))"
   ]
  }
 ],
 "metadata": {
  "kernelspec": {
   "display_name": "Python 3",
   "language": "python",
   "name": "python3"
  },
  "language_info": {
   "codemirror_mode": {
    "name": "ipython",
    "version": 3
   },
   "file_extension": ".py",
   "mimetype": "text/x-python",
   "name": "python",
   "nbconvert_exporter": "python",
   "pygments_lexer": "ipython3",
   "version": "3.7.7"
  }
 },
 "nbformat": 4,
 "nbformat_minor": 2
}
