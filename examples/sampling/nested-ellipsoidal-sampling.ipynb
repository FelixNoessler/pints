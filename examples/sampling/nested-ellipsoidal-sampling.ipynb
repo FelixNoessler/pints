{
 "cells": [
  {
   "cell_type": "markdown",
   "metadata": {},
   "source": [
    "# Ellipsoidal nested sampling\n",
    "\n",
    "This example demonstrates how to use ellipsoidal nested rejection sampling [1] to sample from the posterior distribution for a logistic model fitted to model-simulated data.\n",
    "\n",
    "[1] \"A nested sampling algorithm for cosmological model selection\", Pia Mukherjee, David Parkinson and Andrew R. Liddle, [arXiv:astro-ph/0508461v2](https://arxiv.org/abs/astro-ph/0508461)."
   ]
  },
  {
   "cell_type": "markdown",
   "metadata": {},
   "source": [
    "First create fake data."
   ]
  },
  {
   "cell_type": "code",
   "execution_count": 8,
   "metadata": {},
   "outputs": [
    {
     "data": {
      "image/png": "[encoded data removed]",
      "text/plain": [
       "<Figure size 432x288 with 1 Axes>"
      ]
     },
     "metadata": {
      "needs_background": "light"
     },
     "output_type": "display_data"
    }
   ],
   "source": [
    "import pints\n",
    "import pints.toy as toy\n",
    "import numpy as np\n",
    "import matplotlib.pyplot as plt\n",
    "\n",
    "# Load a forward model\n",
    "model = toy.LogisticModel()\n",
    "\n",
    "# Create some toy data\n",
    "r = 0.015\n",
    "k = 500\n",
    "real_parameters = [r, k]\n",
    "times = np.linspace(0, 1000, 100)\n",
    "signal_values = model.simulate(real_parameters, times)\n",
    "\n",
    "# Add independent Gaussian noise\n",
    "sigma = 10\n",
    "observed_values = signal_values + pints.noise.independent(sigma, signal_values.shape)\n",
    "\n",
    "# Plot\n",
    "plt.plot(times,signal_values,label = 'signal')\n",
    "plt.plot(times,observed_values,label = 'observed')\n",
    "plt.xlabel('Time')\n",
    "plt.ylabel('Values')\n",
    "plt.legend()\n",
    "plt.show()"
   ]
  },
  {
   "cell_type": "markdown",
   "metadata": {},
   "source": [
    "Create the nested sampler that will be used to sample from the posterior."
   ]
  },
  {
   "cell_type": "code",
   "execution_count": 2,
   "metadata": {
    "collapsed": true
   },
   "outputs": [],
   "source": [
    "# Create an object with links to the model and time series\n",
    "problem = pints.SingleOutputProblem(model, times, observed_values)\n",
    "\n",
    "# Create a log-likelihood function (adds an extra parameter!)\n",
    "log_likelihood = pints.GaussianLogLikelihood(problem)\n",
    "\n",
    "# Create a uniform prior over both the parameters and the new noise variable\n",
    "log_prior = pints.UniformLogPrior(\n",
    "    [0.01, 400, sigma * 0.5],\n",
    "    [0.02, 600, sigma * 1.5])\n",
    "\n",
    "# Create a nested ellipsoidal rejectection sampler\n",
    "controller = pints.NestedController(log_likelihood, log_prior,\n",
    "                                    method=pints.NestedEllipsoidSampler)\n",
    "\n",
    "# Set number of iterations\n",
    "controller.set_iterations(8000)\n",
    "\n",
    "# Set the number of posterior samples to generate\n",
    "controller.set_n_posterior_samples(1600)\n",
    "\n",
    "# Do proposals in parallel\n",
    "controller.set_parallel(True)\n",
    "\n",
    "# Use dynamic enlargement factor\n",
    "controller.sampler().set_dynamic_enlargement_factor(1)"
   ]
  },
  {
   "cell_type": "markdown",
   "metadata": {},
   "source": [
    "Run the sampler!"
   ]
  },
  {
   "cell_type": "code",
   "execution_count": 3,
   "metadata": {},
   "outputs": [
    {
     "name": "stdout",
     "output_type": "stream",
     "text": [
      "Running Nested ellipsoidal sampler\n",
      "Number of active points: 400\n",
      "Total number of iterations: 8000\n",
      "Total number of posterior samples: 1600\n",
      "Iter. Eval. Time m:s Delta_log(z) Acceptance rate\n",
      "0     1       0:00.1 -inf          1             \n",
      "0     2       0:00.1 -inf          1             \n",
      "0     21      0:00.2 -inf          1             \n",
      "0     41      0:00.2 -inf          1             \n",
      "0     61      0:00.2 -inf          1             \n",
      "0     81      0:00.3 -inf          1             \n",
      "0     101     0:00.3 -inf          1             \n",
      "0     121     0:00.3 -inf          1             \n",
      "0     141     0:00.4 -inf          1             \n",
      "0     161     0:00.4 -inf          1             \n",
      "0     181     0:00.4 -inf          1             \n",
      "0     201     0:00.5 -inf          1             \n",
      "0     221     0:00.5 -inf          1             \n",
      "0     241     0:00.5 -inf          1             \n",
      "0     261     0:00.6 -inf          1             \n",
      "0     281     0:00.6 -inf          1             \n",
      "0     301     0:00.6 -inf          1             \n",
      "0     321     0:00.6 -inf          1             \n",
      "0     341     0:00.7 -inf          1             \n",
      "0     361     0:00.7 -inf          1             \n",
      "0     381     0:00.7 -inf          1             \n",
      "1     424     0:00.8 -inf          0.0416666667  \n",
      "20    424     0:00.8 -11060.20598  0.833333333   \n",
      "40    448     0:00.8 -7834.794711  0.833333333   \n",
      "60    472     0:00.8 -6652.775661  0.833333333   \n",
      "80    496     0:00.8 -5678.692848  0.833333333   \n",
      "100   520     0:00.8 -4860.183681  0.833333333   \n",
      "120   568     0:00.9 -4109.354259  0.714285714   \n",
      "140   592     0:00.9 -3751.451374  0.729166667   \n",
      "160   616     0:00.9 -3402.047555  0.740740741   \n",
      "180   640     0:00.9 -3082.01226   0.75          \n",
      "200   664     0:00.9 -2883.331046  0.757575758   \n",
      "220   712     0:00.9 -2643.958539  0.705128205   \n",
      "240   736     0:01.0 -2415.25803   0.714285714   \n",
      "260   784     0:01.0 -2265.088454  0.677083333   \n",
      "280   832     0:01.0 -2058.821529  0.648148148   \n",
      "300   856     0:01.0 -1909.538112  0.657894737   \n",
      "320   904     0:01.0 -1767.054632  0.634920635   \n",
      "340   952     0:01.1 -1697.879642  0.615942029   \n",
      "360   1000    0:01.1 -1602.214005  0.6           \n",
      "380   1024    0:01.1 -1543.398631  0.608974359   \n",
      "400   1096    0:01.1 -1466.660971  0.574712644   \n",
      "420   1120    0:01.2 -1392.857096  0.583333333   \n",
      "440   1144    0:01.2 -1308.757521  0.591397849   \n",
      "460   1192    0:01.2 -1239.186545  0.580808081   \n",
      "480   1240    0:01.2 -1164.934158  0.571428571   \n",
      "500   1264    0:01.2 -1079.823299  0.578703704   \n",
      "520   1336    0:01.3 -1025.035492  0.555555556   \n",
      "540   1384    0:01.3 -976.4641831  0.548780488   \n",
      "560   1432    0:01.3 -935.2971856  0.542635659   \n",
      "580   1480    0:01.3 -880.5734634  0.537037037037\n",
      "600   1552    0:01.4 -834.1156678  0.520833333   \n",
      "620   1648    0:01.4 -796.1978778  0.496794872   \n",
      "640   1696    0:01.4 -757.4421905  0.49382716    \n",
      "660   1768    0:01.4 -726.8869007  0.48245614    \n",
      "680   1816    0:01.5 -697.0387299  0.480225989   \n",
      "700   1888    0:01.5 -644.7408866  0.470430108   \n",
      "720   1984    0:01.5 -614.6583172  0.454545455   \n",
      "740   2056    0:01.6 -588.4362572  0.446859903   \n",
      "760   2152    0:01.6 -572.5732746  0.433789954   \n",
      "780   2200    0:01.6 -549.9425786  0.433333333   \n",
      "800   2296    0:01.6 -524.2050708  0.42194092827 \n",
      "820   2392    0:01.7 -492.5118438  0.411646586   \n",
      "840   2488    0:01.7 -468.5771842  0.402298851   \n",
      "860   2560    0:01.7 -444.0111101  0.398148148   \n",
      "880   2680    0:01.8 -426.3613047  0.385964912   \n",
      "900   2752    0:01.8 -402.4215756  0.382653061   \n",
      "920   2920    0:01.8 -385.4080829  0.365079365   \n",
      "940   3040    0:01.9 -367.9141714  0.356060606   \n",
      "960   3160    0:01.9 -355.5790087  0.347826087   \n",
      "980   3256    0:02.0 -342.5349668  0.343137254902\n",
      "1000  3424    0:02.0 -322.3111226  0.330687831   \n",
      "1020  3592    0:02.1 -307.3780442  0.319548872   \n",
      "1040  3784    0:02.1 -297.3444897  0.307328605   \n",
      "1060  3952    0:02.2 -282.93381    0.298423423   \n",
      "1080  4072    0:02.2 -267.5488399  0.294117647   \n",
      "1100  4216    0:02.2 -249.056828   0.288259958   \n",
      "1120  4456    0:02.3 -236.0263519  0.276134122288\n",
      "1140  4696    0:02.4 -223.2606405  0.265363128   \n",
      "1160  4864    0:02.4 -210.9881868  0.259856631   \n",
      "1180  5032    0:02.5 -200.9567296  0.254749568   \n",
      "1200  5224    0:02.5 -191.6273162  0.248756219   \n",
      "1220  5512    0:02.6 -183.8571585  0.238654147   \n",
      "1240  5752    0:02.6 -170.4900331  0.231689088   \n",
      "1260  6040    0:02.7 -160.9649313  0.223404255   \n",
      "1280  6352    0:02.8 -153.6464169  0.215053763   \n",
      "1300  6616    0:02.9 -144.9255267  0.209137709   \n",
      "1320  6640    0:02.9 -137.8208047  0.211538462   \n",
      "1340  6688    0:02.9 -132.770453   0.213104326   \n",
      "1360  6712    0:02.9 -126.5175948  0.215462611   \n",
      "1380  6784    0:02.9 -119.6499844  0.216165414   \n",
      "1400  6808    0:03.0 -115.0743866  0.218476904   \n",
      "1420  6856    0:03.0 -110.2829883  0.219950434   \n",
      "1440  6928    0:03.0 -107.1655052  0.220588235   \n",
      "1460  6976    0:03.0 -103.4599517  0.222019465   \n",
      "1480  7024    0:03.1 -99.08963092  0.223429952   \n",
      "1500  7072    0:03.1 -95.27766996  0.224820144   \n",
      "1520  7120    0:03.1 -88.80136806  0.226190476   \n",
      "1540  7192    0:03.1 -84.25174927  0.226737338   \n",
      "1560  7240    0:03.2 -81.40232023  0.228070175   \n",
      "1580  7312    0:03.2 -78.9608039   0.228587962963\n",
      "1600  7384    0:03.2 -76.76466266  0.229095074   \n",
      "1620  7480    0:03.3 -73.92028087  0.228813559322\n",
      "1640  7552    0:03.3 -71.13533166  0.229306488   \n",
      "1660  7624    0:03.3 -68.30014644  0.22978959    \n",
      "1680  7696    0:03.3 -65.86866148  0.230263158   \n",
      "1700  7768    0:03.4 -63.5994538   0.23072747    \n",
      "1720  7840    0:03.4 -61.64870167  0.231182796   \n",
      "1740  8008    0:03.4 -59.95277789  0.228706625   \n",
      "1760  8128    0:03.5 -57.60500544  0.227743271   \n",
      "1780  8248    0:03.5 -55.90124317  0.226809378   \n",
      "1800  8392    0:03.6 -53.81290349  0.225225225   \n",
      "1820  8416    0:03.6 -51.94228743  0.227045908   \n",
      "1840  8440    0:03.6 -50.39334803  0.228855721393\n",
      "1860  8488    0:03.6 -48.45853893  0.229970326   \n",
      "1880  8512    0:03.7 -46.87247439  0.231755424   \n",
      "1900  8560    0:03.7 -45.64011392  0.232843137   \n",
      "1920  8608    0:03.7 -44.51255868  0.233918128655\n",
      "1940  8656    0:03.7 -43.25326514  0.234980620155\n",
      "1960  8704    0:03.7 -42.083437    0.236030829   \n",
      "1980  8776    0:03.8 -40.74161783  0.236389685   \n",
      "2000  8824    0:03.8 -39.5645102   0.237416904   \n",
      "2020  8896    0:03.8 -38.59027431  0.237758945   \n",
      "2040  8944    0:03.8 -37.63737536  0.238764045   \n",
      "2060  9016    0:03.9 -36.8583503   0.239090065   \n",
      "2080  9064    0:03.9 -36.05941503  0.240073869   \n",
      "2100  9136    0:03.9 -34.94261962  0.240384615   \n",
      "2120  9184    0:04.0 -33.95982571  0.241347905   \n",
      "2140  9280    0:04.0 -33.16899433  0.240990990991\n",
      "2160  9352    0:04.0 -32.34267985  0.241286863   \n",
      "2180  9424    0:04.0 -31.47735527  0.241578014   \n",
      "2200  9520    0:04.1 -30.50875516  0.24122807    \n",
      "2220  9616    0:04.1 -29.64460706  0.240885417   \n",
      "2240  9760    0:04.2 -28.94423388  0.239316239   \n",
      "2260  9832    0:04.2 -28.18451625  0.239609839   \n",
      "2280  9952    0:04.2 -27.49846713  0.238693467   \n",
      "2300  10096   0:04.3 -26.76792574  0.237211221   \n",
      "2320  10240   0:04.3 -26.15225636  0.235772358   \n",
      "2340  10384   0:04.4 -25.81240984  0.234375      \n",
      "2360  10504   0:04.4 -24.97940323  0.233570863   \n",
      "2380  10600   0:04.4 -24.16197672  0.233333333   \n",
      "2400  10696   0:04.5 -23.47596729  0.233100233   \n",
      "2420  10912   0:04.5 -22.83406059  0.23021309    \n",
      "2440  11080   0:04.6 -22.19369131  0.228464419   \n",
      "2460  11320   0:04.7 -21.64030031  0.225274725   \n",
      "2480  11560   0:04.7 -21.12233452  0.222222222   \n",
      "2500  11776   0:04.8 -20.64943649  0.2197609     \n",
      "2520  11776   0:04.8 -20.60116415  0.221518987   \n",
      "2540  11800   0:04.8 -20.04629166  0.222807018   \n",
      "2560  11824   0:04.8 -19.4968464   0.224089636   \n",
      "2580  11872   0:04.9 -19.10983568  0.224895397   \n",
      "2600  11896   0:04.9 -18.63856834  0.226165623   \n",
      "2620  11920   0:04.9 -18.15985547  0.227430556   \n",
      "2640  11968   0:04.9 -17.66492719  0.228215768   \n",
      "2660  11992   0:04.9 -17.17374293  0.229468599   \n",
      "2680  12040   0:05.3 -16.71693595  0.23024055    \n",
      "2700  12064   0:05.4 -16.24745859  0.231481481   \n",
      "2720  12088   0:05.4 -15.81778736  0.232717317   \n",
      "2740  12136   0:05.4 -15.43089988  0.233469665985\n",
      "2760  12184   0:05.4 -15.05920217  0.234215885947\n",
      "2780  12208   0:05.5 -14.69632015  0.235433604336\n",
      "2800  12256   0:05.5 -14.32411123  0.236167341   \n",
      "2820  12280   0:05.5 -13.97026938  0.237373737   \n",
      "2840  12328   0:05.5 -13.62050919  0.238095238   \n"
     ]
    },
    {
     "name": "stdout",
     "output_type": "stream",
     "text": [
      "2860  12376   0:05.5 -13.28965837  0.238810955   \n",
      "2880  12448   0:05.6 -12.94976003  0.239043825   \n",
      "2900  12496   0:05.6 -12.61465063  0.239748677   \n",
      "2920  12568   0:05.6 -12.27870946  0.239973702   \n",
      "2940  12616   0:05.7 -11.94871239  0.240667976   \n",
      "2960  12664   0:05.7 -11.63882644  0.241356817   \n",
      "2980  12736   0:05.7 -11.3359872   0.24156939    \n",
      "3000  12808   0:05.7 -11.04189387  0.241779497   \n",
      "3020  12880   0:05.8 -10.74419104  0.241987179   \n",
      "3040  12952   0:05.8 -10.44498047  0.242192479   \n",
      "3060  13024   0:05.8 -10.15855277  0.242395437   \n",
      "3080  13096   0:05.9 -9.874572638  0.242596093   \n",
      "3100  13192   0:05.9 -9.59251092   0.242338962   \n",
      "3120  13192   0:05.9 -9.312447487  0.243902439   \n",
      "3140  13240   0:05.9 -9.032464398  0.244548287   \n",
      "3160  13264   0:06.0 -8.753290159  0.245646766   \n",
      "3180  13288   0:06.0 -8.489369292  0.246741155   \n",
      "3200  13312   0:06.0 -8.225936212  0.247831475   \n",
      "3220  13360   0:06.0 -7.973927384  0.24845679    \n",
      "3240  13384   0:06.0 -7.732577965  0.249537893   \n",
      "3260  13408   0:06.1 -7.503334868  0.250615006   \n",
      "3280  13456   0:06.1 -7.277526582  0.25122549    \n",
      "3300  13504   0:06.1 -7.051062142  0.251831502   \n",
      "3320  13552   0:06.1 -6.835298346  0.25243309    \n",
      "3340  13576   0:06.1 -6.630912217  0.253491196   \n",
      "3360  13624   0:06.2 -6.430397896  0.254083485   \n",
      "3380  13672   0:06.2 -6.237003782  0.254671489   \n",
      "3400  13720   0:06.2 -6.048897876  0.255255255   \n",
      "3420  13768   0:06.2 -5.870655792  0.255834829   \n",
      "3440  13816   0:06.3 -5.691844916  0.256410256   \n",
      "3460  13840   0:06.3 -5.516837454  0.257440476   \n",
      "3480  13912   0:06.3 -5.348565893  0.257548845   \n",
      "3500  13984   0:06.4 -5.184134753  0.25765606596 \n",
      "3520  14008   0:06.4 -5.018450018  0.25867137    \n",
      "3540  14032   0:06.4 -4.855764432  0.259683099   \n",
      "3560  14056   0:06.4 -4.697868383  0.260691271   \n",
      "3580  14080   0:06.4 -4.54512935   0.261695906   \n",
      "3600  14104   0:06.4 -4.39402477   0.262697023   \n",
      "3620  14128   0:06.5 -4.246197909  0.263694639   \n",
      "3640  14152   0:06.5 -4.103231162  0.264688773   \n",
      "3660  14200   0:06.5 -3.96292488   0.265217391   \n",
      "3680  14224   0:06.5 -3.824979027  0.266203704   \n",
      "3700  14272   0:06.6 -3.69050043   0.266724337   \n",
      "3720  14296   0:06.6 -3.561785525  0.267702936   \n",
      "3740  14320   0:06.6 -3.435613715  0.268678161   \n",
      "3760  14368   0:06.6 -3.311667026  0.269186712   \n",
      "3780  14416   0:06.6 -3.191085153  0.269691781   \n",
      "3800  14440   0:06.7 -3.073491302  0.270655271   \n",
      "3820  14488   0:06.7 -3.022365329  0.271152754117\n",
      "3840  14536   0:06.7 -2.909699808  0.271646859   \n",
      "3860  14608   0:06.7 -2.799739828  0.271677928   \n",
      "3880  14656   0:06.8 -2.692620416  0.272166105   \n",
      "3900  14728   0:06.8 -2.589391771  0.272194305   \n",
      "3920  14800   0:06.8 -2.489694364  0.272222222   \n",
      "3940  14848   0:06.9 -2.392785681  0.272702104   \n",
      "3960  14920   0:06.9 -2.298895171  0.272727273   \n",
      "3980  14992   0:06.9 -2.207546951  0.272752193   \n",
      "4000  15088   0:07.0 -2.117806636  0.272331155   \n",
      "4020  15088   0:07.0 -2.030927638  0.27369281    \n",
      "4040  15112   0:07.0 -1.946684138  0.274605764   \n",
      "4060  15160   0:07.0 -1.864965112  0.275067751   \n",
      "4080  15184   0:07.0 -1.785175338  0.275974025974\n",
      "4100  15208   0:07.1 -1.726329592  0.276877364   \n",
      "4120  15232   0:07.1 -1.651769823  0.277777778   \n",
      "4140  15256   0:07.1 -1.579341617  0.278675283   \n",
      "4160  15304   0:07.1 -1.509479696  0.279119699   \n",
      "4180  15328   0:07.1 -1.442264042  0.280010718   \n",
      "4200  15376   0:07.2 -1.377453214  0.280448718   \n",
      "4220  15400   0:07.2 -1.314814881  0.281333333   \n",
      "4240  15400   0:07.2 -1.25453359   0.282666667   \n",
      "4260  15424   0:07.2 -1.233214019  0.283546326   \n",
      "4280  15472   0:07.3 -1.176552081  0.283970276   \n",
      "4300  15496   0:07.3 -1.122242589  0.284843667   \n",
      "4320  15520   0:07.3 -1.070113433  0.285714286   \n",
      "4340  15544   0:07.3 -1.020065767  0.286582145   \n",
      "4360  15592   0:07.3 -0.972025     0.286993154   \n",
      "4380  15616   0:07.4 -0.925877     0.28785489    \n",
      "4400  15640   0:07.4 -0.881801     0.288713911   \n",
      "4420  15664   0:07.4 -0.839652     0.289570230608\n",
      "4440  15712   0:07.4 -0.805895     0.289968652   \n",
      "4460  15760   0:07.5 -0.766921     0.290364583   \n",
      "4480  15784   0:07.5 -0.729632     0.291211648   \n",
      "4500  15832   0:07.5 -0.69400814   0.291601866   \n",
      "4520  15880   0:07.5 -0.660013     0.291989664   \n",
      "4540  15952   0:07.6 -0.627561     0.291923868   \n",
      "4560  16000   0:07.6 -0.596588     0.292307692   \n",
      "4580  16048   0:07.6 -0.567019     0.292689162   \n",
      "4600  16096   0:07.6 -0.538874252  0.293068298   \n",
      "4620  16144   0:07.7 -0.511996     0.293445122   \n",
      "Convergence obtained with Delta_z = -0.49903558416934857\n",
      "Done!\n"
     ]
    }
   ],
   "source": [
    "samples = controller.run()\n",
    "print('Done!')"
   ]
  },
  {
   "cell_type": "markdown",
   "metadata": {},
   "source": [
    "## Plot posterior samples versus true parameter values (dashed lines)"
   ]
  },
  {
   "cell_type": "code",
   "execution_count": 4,
   "metadata": {},
   "outputs": [
    {
     "data": {
      "image/png": "[encoded data removed]",
      "text/plain": [
       "<Figure size 432x432 with 3 Axes>"
      ]
     },
     "metadata": {
      "needs_background": "light"
     },
     "output_type": "display_data"
    }
   ],
   "source": [
    "# Plot output\n",
    "import pints.plot\n",
    "\n",
    "pints.plot.histogram([samples], ref_parameters=[r, k, sigma])\n",
    "\n",
    "plt.show()"
   ]
  },
  {
   "cell_type": "markdown",
   "metadata": {},
   "source": [
    "## Plot posterior predictive simulations versus the observed data"
   ]
  },
  {
   "cell_type": "code",
   "execution_count": 5,
   "metadata": {},
   "outputs": [
    {
     "data": {
      "image/png": "[encoded data removed]",
      "text/plain": [
       "<Figure size 576x216 with 1 Axes>"
      ]
     },
     "metadata": {
      "needs_background": "light"
     },
     "output_type": "display_data"
    }
   ],
   "source": [
    "pints.plot.series(samples[:100], problem)\n",
    "plt.show()"
   ]
  },
  {
   "cell_type": "markdown",
   "metadata": {},
   "source": [
    "## Marginal likelihood estimate"
   ]
  },
  {
   "cell_type": "code",
   "execution_count": 6,
   "metadata": {},
   "outputs": [
    {
     "name": "stdout",
     "output_type": "stream",
     "text": [
      "marginal log-likelihood = -385.5009854682867 ± 0.0773574167218967\n"
     ]
    }
   ],
   "source": [
    "print('marginal log-likelihood = ' + str(controller.marginal_log_likelihood())\n",
    "      + ' ± ' + str(controller.marginal_log_likelihood_standard_deviation()))"
   ]
  },
  {
   "cell_type": "markdown",
   "metadata": {},
   "source": [
    "## Effective sample size"
   ]
  },
  {
   "cell_type": "code",
   "execution_count": 7,
   "metadata": {},
   "outputs": [
    {
     "name": "stdout",
     "output_type": "stream",
     "text": [
      "effective sample size = 1644.798481950151\n"
     ]
    }
   ],
   "source": [
    "print('effective sample size = ' + str(controller.effective_sample_size()))"
   ]
  }
 ],
 "metadata": {
  "kernelspec": {
   "display_name": "Python 3",
   "language": "python",
   "name": "python3"
  },
  "language_info": {
   "codemirror_mode": {
    "name": "ipython",
    "version": 3
   },
   "file_extension": ".py",
   "mimetype": "text/x-python",
   "name": "python",
   "nbconvert_exporter": "python",
   "pygments_lexer": "ipython3",
   "version": "3.7.7"
  }
 },
 "nbformat": 4,
 "nbformat_minor": 2
}
