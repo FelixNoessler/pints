{
 "cells": [
  {
   "cell_type": "markdown",
   "metadata": {},
   "source": [
    "# MultiNest sampling\n",
    "\n",
    "This example demonstrates how to use MultiNest sampling [1] to sample from the posterior distribution for a logistic model fitted to model-simulated data.\n",
    "\n",
    "[1] \"MultiNest: an efficient and robust Bayesian inference tool for cosmology and particle physics.\"\n",
    "Feroz, F., M. P. Hobson, and M. Bridges. Monthly Notices of the Royal Astronomical Society 398.4 (2009): 1601-1614."
   ]
  },
  {
   "cell_type": "markdown",
   "metadata": {},
   "source": [
    "First create fake data."
   ]
  },
  {
   "cell_type": "code",
   "execution_count": 1,
   "metadata": {},
   "outputs": [],
   "source": [
    "import os\n",
    "os.chdir(\"../..\")\n",
    "import pints\n",
    "import pints.toy as toy\n",
    "import numpy as np\n",
    "import matplotlib.pyplot as plt\n",
    "\n",
    "model = toy.LogisticModel()\n",
    "\n",
    "# Create some toy data\n",
    "real_parameters = [0.015, 500]\n",
    "times = np.linspace(0, 1000, 100)\n",
    "org_values = model.simulate(real_parameters, times)\n",
    "\n",
    "# Add noise\n",
    "noise = 10\n",
    "values = org_values + np.random.normal(0, noise, org_values.shape)\n",
    "real_parameters = np.array(real_parameters + [noise])\n",
    "\n",
    "# Get properties of the noise sample\n",
    "noise_sample_mean = np.mean(values - org_values)\n",
    "noise_sample_std = np.std(values - org_values)\n",
    "\n",
    "# Create an object with links to the model and time series\n",
    "problem = pints.SingleOutputProblem(model, times, values)\n",
    "\n",
    "# Create a log-likelihood function (adds an extra parameter!)\n",
    "log_likelihood = pints.GaussianLogLikelihood(problem)\n",
    "\n",
    "# Create a uniform prior over both the parameters and the new noise variable\n",
    "log_prior = pints.UniformLogPrior(\n",
    "    [0.01, 400, noise*0.1],\n",
    "    [0.02, 600, noise*100]\n",
    ")\n",
    "\n",
    "# Create a posterior log-likelihood (log(likelihood * prior))\n",
    "log_posterior = pints.LogPosterior(log_likelihood, log_prior)"
   ]
  },
  {
   "cell_type": "markdown",
   "metadata": {},
   "source": [
    "Create the nested sampler that will be used to sample from the posterior."
   ]
  },
  {
   "cell_type": "code",
   "execution_count": 2,
   "metadata": {},
   "outputs": [],
   "source": [
    "# Create a nested ellipsoidal rejectection sampler\n",
    "sampler = pints.NestedController(log_likelihood, log_prior, method=pints.MultinestSampler)\n",
    "\n",
    "# Set number of iterations\n",
    "sampler.set_iterations(8000)\n",
    "\n",
    "# Set the number of posterior samples to generate\n",
    "sampler.set_n_posterior_samples(1600)\n",
    "\n",
    "sampler._sampler.set_f_s_threshold(4)"
   ]
  },
  {
   "cell_type": "markdown",
   "metadata": {},
   "source": [
    "Run the sampler!"
   ]
  },
  {
   "cell_type": "code",
   "execution_count": 3,
   "metadata": {},
   "outputs": [
    {
     "name": "stdout",
     "output_type": "stream",
     "text": [
      "Running MultiNest sampler\n",
      "Number of active points: 400\n",
      "Total number of iterations: 8000\n",
      "Total number of posterior samples: 1600\n",
      "Iter. Eval. Time m:s Delta_log(z) Acceptance rate Ellipsoid count\n",
      "0     1       0:00.0 -inf          1               0             \n",
      "0     2       0:00.0 -inf          1               0             \n",
      "0     21      0:00.0 -inf          1               0             \n",
      "0     41      0:00.0 -inf          1               0             \n",
      "0     61      0:00.0 -inf          1               0             \n",
      "0     81      0:00.0 -inf          1               0             \n",
      "0     101     0:00.0 -inf          1               0             \n",
      "0     121     0:00.0 -inf          1               0             \n",
      "0     141     0:00.0 -inf          1               0             \n",
      "0     161     0:00.0 -inf          1               0             \n",
      "0     181     0:00.0 -inf          1               0             \n",
      "0     201     0:00.0 -inf          1               0             \n",
      "0     221     0:00.0 -inf          1               0             \n",
      "0     241     0:00.0 -inf          1               0             \n",
      "0     261     0:00.0 -inf          1               0             \n",
      "0     281     0:00.0 -inf          1               0             \n",
      "0     301     0:00.0 -inf          1               0             \n",
      "0     321     0:00.0 -inf          1               0             \n",
      "0     341     0:00.0 -inf          1               0             \n",
      "0     361     0:00.0 -inf          1               0             \n",
      "0     381     0:00.0 -inf          1               0             \n",
      "1     401     0:00.0 -inf          1               0             \n",
      "20    420     0:00.0 -290.7784472  1               0             \n",
      "40    441     0:00.0 -286.0122184  0.975609756     0             \n",
      "60    463     0:00.1 -280.8333119  0.952380952381  0             \n",
      "80    489     0:00.1 -273.1749662  0.898876404     0             \n",
      "100   514     0:00.1 -267.6850864  0.877192982     0             \n",
      "120   541     0:00.1 -262.4266579  0.85106383      0             \n",
      "140   569     0:00.1 -257.9574247  0.828402367     0             \n",
      "160   601     0:00.1 -253.0016174  0.7960199       0             \n",
      "180   633     0:00.1 -248.043675   0.772532189     0             \n",
      "200   670     0:00.2 -243.2406681  0.740740741     4             \n",
      "220   697     0:00.2 -238.032681   0.740740741     4             \n",
      "240   724     0:00.2 -234.1625495  0.740740741     4             \n",
      "260   751     0:00.2 -230.1831497  0.740740741     4             \n",
      "280   776     0:00.3 -226.0402858  0.744680851     4             \n",
      "300   811     0:00.3 -222.3211812  0.729927007     4             \n",
      "320   837     0:00.3 -217.2950846  0.732265446     4             \n",
      "340   874     0:00.3 -212.1282777  0.717299578     4             \n",
      "360   913     0:00.3 -208.5258386  0.701754386     4             \n",
      "380   954     0:00.3 -206.9628669  0.685920578     4             \n",
      "400   992     0:00.5 -202.2485495  0.675675676     5             \n",
      "420   1013    0:00.5 -199.029858   0.685154976     5             \n",
      "440   1038    0:00.5 -196.3791669  0.689655172     5             \n",
      "460   1066    0:00.5 -191.9328915  0.690690691     5             \n",
      "480   1097    0:00.5 -188.7196215  0.68866571      5             \n",
      "500   1128    0:00.5 -216.4559332  0.686813187     5             \n",
      "520   1169    0:00.6 -210.6981648  0.676202861     5             \n",
      "540   1208    0:00.6 -205.8225873  0.668316832     5             \n",
      "560   1251    0:00.6 -202.6107928  0.658049354     5             \n",
      "580   1287    0:00.6 -199.8513444  0.653889515     5             \n",
      "600   1321    0:00.9 -195.9886212  0.651465798     3             \n",
      "620   1344    0:00.9 -192.299728   0.656779661     3             \n",
      "640   1369    0:00.9 -189.8445544  0.660474716     3             \n",
      "660   1396    0:00.9 -187.1213553  0.662650602     3             \n",
      "680   1430    0:00.9 -184.2914482  0.660194175     3             \n",
      "700   1454    0:00.9 -181.6190961  0.664136622     3             \n",
      "720   1486    0:00.9 -178.9672077  0.662983425     3             \n",
      "740   1522    0:00.9 -175.8676313  0.659536542     3             \n",
      "760   1554    0:01.0 -173.6208425  0.658578856     3             \n",
      "780   1589    0:01.0 -171.3705303  0.656013457     3             \n",
      "800   1618    0:01.1 -168.8514788  0.65681445      1             \n",
      "820   1646    0:01.1 -166.6034244  0.658105939     1             \n",
      "840   1671    0:01.1 -190.2718905  0.66089693155   1             \n",
      "860   1695    0:01.1 -187.8772253  0.664092664     1             \n",
      "880   1722    0:01.1 -185.6015287  0.665658094     1             \n",
      "900   1751    0:01.1 -183.0024429  0.666173205     1             \n",
      "920   1780    0:01.1 -180.3633486  0.666666667     1             \n",
      "940   1815    0:01.1 -177.6730356  0.664310954     1             \n",
      "960   1856    0:01.1 -175.1654948  0.659340659     1             \n",
      "980   1881    0:01.2 -173.4439551  0.661715057     1             \n",
      "1000  1920    0:01.2 -171.5503299  0.657894737     1             \n",
      "1020  1945    0:01.3 -169.5588187  0.660194175     1             \n",
      "1040  1972    0:01.3 -167.3651855  0.661577608     1             \n",
      "1060  2011    0:01.3 -165.0425142  0.657976412     1             \n",
      "1080  2046    0:01.3 -162.6068579  0.656136087     1             \n",
      "1100  2080    0:01.3 -160.5819645  0.654761905     1             \n",
      "1120  2120    0:01.3 -158.8772239  0.651162791     1             \n",
      "1140  2157    0:01.4 -157.6015293  0.648833238     1             \n",
      "1160  2191    0:01.4 -156.0179334  0.647682859     1             \n",
      "1180  2240    0:01.4 -154.3308174  0.641304348     1             \n",
      "1200  2287    0:01.6 -152.2595698  0.635930048     4             \n",
      "1220  2327    0:01.6 -150.3959014  0.633108459     4             \n",
      "1240  2361    0:01.7 -148.8197649  0.632330444     4             \n",
      "1260  2402    0:01.7 -147.3993753  0.629370629     4             \n",
      "1280  2454    0:01.9 -145.9951502  0.623174294     6             \n",
      "1300  2484    0:01.9 -144.6500716  0.623800384     6             \n",
      "1320  2518    0:01.9 -143.3242745  0.623229462     6             \n",
      "1340  2560    0:01.9 -142.2554973  0.62037037      6             \n",
      "1360  2616    0:01.9 -140.9482226  0.613718412     6             \n",
      "1380  2660    0:02.0 -139.8733974  0.610619469     6             \n",
      "1400  2702    0:02.3 -138.6808736  0.608166811     7             \n",
      "1420  2740    0:02.6 -137.5390077  0.606837607     6             \n",
      "1440  2770    0:02.7 -136.4347159  0.607594937     6             \n",
      "1460  2822    0:02.7 -135.0290096  0.602807597     6             \n",
      "1480  2866    0:02.7 -133.6268251  0.600162206     6             \n",
      "1500  2903    0:02.9 -131.8115553  0.599280863     3             \n",
      "1520  2940    0:02.9 -130.2353408  0.598425197     3             \n",
      "1540  3003    0:02.9 -128.3942977  0.591625048     3             \n",
      "1560  3047    0:03.0 -126.8393067  0.58934643      3             \n",
      "1580  3109    0:03.0 -147.389916   0.583241048     3             \n",
      "1600  3142    0:03.4 -145.7780794  0.583515681984  6             \n",
      "1620  3168    0:03.5 -144.5376314  0.585260116     6             \n",
      "1640  3200    0:03.5 -172.3787774  0.585714286     6             \n",
      "1660  3235    0:03.5 -170.9555157  0.585537919     6             \n",
      "1680  3274    0:03.5 -168.764782   0.584551148     6             \n",
      "1700  3305    0:03.5 -167.1448837  0.585197935     6             \n",
      "1720  3344    0:03.5 -165.9201803  0.58423913      6             \n",
      "1740  3393    0:03.6 -164.4602364  0.581356498     6             \n",
      "1760  3432    0:03.6 -162.9709437  0.580474934     6             \n",
      "1780  3480    0:03.6 -161.5895482  0.577922078     6             \n",
      "1800  3517    0:04.3 -160.2005964  0.577478345     7             \n",
      "1820  3555    0:04.3 -158.4434793  0.576862124     7             \n",
      "1840  3588    0:04.5 -156.8891594  0.577164366     6             \n",
      "1860  3619    0:04.5 -155.4774887  0.577819199     6             \n",
      "1880  3651    0:04.5 -153.8413872  0.578283605     6             \n",
      "1900  3699    0:04.5 -152.3092159  0.575932101     6             \n",
      "1920  3726    0:04.5 -150.9225349  0.577269994     6             \n",
      "1940  3771    0:04.7 -149.8007874  0.575496885     5             \n",
      "1960  3814    0:04.8 -148.3141674  0.57410662      5             \n",
      "1980  3847    0:05.0 -154.2540785  0.574412533     7             \n",
      "2000  3878    0:05.5 -152.7112368  0.575043128     5             \n",
      "2020  3912    0:05.5 -154.4859701  0.575170843     5             \n",
      "2040  3945    0:05.5 -152.7573832  0.575458392     5             \n",
      "2060  3983    0:05.6 -150.7610639  0.574937203     5             \n",
      "2080  4012    0:05.6 -148.8839162  0.57585825      5             \n",
      "2100  4058    0:05.6 -147.3246871  0.574084199     5             \n",
      "2120  4109    0:05.6 -145.9814147  0.571582637     5             \n"
     ]
    },
    {
     "name": "stdout",
     "output_type": "stream",
     "text": [
      "2140  4151    0:05.8 -144.6340292  0.570514529     6             \n",
      "2160  4191    0:05.8 -142.9610051  0.569770509     6             \n",
      "2180  4217    0:05.9 -141.5431136  0.571129159     6             \n",
      "2200  4253    0:06.1 -140.1376662  0.570983649     6             \n",
      "2220  4283    0:06.1 -138.7357438  0.571722895     6             \n",
      "2240  4312    0:06.2 -137.226999   0.572597137     6             \n",
      "2260  4348    0:06.2 -135.4092983  0.572441743     6             \n",
      "2280  4389    0:06.2 -133.9182468  0.571571823     6             \n",
      "2300  4420    0:06.4 -132.2646028  0.572139303     5             \n",
      "2320  4451    0:06.4 -130.8692556  0.572698099     5             \n",
      "2340  4491    0:06.4 -129.2487388  0.571987289     5             \n",
      "2360  4524    0:06.4 -127.8789804  0.572259942     5             \n",
      "2380  4565    0:06.5 -126.6361765  0.571428571     5             \n",
      "2400  4608    0:06.6 -125.3832423  0.570342205     6             \n",
      "2420  4643    0:06.6 -124.0546241  0.570351167     6             \n",
      "2440  4677    0:06.6 -122.6711107  0.570493336     6             \n",
      "2460  4716    0:06.6 -121.1674906  0.569972196     6             \n",
      "2480  4757    0:06.7 -119.8669835  0.56919899      1             \n",
      "2500  4782    0:06.8 -118.4723769  0.570515746     1             \n",
      "2520  4815    0:06.8 -117.1083527  0.570781427     1             \n",
      "2540  4842    0:06.8 -116.0790138  0.571814498     1             \n",
      "2560  4878    0:06.8 -114.6722513  0.571683787     1             \n",
      "2580  4912    0:06.8 -113.0862375  0.571808511     1             \n",
      "2600  4949    0:07.5 -111.5778535  0.571554188     6             \n",
      "2620  4976    0:07.5 -109.9842336  0.572552448     6             \n",
      "2640  5006    0:07.5 -107.982861   0.573165436     6             \n",
      "2660  5042    0:07.5 -106.6055049  0.573028867     6             \n",
      "2680  5070    0:07.9 -105.1504528  0.573875803     5             \n",
      "2700  5102    0:07.9 -104.0089877  0.574223734581  5             \n",
      "2720  5147    0:08.0 -102.9005763  0.57299347      5             \n",
      "2740  5188    0:08.0 -101.8444016  0.572263993     5             \n",
      "2760  5229    0:08.0 -100.4100689  0.571546904     5             \n",
      "2780  5268    0:08.0 -99.17170741  0.571076417     5             \n",
      "2800  5314    0:08.3 -97.87888143  0.56980057      7             \n",
      "2820  5344    0:09.3 -96.45265401  0.57038835      6             \n",
      "2840  5370    0:09.3 -94.83327219  0.571428571     6             \n",
      "2860  5394    0:09.4 -93.59396244  0.572687225     1             \n",
      "2880  5420    0:09.4 -92.37945586  0.573705179     1             \n",
      "2900  5446    0:09.5 -90.88463399  0.574712644     1             \n",
      "2920  5474    0:09.5 -89.67061346  0.575482854     1             \n",
      "2940  5503    0:09.5 -88.42086612  0.576131687     1             \n",
      "2960  5534    0:09.5 -87.18491476  0.5765485       1             \n",
      "2980  5571    0:09.5 -85.94816344  0.576290853     1             \n",
      "3000  5600    0:09.7 -84.50517285  0.576923077     1             \n",
      "3020  5624    0:09.7 -83.30640048  0.578101072     1             \n",
      "3040  5650    0:09.7 -82.36048178  0.579047619     1             \n",
      "3060  5673    0:09.7 -81.32408383  0.580314811     1             \n",
      "3080  5696    0:09.7 -81.73955294  0.581570997     1             \n",
      "3100  5724    0:09.7 -80.4139205   0.582268971     1             \n",
      "3120  5753    0:09.7 -79.08316776  0.582850737904  1             \n",
      "3140  5783    0:09.7 -78.00394527  0.583317852     1             \n",
      "3160  5807    0:09.8 -76.6922534   0.584427594     1             \n",
      "3180  5836    0:09.8 -75.31643364  0.584988962     1             \n",
      "3200  5867    0:10.4 -74.18500582  0.585330162795  5             \n",
      "3220  5896    0:10.4 -72.99564523  0.58588064      5             \n",
      "3240  5930    0:10.4 -71.72681263  0.585895118     5             \n",
      "3260  5967    0:10.4 -70.22426277  0.585593677     5             \n",
      "3280  6003    0:10.4 -68.97905837  0.585400678     5             \n",
      "3300  6031    0:10.5 -67.92022447  0.586041556     1             \n",
      "3320  6055    0:10.5 -66.88080003  0.58709107      1             \n",
      "3340  6079    0:10.5 -65.86920786  0.588131713     1             \n",
      "3360  6106    0:10.5 -64.82296826  0.588853838     1             \n",
      "3380  6128    0:10.6 -63.75507577  0.590083799     1             \n",
      "3400  6157    0:10.6 -62.36916828  0.590585374     1             \n",
      "3420  6180    0:10.7 -61.029873    0.591695502     1             \n",
      "3440  6203    0:10.7 -59.78743637  0.592796829     1             \n",
      "3460  6228    0:10.7 -58.68322874  0.593685655     1             \n",
      "3480  6253    0:10.7 -57.78076907  0.594566888775  1             \n",
      "3500  6281    0:10.7 -56.72100257  0.595136881     1             \n",
      "3520  6306    0:10.7 -55.50187488  0.596004064     1             \n",
      "3540  6335    0:10.7 -54.24054155  0.596461668     1             \n",
      "3560  6367    0:10.7 -53.07015544  0.596614714     1             \n",
      "3580  6394    0:10.8 -51.79212736  0.597263931     1             \n",
      "3600  6429    0:11.4 -50.8920799   0.597113949     6             \n",
      "3620  6464    0:11.4 -49.94036378  0.596965699     6             \n",
      "3640  6489    0:11.4 -49.07261542  0.59779931      1             \n",
      "3660  6516    0:11.5 -48.17288041  0.598430347     1             \n",
      "3680  6545    0:11.5 -47.19173145  0.598860862     1             \n",
      "3700  6569    0:11.5 -46.22078359  0.599773059     1             \n",
      "3720  6605    0:11.5 -44.91917761  0.599516519     1             \n",
      "3740  6639    0:11.5 -43.92227136  0.599455041     1             \n",
      "3760  6673    0:11.5 -43.0362835   0.599394229     1             \n",
      "3780  6704    0:11.6 -42.10990628  0.599619289     1             \n",
      "3800  6732    0:11.6 -41.13700567  0.600126342     1             \n",
      "3820  6755    0:11.7 -40.09446053  0.601101495     1             \n",
      "3840  6778    0:11.7 -39.12187325  0.602069614     1             \n",
      "3860  6807    0:11.7 -38.14054335  0.602466053     1             \n",
      "3880  6837    0:11.7 -37.28252721  0.602765263     1             \n",
      "3900  6868    0:11.7 -36.49450131  0.60296846      1             \n",
      "3920  6899    0:11.7 -35.66598179  0.603169718     1             \n",
      "3940  6929    0:11.7 -34.85917423  0.60346148      1             \n",
      "3960  6960    0:11.7 -34.00900778  0.603658537     1             \n",
      "3980  6988    0:11.8 -33.21800125  0.604128719     1             \n",
      "4000  7026    0:11.8 -32.49309861  0.603682463     1             \n",
      "4020  7049    0:11.9 -31.86257201  0.604602196     1             \n",
      "4040  7074    0:11.9 -31.26247318  0.605334132     1             \n",
      "4060  7101    0:11.9 -30.55283125  0.605879719     1             \n",
      "4080  7125    0:11.9 -29.69839941  0.60669145      1             \n",
      "4100  7153    0:11.9 -28.89485791  0.607137568     1             \n",
      "4120  7189    0:11.9 -28.13989511  0.606864045     1             \n",
      "4140  7221    0:11.9 -27.40289469  0.606949128     1             \n",
      "4160  7259    0:12.0 -26.71769945  0.606502406     1             \n",
      "4180  7305    0:12.0 -26.04514271  0.605358435916  1             \n",
      "4200  7345    0:12.0 -25.44747291  0.60475162      1             \n",
      "4220  7367    0:12.1 -24.77612615  0.605712645328  1             \n",
      "4240  7389    0:12.1 -24.15786375  0.606667621     1             \n",
      "4260  7419    0:12.1 -23.56398676  0.606924063     1             \n",
      "4280  7448    0:12.1 -22.83192627  0.607264472     1             \n",
      "4300  7477    0:12.1 -22.06004041  0.607602091     1             \n",
      "4320  7517    0:12.1 -21.29663977  0.60699733      1             \n",
      "4340  7558    0:12.1 -20.67913336  0.606314613     1             \n",
      "4360  7599    0:12.2 -20.12232068  0.605639672     1             \n",
      "4380  7631    0:12.2 -19.62713703  0.605725349191  1             \n",
      "4400  7665    0:12.4 -19.14016834  0.605643496     1             \n",
      "4420  7690    0:12.4 -18.63103004  0.606310014     1             \n",
      "4440  7716    0:12.4 -18.10462363  0.60688901      1             \n",
      "4460  7744    0:12.4 -17.62501124  0.607298475     1             \n",
      "4480  7767    0:12.4 -17.17746475  0.60811728      1             \n",
      "4500  7792    0:12.4 -16.71878136  0.608766234     1             \n",
      "4520  7830    0:12.4 -16.28344863  0.608344549     1             \n",
      "4540  7867    0:12.5 -15.84355761  0.608008571     1             \n",
      "4560  7896    0:12.5 -15.39031721  0.60832444      1             \n",
      "4580  7930    0:12.5 -14.96122682  0.608233732     1             \n",
      "4600  7968    0:12.5 -14.54893522  0.607822410148  1             \n",
      "4620  7990    0:12.6 -14.1213542   0.608695652     1             \n"
     ]
    },
    {
     "name": "stdout",
     "output_type": "stream",
     "text": [
      "4640  8020    0:12.6 -13.71222083  0.608923885     1             \n",
      "4660  8044    0:12.6 -13.32901627  0.609628467     1             \n",
      "4680  8075    0:12.6 -12.94091835  0.609771987     1             \n",
      "4700  8101    0:12.6 -12.55595816  0.610310349     1             \n",
      "4720  8133    0:12.6 -12.18235605  0.610371137     1             \n",
      "4740  8164    0:12.6 -11.82596638  0.610510046     1             \n",
      "4760  8203    0:12.7 -11.49781435  0.610021786     1             \n",
      "4780  8232    0:12.7 -11.18090102  0.61031665      1             \n",
      "4800  8264    0:12.7 -10.87298194  0.610376399     1             \n",
      "4820  8287    0:12.7 -10.57739762  0.611132243     1             \n",
      "4840  8313    0:12.8 -10.28223545  0.611651712372  1             \n",
      "4860  8340    0:12.8 -9.993279815  0.61209068      1             \n",
      "4880  8368    0:12.8 -9.722011086  0.612449799     1             \n",
      "4900  8397    0:12.8 -9.4509225    0.612729774     1             \n",
      "4920  8427    0:12.8 -9.189302861  0.612931357     1             \n",
      "4940  8452    0:12.8 -8.933916131  0.613512171     1             \n",
      "4960  8489    0:12.8 -8.687895801  0.61317839      1             \n",
      "4980  8524    0:12.8 -8.435769362  0.612998523     1             \n",
      "5000  8553    0:12.9 -8.182136761  0.613271189     1             \n",
      "5020  8581    0:12.9 -7.989624064  0.613616917     1             \n",
      "5040  8609    0:12.9 -7.752252612  0.613960287     1             \n",
      "5060  8638    0:12.9 -7.519227859  0.614226754     1             \n",
      "5080  8661    0:13.0 -7.290129402  0.614937659     1             \n",
      "5100  8688    0:13.0 -7.053805617  0.61534749      1             \n",
      "5120  8714    0:13.0 -6.82891213   0.615828723     1             \n",
      "5140  8747    0:13.0 -6.610660832  0.615790104     1             \n",
      "5160  8781    0:13.0 -6.398189425  0.61567832      1             \n",
      "5180  8816    0:13.0 -6.190472861  0.615494297     1             \n",
      "5200  8853    0:13.1 -5.995617656  0.615166213     1             \n",
      "5220  8877    0:13.1 -5.803094035  0.615783886     1             \n",
      "5240  8906    0:13.1 -5.616029226  0.616035739478  1             \n",
      "5260  8930    0:13.1 -5.43350104   0.616647128     1             \n",
      "5280  8956    0:13.2 -5.255264781  0.617110799439  1             \n",
      "5300  8988    0:13.2 -5.078823569  0.617140196     1             \n",
      "5320  9019    0:13.2 -4.908328945  0.617240979     1             \n",
      "5340  9045    0:13.2 -4.74154395   0.617698091     1             \n",
      "5360  9085    0:13.2 -4.574753877  0.617156016     1             \n",
      "5380  9122    0:13.2 -4.409781187  0.616831002     1             \n",
      "5400  9165    0:13.4 -4.249777687  0.616086708     1             \n",
      "5420  9193    0:13.4 -4.098237371  0.616399409     1             \n",
      "5440  9217    0:13.4 -3.951541842  0.616989906     1             \n",
      "5460  9239    0:13.4 -3.810347491  0.617716936305  1             \n",
      "5480  9267    0:13.5 -3.673590484  0.618021879     1             \n",
      "5500  9292    0:13.5 -3.544155928  0.618533513     1             \n",
      "5520  9324    0:13.5 -3.419804089  0.618556701     1             \n",
      "5540  9350    0:13.5 -3.298538575  0.618994413     1             \n",
      "5560  9382    0:13.5 -3.18328453   0.619015809     1             \n",
      "5580  9423    0:13.5 -3.070160093  0.618419594     1             \n",
      "5600  9458    0:13.7 -3.008532696  0.618238022     1             \n",
      "5620  9482    0:13.7 -2.900623545  0.61880643      1             \n",
      "5640  9505    0:13.8 -2.79495956   0.619439868     1             \n",
      "5660  9531    0:13.8 -2.693057185  0.619866389     1             \n",
      "5680  9560    0:13.8 -2.593607309  0.620087336     1             \n",
      "5700  9586    0:13.8 -2.497237484  0.620509470934  1             \n",
      "5720  9618    0:13.8 -2.404034566  0.62052506      1             \n",
      "5740  9642    0:13.8 -2.313740471  0.621077689     1             \n",
      "5760  9686    0:13.8 -2.226059029  0.620288607     1             \n",
      "5780  9730    0:13.8 -2.139883903  0.619506967     1             \n",
      "5800  9761    0:13.9 -2.0560793    0.619591924     1             \n",
      "5820  9782    0:13.9 -1.974555637  0.620336815178  1             \n",
      "5840  9805    0:14.0 -1.894885998  0.620946305     1             \n",
      "5860  9829    0:14.0 -1.816998988  0.621486902     1             \n",
      "5880  9856    0:14.0 -1.741696972  0.621827411     1             \n",
      "5900  9887    0:14.0 -1.669024129  0.621903658     1             \n",
      "5920  9924    0:14.0 -1.598350644  0.621587568     1             \n",
      "5940  9953    0:14.0 -1.52969236   0.621794201     1             \n",
      "5960  9988    0:14.0 -1.46321341   0.621610346     1             \n",
      "5980  10023   0:14.0 -1.399052338  0.621427829     1             \n",
      "6000  10057   0:14.2 -1.337103455  0.621310966     1             \n",
      "6020  10090   0:14.3 -1.277162323  0.62125903      1             \n",
      "6040  10117   0:14.3 -1.219378079  0.621591026     1             \n",
      "6060  10142   0:14.3 -1.163720645  0.622048861     1             \n",
      "6080  10172   0:14.3 -1.110053382  0.622185837     1             \n",
      "6100  10203   0:14.3 -1.058618291  0.622258492     1             \n",
      "6120  10236   0:14.3 -1.009309805  0.622204148     1             \n",
      "6140  10262   0:14.4 -0.961896     0.622591766376  1             \n",
      "6160  10307   0:14.4 -0.916317     0.621782578     1             \n",
      "6180  10355   0:14.4 -0.872643     0.620793571     1             \n",
      "6200  10390   0:14.6 -0.830891     0.620620621     1             \n",
      "6220  10410   0:14.6 -0.790863     0.621378621     1             \n",
      "6240  10431   0:14.6 -0.752576     0.622071578     1             \n",
      "6260  10456   0:14.6 -0.715948     0.622513922     1             \n",
      "6280  10481   0:14.6 -0.681014638  0.622954072     1             \n",
      "6300  10511   0:14.6 -0.647672     0.62308377      1             \n",
      "6320  10537   0:14.6 -0.615852     0.623458617     1             \n",
      "6340  10568   0:14.7 -0.585513     0.623524784     1             \n",
      "6360  10601   0:14.7 -0.556592     0.623468287     1             \n",
      "6380  10634   0:14.7 -0.52897      0.623412156     1             \n",
      "6400  10668   0:15.3 -0.502659     0.623295676     6             \n",
      "Convergence obtained with Delta_z = -0.4988260236457336\n",
      "Done!\n"
     ]
    }
   ],
   "source": [
    "samples = sampler.run()\n",
    "print('Done!')"
   ]
  },
  {
   "cell_type": "markdown",
   "metadata": {},
   "source": [
    "## Plot posterior samples versus true parameter values (dashed lines)"
   ]
  },
  {
   "cell_type": "code",
   "execution_count": 4,
   "metadata": {},
   "outputs": [
    {
     "data": {
      "image/png": "[encoded data removed]",
      "text/plain": [
       "<Figure size 432x432 with 3 Axes>"
      ]
     },
     "metadata": {
      "needs_background": "light"
     },
     "output_type": "display_data"
    }
   ],
   "source": [
    "# Plot output\n",
    "import pints.plot\n",
    "\n",
    "pints.plot.histogram([samples], ref_parameters=real_parameters)\n",
    "\n",
    "plt.show()"
   ]
  },
  {
   "cell_type": "markdown",
   "metadata": {},
   "source": [
    "## Plot posterior predictive simulations versus the observed data"
   ]
  },
  {
   "cell_type": "code",
   "execution_count": 5,
   "metadata": {},
   "outputs": [
    {
     "data": {
      "image/png": "[encoded data removed]",
      "text/plain": [
       "<Figure size 576x216 with 1 Axes>"
      ]
     },
     "metadata": {
      "needs_background": "light"
     },
     "output_type": "display_data"
    }
   ],
   "source": [
    "pints.plot.series(samples[:100], problem)\n",
    "plt.show()"
   ]
  },
  {
   "cell_type": "markdown",
   "metadata": {},
   "source": [
    "## Marginal likelihood estimate"
   ]
  },
  {
   "cell_type": "code",
   "execution_count": 6,
   "metadata": {},
   "outputs": [
    {
     "name": "stdout",
     "output_type": "stream",
     "text": [
      "marginal log-likelihood = -381.67707063497056 ± 0.08263040269702093\n"
     ]
    }
   ],
   "source": [
    "print('marginal log-likelihood = ' + str(sampler.marginal_log_likelihood())\n",
    "      + ' ± ' + str(sampler.marginal_log_likelihood_standard_deviation()))"
   ]
  },
  {
   "cell_type": "markdown",
   "metadata": {},
   "source": [
    "## Effective sample size"
   ]
  },
  {
   "cell_type": "code",
   "execution_count": 7,
   "metadata": {},
   "outputs": [
    {
     "name": "stdout",
     "output_type": "stream",
     "text": [
      "effective sample size = 1647.260225300798\n"
     ]
    }
   ],
   "source": [
    "print('effective sample size = ' + str(sampler.effective_sample_size()))"
   ]
  },
  {
   "cell_type": "markdown",
   "metadata": {},
   "source": [
    "# Egg box problem"
   ]
  },
  {
   "cell_type": "code",
   "execution_count": 8,
   "metadata": {},
   "outputs": [],
   "source": [
    "class ExampleToy(pints.LogPDF):\n",
    "    def __init__(self, sigma, r):\n",
    "        self._sigma = sigma\n",
    "        self._r = r\n",
    "        self._log_toy = pints.toy.SimpleEggBoxLogPDF(self._sigma, self._r)\n",
    "\n",
    "    def __call__(self, x):\n",
    "        x1 = np.copy(x)\n",
    "        x1[0] = -15 + 30 * x[0]\n",
    "        x1[1] = -15 + 30 * x[1]\n",
    "        return self._log_toy(x1)\n",
    "\n",
    "    def n_parameters(self):\n",
    "        return 2"
   ]
  },
  {
   "cell_type": "code",
   "execution_count": 9,
   "metadata": {},
   "outputs": [],
   "source": [
    "log_pdf = ExampleToy(2, 4)\n",
    "log_prior = pints.UniformLogPrior(\n",
    "    [0.0, 0.0],\n",
    "    [1.0, 1.0])"
   ]
  },
  {
   "cell_type": "code",
   "execution_count": 10,
   "metadata": {},
   "outputs": [],
   "source": [
    "sampler = pints.NestedController(log_pdf, log_prior, method=pints.MultinestSampler)\n",
    "\n",
    "# Set number of iterations\n",
    "sampler.set_iterations(1000)\n",
    "\n",
    "# Set the number of posterior samples to generate\n",
    "sampler.set_n_posterior_samples(500)\n",
    "\n",
    "sampler._sampler.set_f_s_threshold(1.3)"
   ]
  },
  {
   "cell_type": "code",
   "execution_count": 11,
   "metadata": {},
   "outputs": [
    {
     "name": "stdout",
     "output_type": "stream",
     "text": [
      "Running MultiNest sampler\n",
      "Number of active points: 400\n",
      "Total number of iterations: 1000\n",
      "Total number of posterior samples: 500\n",
      "Iter. Eval. Time m:s Delta_log(z) Acceptance rate Ellipsoid count\n",
      "0     1       0:00.0 -inf          1               0             \n",
      "0     2       0:00.0 -inf          1               0             \n",
      "0     21      0:00.0 -inf          1               0             \n",
      "0     41      0:00.0 -inf          1               0             \n",
      "0     61      0:00.0 -inf          1               0             \n",
      "0     81      0:00.0 -inf          1               0             \n",
      "0     101     0:00.0 -inf          1               0             \n",
      "0     121     0:00.0 -inf          1               0             \n",
      "0     141     0:00.0 -inf          1               0             \n",
      "0     161     0:00.0 -inf          1               0             \n",
      "0     181     0:00.0 -inf          1               0             \n",
      "0     201     0:00.0 -inf          1               0             \n",
      "0     221     0:00.0 -inf          1               0             \n",
      "0     241     0:00.0 -inf          1               0             \n",
      "0     261     0:00.0 -inf          1               0             \n",
      "0     281     0:00.0 -inf          1               0             \n",
      "0     301     0:00.0 -inf          1               0             \n",
      "0     321     0:00.0 -inf          1               0             \n",
      "0     341     0:00.1 -inf          1               0             \n",
      "0     361     0:00.1 -inf          1               0             \n",
      "0     381     0:00.1 -inf          1               0             \n",
      "1     401     0:00.1 -inf          1               0             \n",
      "20    420     0:00.1 -26.41162903  1               0             \n",
      "40    441     0:00.1 -22.75789861  0.975609756     0             \n",
      "60    461     0:00.1 -20.61866844  0.983606557377  0             \n",
      "80    483     0:00.1 -19.20301442  0.963855422     0             \n",
      "100   503     0:00.1 -18.04934409  0.970873786     0             \n",
      "120   528     0:00.1 -16.98693483  0.9375          0             \n",
      "140   551     0:00.1 -16.12497207  0.927152318     0             \n",
      "160   578     0:00.1 -15.4087572   0.898876404     0             \n",
      "180   612     0:00.1 -14.73946844  0.849056604     0             \n",
      "200   647     0:00.3 -14.1018514   0.809716599     4             \n",
      "220   667     0:01.2 -13.47569026  0.823970037     4             \n",
      "240   693     0:02.4 -12.87542685  0.819112628     4             \n",
      "260   722     0:03.7 -12.36511764  0.807453416     4             \n",
      "280   745     0:04.7 -11.86445249  0.811594203     4             \n",
      "300   769     0:05.8 -11.3700603   0.81300813      4             \n",
      "320   794     0:07.0 -10.88449723  0.812182741     4             \n",
      "340   820     0:08.4 -10.42799349  0.80952381      4             \n",
      "360   843     0:09.9 -10.00859643  0.812641084     5             \n",
      "380   871     0:11.6 -9.554744003  0.806794055     4             \n",
      "400   895     0:13.0 -9.084411162  0.808080808     4             \n",
      "420   920     0:14.4 -8.647298843  0.807692308     4             \n",
      "440   941     0:15.6 -8.242139726  0.813308688     5             \n",
      "460   964     0:16.7 -7.865098967  0.815602837     5             \n",
      "480   985     0:17.6 -7.520220113  0.820512821     4             \n",
      "500   1008    0:18.7 -7.205301625  0.822368421     4             \n",
      "520   1030    0:19.6 -6.892417825  0.825396825     4             \n",
      "540   1051    0:20.7 -6.590351899  0.829493088     4             \n",
      "560   1072    0:21.8 -6.302623203  0.833333333     4             \n",
      "580   1094    0:22.9 -6.024175906  0.835734870317  4             \n",
      "600   1116    0:23.9 -5.755991204  0.837988827     5             \n",
      "620   1138    0:24.8 -5.488821615  0.840108401084  4             \n",
      "640   1162    0:25.7 -5.219121269  0.839895013     4             \n",
      "660   1186    0:26.7 -4.973452734  0.839694656     4             \n",
      "680   1208    0:27.8 -4.736136883  0.841584158     4             \n",
      "700   1231    0:28.8 -4.512622614  0.842358604     4             \n",
      "720   1255    0:29.9 -4.303094054  0.842105263     4             \n",
      "740   1278    0:31.0 -4.099379205  0.842824601     4             \n",
      "760   1300    0:32.0 -3.904571246  0.844444444     4             \n",
      "780   1321    0:32.9 -3.712211334  0.846905537     4             \n",
      "800   1344    0:34.1 -3.526852453  0.847457627     4             \n",
      "820   1367    0:35.1 -3.350656305  0.847983454     4             \n",
      "840   1390    0:36.2 -3.183281665  0.848484848     4             \n",
      "860   1413    0:37.3 -3.025626727  0.848963475     4             \n",
      "880   1435    0:38.3 -2.873716244  0.850241546     4             \n",
      "900   1461    0:39.4 -2.72966556   0.848256362     4             \n",
      "920   1486    0:40.6 -2.592280948  0.847145488     4             \n",
      "940   1512    0:41.8 -2.46101726   0.845323741     4             \n",
      "960   1537    0:42.8 -2.334967198  0.844327176781  4             \n",
      "980   1560    0:43.9 -2.214066462  0.844827586     4             \n",
      "1000  1585    0:45.1 -2.09941242   0.843881857     4             \n",
      "Done!\n"
     ]
    }
   ],
   "source": [
    "samples = sampler.run()\n",
    "print('Done!')"
   ]
  },
  {
   "cell_type": "code",
   "execution_count": 12,
   "metadata": {},
   "outputs": [
    {
     "data": {
      "image/png": "[encoded data removed]",
      "text/plain": [
       "<Figure size 432x288 with 1 Axes>"
      ]
     },
     "metadata": {
      "needs_background": "light"
     },
     "output_type": "display_data"
    }
   ],
   "source": [
    "sigma = 2\n",
    "r = 4\n",
    "log_pdf = pints.toy.SimpleEggBoxLogPDF(sigma, r)\n",
    "\n",
    "# Contour plot of pdf\n",
    "levels = np.linspace(-100, 0, 20)\n",
    "x = np.linspace(-15, 15, 100)\n",
    "y = np.linspace(-15, 15, 100)\n",
    "X, Y = np.meshgrid(x, y)\n",
    "Z = [[np.exp(log_pdf([i, j])) for i in x] for j in y]\n",
    "\n",
    "plt.figure()\n",
    "plt.contour(X, Y, Z, colors='k')\n",
    "plt.scatter(-15 + 30 * samples[:, 0], -15 + 30 * samples[:, 1], marker='.')\n",
    "plt.xlim(-15, 15)\n",
    "plt.ylim(-15, 15)\n",
    "plt.show()"
   ]
  },
  {
   "cell_type": "code",
   "execution_count": 13,
   "metadata": {},
   "outputs": [
    {
     "name": "stdout",
     "output_type": "stream",
     "text": [
      "effective sample size = 645.1158877755244\n"
     ]
    }
   ],
   "source": [
    "print('effective sample size = ' + str(sampler.effective_sample_size()))"
   ]
  },
  {
   "cell_type": "code",
   "execution_count": 14,
   "metadata": {},
   "outputs": [
    {
     "name": "stdout",
     "output_type": "stream",
     "text": [
      "marginal log-likelihood = -5.473552541338521 ± 0.06853577670167273\n"
     ]
    }
   ],
   "source": [
    "print('marginal log-likelihood = ' + str(sampler.marginal_log_likelihood())\n",
    "      + ' ± ' + str(sampler.marginal_log_likelihood_standard_deviation()))"
   ]
  }
 ],
 "metadata": {
  "kernelspec": {
   "display_name": "Python 3",
   "language": "python",
   "name": "python3"
  },
  "language_info": {
   "codemirror_mode": {
    "name": "ipython",
    "version": 3
   },
   "file_extension": ".py",
   "mimetype": "text/x-python",
   "name": "python",
   "nbconvert_exporter": "python",
   "pygments_lexer": "ipython3",
   "version": "3.9.2"
  }
 },
 "nbformat": 4,
 "nbformat_minor": 2
}
