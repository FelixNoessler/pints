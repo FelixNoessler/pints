{
 "cells": [
  {
   "cell_type": "markdown",
   "metadata": {},
   "source": [
    "# MultiNest sampling\n",
    "\n",
    "This example demonstrates how to use MultiNest sampling [1] to sample from the posterior distribution for a logistic model fitted to model-simulated data.\n",
    "\n",
    "[1] \"MultiNest: an efficient and robust Bayesian inference tool for cosmology and particle physics.\"\n",
    "Feroz, F., M. P. Hobson, and M. Bridges. Monthly Notices of the Royal Astronomical Society 398.4 (2009): 1601-1614."
   ]
  },
  {
   "cell_type": "markdown",
   "metadata": {},
   "source": [
    "First create fake data."
   ]
  },
  {
   "cell_type": "code",
   "execution_count": 1,
   "metadata": {},
   "outputs": [
    {
     "name": "stderr",
     "output_type": "stream",
     "text": [
      "pints/__init__.py:234: UserWarning: No-U-Turn sampler unsupported for Python version < 3.3\n",
      "  warnings.warn('No-U-Turn sampler unsupported for Python version < 3.3')\n"
     ]
    }
   ],
   "source": [
    "import os\n",
    "os.chdir(\"../..\")\n",
    "import pints\n",
    "import pints.toy as toy\n",
    "import numpy as np\n",
    "import matplotlib.pyplot as plt\n",
    "\n",
    "model = toy.LogisticModel()\n",
    "\n",
    "# Create some toy data\n",
    "real_parameters = [0.015, 500]\n",
    "times = np.linspace(0, 1000, 100)\n",
    "org_values = model.simulate(real_parameters, times)\n",
    "\n",
    "# Add noise\n",
    "noise = 10\n",
    "values = org_values + np.random.normal(0, noise, org_values.shape)\n",
    "real_parameters = np.array(real_parameters + [noise])\n",
    "\n",
    "# Get properties of the noise sample\n",
    "noise_sample_mean = np.mean(values - org_values)\n",
    "noise_sample_std = np.std(values - org_values)\n",
    "\n",
    "# Create an object with links to the model and time series\n",
    "problem = pints.SingleOutputProblem(model, times, values)\n",
    "\n",
    "# Create a log-likelihood function (adds an extra parameter!)\n",
    "log_likelihood = pints.GaussianLogLikelihood(problem)\n",
    "\n",
    "# Create a uniform prior over both the parameters and the new noise variable\n",
    "log_prior = pints.UniformLogPrior(\n",
    "    [0.01, 400, noise*0.1],\n",
    "    [0.02, 600, noise*100]\n",
    ")\n",
    "\n",
    "# Create a posterior log-likelihood (log(likelihood * prior))\n",
    "log_posterior = pints.LogPosterior(log_likelihood, log_prior)"
   ]
  },
  {
   "cell_type": "markdown",
   "metadata": {},
   "source": [
    "Create the nested sampler that will be used to sample from the posterior."
   ]
  },
  {
   "cell_type": "code",
   "execution_count": 17,
   "metadata": {
    "collapsed": true
   },
   "outputs": [],
   "source": [
    "# Create a nested ellipsoidal rejectection sampler\n",
    "sampler = pints.NestedController(log_likelihood, log_prior, method=pints.MultinestSampler)\n",
    "\n",
    "# Set number of iterations\n",
    "sampler.set_iterations(8000)\n",
    "\n",
    "# Set the number of posterior samples to generate\n",
    "sampler.set_n_posterior_samples(1600)\n",
    "\n",
    "sampler._sampler.set_f_s_threshold(4)"
   ]
  },
  {
   "cell_type": "markdown",
   "metadata": {},
   "source": [
    "Run the sampler!"
   ]
  },
  {
   "cell_type": "code",
   "execution_count": 18,
   "metadata": {},
   "outputs": [
    {
     "name": "stdout",
     "output_type": "stream",
     "text": [
      "Running MultiNest sampler\n",
      "Number of active points: 400\n",
      "Total number of iterations: 8000\n",
      "Total number of posterior samples: 1600\n",
      "Iter. Eval. Time m:s Delta_log(z) Acceptance rate Ellipsoid count\n",
      "0     1       0:00.0 -inf          1               0             \n",
      "0     2       0:00.0 -inf          1               0             \n",
      "0     21      0:00.0 -inf          1               0             \n",
      "0     41      0:00.0 -inf          1               0             \n",
      "0     61      0:00.0 -inf          1               0             \n",
      "0     81      0:00.0 -inf          1               0             \n",
      "0     101     0:00.0 -inf          1               0             \n",
      "0     121     0:00.0 -inf          1               0             \n",
      "0     141     0:00.0 -inf          1               0             \n",
      "0     161     0:00.0 -inf          1               0             \n",
      "0     181     0:00.0 -inf          1               0             \n",
      "0     201     0:00.0 -inf          1               0             \n",
      "0     221     0:00.0 -inf          1               0             \n",
      "0     241     0:00.0 -inf          1               0             \n",
      "0     261     0:00.0 -inf          1               0             \n",
      "0     281     0:00.0 -inf          1               0             \n",
      "0     301     0:00.0 -inf          1               0             \n",
      "0     321     0:00.0 -inf          1               0             \n",
      "0     341     0:00.0 -inf          1               0             \n",
      "0     361     0:00.1 -inf          1               0             \n",
      "0     381     0:00.1 -inf          1               0             \n",
      "1     401     0:00.1 -inf          1               0             \n",
      "20    421     0:00.1 -319.8217396  0.952380952381  0             \n",
      "40    441     0:00.1 -314.0483136  0.975609756     0             \n",
      "60    463     0:00.1 -309.2573399  0.952380952381  0             \n",
      "80    486     0:00.1 -303.6754565  0.930232558     0             \n",
      "100   515     0:00.1 -296.6796123  0.869565217     0             \n",
      "120   544     0:00.1 -293.4311161  0.833333333     0             \n",
      "140   573     0:00.1 -285.305292   0.809248555     0             \n",
      "160   598     0:00.2 -280.6248466  0.808080808     0             \n",
      "180   635     0:00.2 -276.1283741  0.765957447     0             \n",
      "200   670     0:00.9 -272.098018   0.740740741     5             \n",
      "220   702     0:01.0 -268.5914188  0.728476821     5             \n",
      "240   732     0:01.0 -265.4327043  0.722891566     5             \n",
      "260   767     0:01.0 -261.6045408  0.708446866485  5             \n",
      "280   793     0:01.1 -257.0783673  0.712468193     5             \n",
      "300   829     0:01.1 -253.1077412  0.699300699     5             \n",
      "320   877     0:01.1 -248.0160471  0.670859539     5             \n",
      "340   917     0:01.2 -244.3425299  0.657640232     5             \n",
      "360   947     0:01.2 -240.464375   0.658135283     5             \n",
      "380   989     0:01.2 -237.3702235  0.64516129      5             \n",
      "400   1019    0:01.8 -232.8811044  0.646203554     4             \n",
      "420   1044    0:01.8 -228.9791342  0.652173913     4             \n",
      "440   1077    0:01.8 -224.717628   0.649926145     4             \n",
      "460   1111    0:01.8 -220.1667378  0.64697609      4             \n",
      "480   1146    0:01.9 -216.4959267  0.643431635     4             \n",
      "500   1178    0:01.9 -212.6867991  0.642673522     4             \n",
      "520   1207    0:01.9 -213.6602181  0.644361834     4             \n",
      "540   1242    0:02.0 -209.7259004  0.641330166     4             \n",
      "560   1282    0:02.0 -204.5889872  0.634920635     4             \n",
      "580   1317    0:02.4 -201.627373   0.632497274     5             \n",
      "600   1352    0:02.6 -198.0124213  0.630252101     1             \n",
      "620   1378    0:02.6 -193.7968388  0.63394683      1             \n",
      "640   1405    0:02.6 -190.4695206  0.636815920398  1             \n",
      "660   1434    0:02.6 -193.9254176  0.638297872     1             \n",
      "680   1460    0:02.6 -191.2229256  0.641509434     1             \n",
      "700   1494    0:02.7 -187.262261   0.639853748     1             \n",
      "720   1527    0:02.7 -184.6814123  0.638864241     1             \n",
      "740   1571    0:02.7 -182.2692134  0.631938514     1             \n",
      "760   1610    0:02.7 -179.8529273  0.628099174     1             \n",
      "780   1649    0:02.8 -177.0737927  0.6244996       1             \n",
      "800   1683    0:03.1 -174.8935361  0.623538581     1             \n",
      "820   1704    0:03.1 -172.5308925  0.628834356     1             \n",
      "840   1735    0:03.2 -170.1464739  0.629213483     1             \n",
      "860   1762    0:03.2 -166.4130136  0.631424376     1             \n",
      "880   1791    0:03.2 -164.0531301  0.63263839      1             \n",
      "900   1818    0:03.2 -169.14256    0.634696756     1             \n",
      "920   1849    0:03.2 -167.0900119  0.634920635     1             \n",
      "940   1886    0:03.3 -164.6451277  0.632570659     1             \n",
      "960   1924    0:03.3 -162.489508   0.62992126      1             \n",
      "980   1960    0:03.3 -160.6319667  0.628205128     1             \n",
      "1000  2006    0:03.7 -158.7498061  0.622665006     3             \n",
      "1020  2034    0:03.7 -156.7745934  0.62423500612   3             \n",
      "1040  2068    0:03.7 -154.0818098  0.623501199     3             \n",
      "1060  2093    0:03.7 -151.9405163  0.626107501     3             \n",
      "1080  2119    0:03.8 -149.9692975  0.628272251     3             \n",
      "1100  2151    0:03.8 -147.8423269  0.62821245      3             \n",
      "1120  2189    0:03.8 -145.4016013  0.626048072     3             \n",
      "1140  2218    0:03.8 -143.4660606  0.627062706     3             \n",
      "1160  2271    0:03.9 -141.5757852  0.619989311     3             \n",
      "1180  2312    0:03.9 -139.6425217  0.617154812     3             \n",
      "1200  2360    0:04.1 -137.8737338  0.612244898     1             \n",
      "1220  2383    0:04.1 -136.0460194  0.61522945      1             \n",
      "1240  2412    0:04.2 -134.5455432  0.616302187     1             \n",
      "1260  2440    0:04.2 -132.9292992  0.617647059     1             \n",
      "1280  2467    0:04.2 -132.3734768  0.619254959     1             \n",
      "1300  2499    0:04.2 -131.1866439  0.619342544     1             \n",
      "1320  2529    0:04.2 -130.0750932  0.620009394     1             \n",
      "1340  2568    0:04.3 -129.0166541  0.618081181     1             \n",
      "1360  2608    0:04.3 -140.4518711  0.615942029     1             \n",
      "1380  2653    0:04.3 -139.0397093  0.612516644474  1             \n",
      "1400  2709    0:05.0 -137.5575519  0.606323083586  6             \n",
      "1420  2757    0:08.0 -136.4019645  0.602460755     5             \n",
      "1440  2803    0:08.1 -135.1155219  0.599250936     5             \n",
      "1460  2846    0:08.1 -133.6846037  0.596892886     5             \n",
      "1480  2882    0:08.5 -132.3853933  0.596293312     7             \n",
      "1500  2911    0:08.5 -138.4001894  0.597371565     7             \n",
      "1520  2942    0:08.6 -137.2247204  0.597954367     7             \n",
      "1540  2982    0:09.0 -135.9588997  0.596436871     5             \n",
      "1560  3013    0:09.0 -141.2957518  0.597014925     5             \n",
      "1580  3055    0:09.1 -139.313792   0.595103578     5             \n",
      "1600  3098    0:09.8 -138.5511932  0.593031875     7             \n",
      "1620  3131    0:09.8 -136.9321431  0.593189308     7             \n",
      "1640  3173    0:10.3 -135.4477777  0.591417238     7             \n",
      "1660  3197    0:10.6 -134.2303367  0.593493028     6             \n",
      "1680  3234    0:11.2 -132.8648703  0.592801694     6             \n",
      "1700  3265    0:11.4 -130.9021295  0.593368237     5             \n",
      "1720  3295    0:11.4 -145.9203246  0.594127806563  5             \n",
      "1740  3333    0:11.7 -144.024787   0.593249233     6             \n",
      "1760  3369    0:11.8 -142.5590308  0.592792186     6             \n",
      "1780  3402    0:11.8 -141.0231117  0.592938041     6             \n",
      "1800  3431    0:12.4 -139.512886   0.593863411     6             \n",
      "1820  3461    0:12.4 -138.1342793  0.594576936     6             \n",
      "1840  3500    0:12.4 -136.8363194  0.593548387     6             \n",
      "1860  3529    0:12.4 -135.5987565  0.594439118     6             \n",
      "1880  3560    0:13.1 -133.90383    0.594936709     6             \n",
      "1900  3586    0:13.5 -132.4600491  0.596359071     5             \n",
      "1920  3621    0:13.5 -131.155124   0.596088171     5             \n",
      "1940  3657    0:13.8 -129.7323924  0.59564016      5             \n",
      "1960  3697    0:13.9 -128.2276993  0.59447983      5             \n",
      "1980  3733    0:13.9 -137.9675553  0.594059406     5             \n",
      "2000  3769    0:14.6 -136.2609973  0.593647967     5             \n",
      "2020  3803    0:14.6 -135.0465976  0.593593888     5             \n",
      "2040  3841    0:14.7 -133.7138457  0.592850915     5             \n",
      "2060  3872    0:14.7 -132.3127564  0.593317972     5             \n",
      "2080  3902    0:14.7 -130.8232633  0.593946316     5             \n",
      "2100  3943    0:14.7 -128.8154994  0.592718036     5             \n"
     ]
    },
    {
     "name": "stdout",
     "output_type": "stream",
     "text": [
      "2120  3984    0:14.9 -127.083523   0.591517857     1             \n",
      "2140  4016    0:14.9 -125.6463832  0.591814159292  1             \n",
      "2160  4040    0:14.9 -124.0481053  0.593406593     1             \n",
      "2180  4072    0:14.9 -122.8628834  0.593681917     1             \n",
      "2200  4099    0:15.1 -121.4200228  0.594755339     1             \n",
      "2220  4124    0:15.1 -119.7072038  0.59613319      1             \n",
      "2240  4151    0:15.1 -117.8940298  0.597174087     1             \n",
      "2260  4181    0:15.2 -116.5138813  0.597725469     1             \n",
      "2280  4209    0:15.2 -115.2407696  0.598582305     1             \n",
      "2300  4241    0:15.2 -113.810297   0.598802395     1             \n",
      "2320  4282    0:15.2 -116.1123382  0.597630088     1             \n",
      "2340  4318    0:15.3 -114.7211699  0.597243492     1             \n",
      "2360  4360    0:15.3 -113.292026   0.595959596     1             \n",
      "2380  4393    0:15.3 -111.6447466  0.596043075     1             \n",
      "2400  4429    0:16.1 -110.4273092  0.59568131      5             \n",
      "2420  4462    0:16.2 -109.1357811  0.595765633     5             \n",
      "2440  4496    0:16.2 -108.0176004  0.595703125     5             \n",
      "2460  4534    0:16.7 -106.5566798  0.595065312     6             \n",
      "2480  4564    0:16.7 -104.6372695  0.59558117195   6             \n",
      "2500  4595    0:16.9 -102.4238444  0.595947556615  1             \n",
      "2520  4617    0:16.9 -102.6716066  0.597581218876  1             \n",
      "2540  4640    0:17.0 -101.000256   0.599056604     1             \n",
      "2560  4665    0:17.0 -98.65985537  0.600234467     1             \n",
      "2580  4691    0:17.0 -96.82501781  0.601258448     1             \n",
      "2600  4736    0:17.1 -94.80213284  0.59963099631   1             \n",
      "2620  4760    0:17.1 -92.90236897  0.600917431     1             \n",
      "2640  4790    0:17.2 -91.51203591  0.601366743     1             \n",
      "2660  4811    0:17.2 -94.54128723  0.60303786      1             \n",
      "2680  4839    0:17.2 -93.10022117  0.603739581     1             \n",
      "2700  4873    0:17.2 -91.22814187  0.60362173      1             \n",
      "2720  4905    0:17.3 -89.69593487  0.603773585     1             \n",
      "2740  4939    0:17.3 -88.32467303  0.603657193     1             \n",
      "2760  4974    0:17.3 -86.89378704  0.603410582     1             \n",
      "2780  5008    0:17.3 -85.46041311  0.603298611     1             \n",
      "2800  5049    0:17.5 -84.30694838  0.602280060228  1             \n",
      "2820  5073    0:17.5 -83.02439398  0.603466724     1             \n",
      "2840  5097    0:17.5 -81.48578819  0.604641260379  1             \n",
      "2860  5130    0:17.5 -80.08157226  0.604651163     1             \n",
      "2880  5158    0:17.5 -78.86235548  0.605296343     1             \n",
      "2900  5190    0:17.6 -77.75150474  0.605427975     1             \n",
      "2920  5214    0:17.6 -76.49711242  0.606564188     1             \n",
      "2940  5252    0:17.6 -75.12682039  0.60593569662   1             \n",
      "2960  5289    0:17.6 -73.8045091   0.605440785     1             \n",
      "2980  5320    0:17.7 -72.2907086   0.605691057     1             \n",
      "3000  5359    0:17.8 -71.18334765  0.604960677556  1             \n",
      "3020  5385    0:17.8 -69.96238439  0.605817452     1             \n",
      "3040  5411    0:17.9 -68.81303999  0.606665336     1             \n",
      "3060  5436    0:17.9 -67.44705492  0.607625099     1             \n",
      "3080  5463    0:17.9 -66.27141639  0.608334979     1             \n",
      "3100  5488    0:17.9 -65.02934883  0.60927673      1             \n",
      "3120  5521    0:18.0 -63.68658781  0.609256005     1             \n",
      "3140  5551    0:18.0 -62.41540187  0.609590371     1             \n",
      "3160  5592    0:18.0 -66.63186578  0.608628659     1             \n",
      "3180  5628    0:18.0 -65.21433173  0.608263198     1             \n",
      "3200  5663    0:18.4 -63.74867719  0.608018241     1             \n",
      "3220  5688    0:18.4 -62.6001609   0.60892587      1             \n",
      "3240  5713    0:18.5 -61.46923676  0.609824957651  1             \n",
      "3260  5740    0:18.5 -60.18195512  0.610486891     1             \n",
      "3280  5764    0:18.5 -58.80887268  0.611483967     1             \n",
      "3300  5798    0:18.5 -57.73706149  0.611337532     1             \n",
      "3320  5823    0:18.5 -56.69101463  0.612207265     1             \n",
      "3340  5854    0:18.6 -55.62703007  0.612394573     1             \n",
      "3360  5886    0:18.6 -54.74371138  0.612468101     1             \n",
      "3380  5913    0:18.6 -53.86707071  0.613096318     1             \n",
      "3400  5945    0:18.7 -52.93308541  0.613165014     1             \n",
      "3420  5971    0:18.8 -52.01143787  0.613893376     1             \n",
      "3440  5998    0:18.8 -51.17510209  0.61450518      1             \n",
      "3460  6020    0:18.8 -50.13386322  0.615658363     1             \n",
      "3480  6054    0:18.8 -49.04856879  0.615493456     1             \n",
      "3500  6090    0:18.9 -47.99806     0.615114236     1             \n",
      "3520  6116    0:18.9 -46.8213532   0.615815255     1             \n",
      "3540  6149    0:18.9 -45.72125836  0.615759262     1             \n",
      "3560  6191    0:18.9 -44.77015606  0.614747021     1             \n",
      "3580  6237    0:19.0 -43.85495837  0.613328765     1             \n",
      "3600  6278    0:19.2 -42.91010048  0.612453215     1             \n",
      "3620  6300    0:19.2 -41.92025902  0.613559322     1             \n",
      "3640  6326    0:19.2 -40.90264626  0.614242321971  1             \n",
      "3660  6354    0:19.2 -39.81517937  0.614712798     1             \n",
      "3680  6384    0:19.3 -40.80941787  0.614973262     1             \n",
      "3700  6410    0:19.3 -39.80235243  0.615640599     1             \n",
      "3720  6446    0:19.3 -38.85606028  0.615282832     1             \n",
      "3740  6490    0:19.3 -37.97960484  0.614121511     1             \n",
      "3760  6525    0:19.4 -37.15637853  0.613877551     1             \n",
      "3780  6569    0:19.4 -36.30592907  0.612741125     1             \n",
      "3800  6609    0:19.5 -35.49169462  0.612014817     1             \n",
      "3820  6633    0:19.5 -34.64705904  0.612866998     1             \n",
      "3840  6658    0:19.5 -33.75625542  0.613614573     1             \n",
      "3860  6682    0:19.5 -32.78406289  0.614453996     1             \n",
      "3880  6711    0:19.6 -31.97369114  0.614799556     1             \n",
      "3900  6741    0:19.6 -31.16682886  0.615044946     1             \n",
      "3920  6764    0:19.6 -30.51515648  0.615964802     1             \n",
      "3940  6789    0:19.6 -29.90185054  0.616684927     1             \n",
      "3960  6826    0:19.7 -29.19033804  0.616246499     1             \n",
      "3980  6869    0:19.7 -28.43782328  0.615241923     1             \n",
      "4000  6898    0:19.7 -27.76057047  0.615574023     1             \n",
      "4020  6921    0:19.8 -27.06252155  0.616469867     1             \n",
      "4040  6942    0:19.8 -26.39189401  0.61754815      1             \n",
      "4060  6964    0:19.8 -25.73319586  0.618525289     1             \n",
      "4080  6990    0:19.8 -25.08469838  0.619119879     1             \n",
      "4100  7015    0:19.8 -24.45602784  0.619803477     1             \n",
      "4120  7051    0:19.9 -23.86413669  0.619455721     1             \n",
      "4140  7084    0:19.9 -23.29278412  0.619389587     1             \n",
      "4160  7117    0:19.9 -22.76891135  0.619324103     1             \n",
      "4180  7150    0:19.9 -22.26808606  0.619259259     1             \n",
      "4200  7178    0:20.1 -21.77676132  0.619651815     1             \n",
      "4220  7205    0:20.1 -21.2503801   0.620132256     1             \n",
      "4240  7238    0:20.1 -20.73713884  0.620064346     1             \n",
      "4260  7265    0:20.2 -20.84801868  0.620538966     1             \n",
      "4280  7292    0:20.2 -20.33496693  0.621009867     1             \n",
      "4300  7319    0:20.2 -19.84716499  0.621477092     1             \n",
      "4320  7349    0:20.2 -19.32891535  0.621672183     1             \n",
      "4340  7379    0:20.3 -18.84325614  0.621865597     1             \n",
      "4360  7414    0:20.3 -18.34278978  0.621613915     1             \n",
      "4380  7452    0:20.3 -17.85674023  0.621100397     1             \n",
      "4400  7498    0:20.4 -17.35367665  0.619892928     1             \n",
      "4420  7523    0:20.4 -16.81981585  0.62052506      1             \n",
      "4440  7551    0:20.5 -16.31239949  0.620892183     1             \n",
      "4460  7580    0:20.5 -15.82371407  0.621169916     1             \n",
      "4480  7611    0:20.5 -15.37890122  0.621273055     1             \n",
      "4500  7642    0:20.5 -14.96229356  0.621375311     1             \n",
      "4520  7676    0:20.6 -14.79209604  0.621220451     1             \n",
      "4540  7700    0:20.6 -14.36729767  0.621917808     1             \n",
      "4560  7731    0:20.6 -13.98216303  0.622016096     1             \n",
      "4580  7764    0:20.6 -13.60287524  0.621944595     1             \n",
      "4600  7799    0:20.8 -13.2076589   0.621705636     1             \n",
      "4620  7822    0:20.9 -12.79453114  0.622473727     1             \n",
      "4640  7848    0:20.9 -12.38658566  0.622986037     1             \n",
      "4660  7874    0:20.9 -12.01574979  0.623494782     1             \n",
      "4680  7901    0:20.9 -11.67712229  0.623916811     1             \n",
      "4700  7934    0:21.0 -11.35627558  0.623838598     1             \n",
      "4720  7969    0:21.0 -11.05680237  0.623596248     1             \n",
      "4740  7995    0:21.0 -10.76245771  0.62409479921   1             \n",
      "4760  8025    0:21.0 -10.47057701  0.624262295082  1             \n"
     ]
    },
    {
     "name": "stdout",
     "output_type": "stream",
     "text": [
      "4780  8057    0:21.1 -10.18113006  0.624265378     1             \n",
      "4800  8090    0:21.2 -9.890854072  0.624187256     1             \n",
      "4820  8113    0:21.2 -9.90239911   0.624918968     1             \n",
      "4840  8137    0:21.3 -9.617622792  0.625565465     1             \n",
      "4860  8161    0:21.3 -9.348556798  0.626207963     1             \n",
      "4880  8188    0:21.3 -9.079915597  0.626605033     1             \n",
      "4900  8213    0:21.3 -8.821492875  0.627159862     1             \n",
      "4920  8242    0:21.4 -8.565604597  0.627390972     1             \n",
      "4940  8268    0:21.4 -8.312289772  0.627859685     1             \n",
      "4960  8299    0:21.4 -8.054707318  0.627927586     1             \n",
      "4980  8337    0:21.4 -7.807630755  0.627441099     1             \n",
      "5000  8367    0:21.6 -7.57861608   0.627588804     1             \n",
      "5020  8393    0:21.7 -7.348503379  0.628049543     1             \n",
      "5040  8419    0:21.7 -7.16783527   0.628507295174  1             \n",
      "5060  8445    0:21.7 -6.947820681  0.628962088     1             \n",
      "5080  8465    0:21.7 -6.737620418  0.629882207     1             \n",
      "5100  8496    0:21.8 -6.535871349  0.629940711     1             \n",
      "5120  8522    0:21.8 -6.338761365  0.630386604     1             \n",
      "5140  8549    0:21.8 -6.146246713  0.63075224      1             \n",
      "5160  8583    0:21.8 -5.96029659   0.630575584     1             \n",
      "5180  8614    0:21.9 -5.77989708   0.630630631     1             \n",
      "5200  8642    0:22.0 -5.600087814  0.630914826     1             \n",
      "5220  8666    0:22.0 -5.417916818  0.631502541     1             \n",
      "5240  8690    0:22.0 -5.23588438   0.632086852     1             \n",
      "5260  8717    0:22.0 -5.218806608  0.632439582     1             \n",
      "5280  8743    0:22.1 -5.050381124  0.632865876     1             \n",
      "5300  8767    0:22.1 -4.887275046  0.633440898769  1             \n",
      "5320  8798    0:22.1 -4.728965173  0.633484163     1             \n",
      "5340  8828    0:22.1 -4.578185815  0.633602278     1             \n",
      "5360  8862    0:22.2 -4.431969886  0.633419995273  1             \n",
      "5380  8893    0:22.2 -4.287746956  0.633462852     1             \n",
      "5400  8928    0:23.2 -4.145775638  0.633208255     6             \n",
      "5420  8960    0:23.2 -4.010685161  0.63317757      6             \n",
      "5440  9003    0:23.6 -3.880195924  0.632337557     6             \n",
      "5460  9044    0:23.6 -3.75279847   0.631652012957  6             \n",
      "5480  9083    0:23.7 -3.628424807  0.631118277     6             \n",
      "5500  9120    0:23.9 -3.505503792  0.630733945     1             \n",
      "5520  9147    0:23.9 -3.385065269  0.631073510918  1             \n",
      "5540  9172    0:23.9 -3.266100033  0.631554948     1             \n",
      "5560  9198    0:24.0 -3.149798601  0.63196181      1             \n",
      "5580  9228    0:24.0 -3.034789984  0.632079746     1             \n",
      "5600  9259    0:24.9 -2.922722985  0.632125522068  3             \n",
      "5620  9291    0:24.9 -2.813741381  0.632099876     3             \n",
      "5640  9344    0:25.2 -2.707002586  0.63059034      6             \n",
      "5660  9384    0:25.3 -2.602888714  0.630008905     6             \n",
      "5680  9417    0:25.3 -2.503116814  0.62992126      6             \n",
      "5700  9460    0:25.3 -2.406692994  0.629139073     6             \n",
      "5720  9497    0:25.4 -2.311939156  0.628778718     6             \n",
      "5740  9526    0:25.8 -2.219347334  0.628972167     1             \n",
      "5760  9553    0:25.8 -2.128403908  0.629301868     1             \n",
      "5780  9580    0:25.8 -2.038850868  0.62962963      1             \n",
      "5800  9605    0:26.0 -1.951727134  0.630092341119  1             \n",
      "5820  9628    0:26.1 -1.867324603  0.630689206762  1             \n",
      "5840  9651    0:26.1 -1.786466374  0.631283105     1             \n",
      "5860  9675    0:26.1 -1.708454895  0.63180593      1             \n",
      "5880  9704    0:26.1 -1.633058076  0.631986242     1             \n",
      "5900  9739    0:26.1 -1.560459881  0.631759289     1             \n",
      "5920  9775    0:26.2 -1.490725622  0.631466667     1             \n",
      "5940  9807    0:26.2 -1.423567964  0.631444669     1             \n",
      "5960  9850    0:26.2 -1.358742545  0.630687831     1             \n",
      "5980  9882    0:26.3 -1.296525995  0.630668635309  1             \n",
      "6000  9919    0:26.5 -1.236856452  0.630318311     1             \n",
      "6020  9942    0:26.5 -1.179705292  0.630894990568  1             \n",
      "6040  9963    0:26.5 -1.124778519  0.631600962     1             \n",
      "6060  9991    0:26.5 -1.072093581  0.631842352     1             \n",
      "6080  10020   0:26.6 -1.021251075  0.632016632     1             \n",
      "6100  10046   0:26.6 -0.972352     0.632386481     1             \n",
      "6120  10078   0:26.6 -0.925566     0.632362058     1             \n",
      "6140  10103   0:26.6 -0.880757     0.632793981     1             \n",
      "6160  10132   0:26.7 -0.837926365  0.63296342      1             \n",
      "6180  10161   0:26.7 -0.797050574  0.633131851     1             \n",
      "6200  10191   0:26.9 -0.758094     0.633234603207  1             \n",
      "6220  10216   0:26.9 -0.720819     0.633659332     1             \n",
      "6240  10239   0:26.9 -0.685299     0.634210794     1             \n",
      "6260  10264   0:27.0 -0.654433     0.634630981     1             \n",
      "6280  10294   0:27.0 -0.622        0.634728118     1             \n",
      "6300  10321   0:27.0 -0.591054     0.635016631388  1             \n",
      "6320  10356   0:27.0 -0.56151      0.63479309      1             \n",
      "6340  10384   0:27.1 -0.53334      0.635016025641  1             \n",
      "6360  10420   0:27.1 -0.506431     0.634730539     1             \n",
      "Convergence obtained with Delta_z = -0.49991520634\n",
      "Done!\n"
     ]
    }
   ],
   "source": [
    "samples = sampler.run()\n",
    "print('Done!')"
   ]
  },
  {
   "cell_type": "markdown",
   "metadata": {},
   "source": [
    "## Plot posterior samples versus true parameter values (dashed lines)"
   ]
  },
  {
   "cell_type": "code",
   "execution_count": 19,
   "metadata": {},
   "outputs": [
    {
     "data": {
      "image/png": "[encoded data removed]",
      "text/plain": [
       "<Figure size 432x432 with 3 Axes>"
      ]
     },
     "metadata": {},
     "output_type": "display_data"
    }
   ],
   "source": [
    "# Plot output\n",
    "import pints.plot\n",
    "\n",
    "pints.plot.histogram([samples], ref_parameters=real_parameters)\n",
    "\n",
    "plt.show()"
   ]
  },
  {
   "cell_type": "markdown",
   "metadata": {},
   "source": [
    "## Plot posterior predictive simulations versus the observed data"
   ]
  },
  {
   "cell_type": "code",
   "execution_count": 20,
   "metadata": {},
   "outputs": [
    {
     "data": {
      "image/png": "[encoded data removed]",
      "text/plain": [
       "<Figure size 576x216 with 1 Axes>"
      ]
     },
     "metadata": {},
     "output_type": "display_data"
    }
   ],
   "source": [
    "pints.plot.series(samples[:100], problem)\n",
    "plt.show()"
   ]
  },
  {
   "cell_type": "markdown",
   "metadata": {},
   "source": [
    "## Marginal likelihood estimate"
   ]
  },
  {
   "cell_type": "code",
   "execution_count": 21,
   "metadata": {},
   "outputs": [
    {
     "name": "stdout",
     "output_type": "stream",
     "text": [
      "marginal log-likelihood = -386.455975746 ± 0.0826647217674\n"
     ]
    }
   ],
   "source": [
    "print('marginal log-likelihood = ' + str(sampler.marginal_log_likelihood())\n",
    "      + ' ± ' + str(sampler.marginal_log_likelihood_standard_deviation()))"
   ]
  },
  {
   "cell_type": "markdown",
   "metadata": {},
   "source": [
    "## Effective sample size"
   ]
  },
  {
   "cell_type": "code",
   "execution_count": 22,
   "metadata": {},
   "outputs": [
    {
     "name": "stdout",
     "output_type": "stream",
     "text": [
      "effective sample size = 1620.00734244\n"
     ]
    }
   ],
   "source": [
    "print('effective sample size = ' + str(sampler.effective_sample_size()))"
   ]
  },
  {
   "cell_type": "markdown",
   "metadata": {},
   "source": [
    "# Egg box problem"
   ]
  },
  {
   "cell_type": "code",
   "execution_count": 8,
   "metadata": {
    "collapsed": true
   },
   "outputs": [],
   "source": [
    "class ExampleToy(pints.LogPDF):\n",
    "    def __init__(self, sigma, r):\n",
    "        self._sigma = sigma\n",
    "        self._r = r\n",
    "        self._log_toy = pints.toy.SimpleEggBoxLogPDF(self._sigma, self._r)\n",
    "\n",
    "    def __call__(self, x):\n",
    "        x1 = np.copy(x)\n",
    "        x1[0] = -15 + 30 * x[0]\n",
    "        x1[1] = -15 + 30 * x[1]\n",
    "        return self._log_toy(x1)\n",
    "\n",
    "    def n_parameters(self):\n",
    "        return 2"
   ]
  },
  {
   "cell_type": "code",
   "execution_count": 9,
   "metadata": {
    "collapsed": true
   },
   "outputs": [],
   "source": [
    "log_pdf = ExampleToy(2, 4)\n",
    "log_prior = pints.UniformLogPrior(\n",
    "    [0.0, 0.0],\n",
    "    [1.0, 1.0])"
   ]
  },
  {
   "cell_type": "code",
   "execution_count": 10,
   "metadata": {
    "collapsed": true
   },
   "outputs": [],
   "source": [
    "sampler = pints.NestedController(log_pdf, log_prior, method=pints.MultinestSampler)\n",
    "\n",
    "# Set number of iterations\n",
    "sampler.set_iterations(1000)\n",
    "\n",
    "# Set the number of posterior samples to generate\n",
    "sampler.set_n_posterior_samples(500)\n",
    "\n",
    "sampler._sampler.set_f_s_threshold(1.3)"
   ]
  },
  {
   "cell_type": "code",
   "execution_count": 11,
   "metadata": {},
   "outputs": [
    {
     "name": "stdout",
     "output_type": "stream",
     "text": [
      "Running MultiNest sampler\n",
      "Number of active points: 400\n",
      "Total number of iterations: 1000\n",
      "Total number of posterior samples: 500\n",
      "Iter. Eval. Time m:s Delta_log(z) Acceptance rate Ellipsoid count\n",
      "0     1       0:00.0 -inf          1               0             \n",
      "0     2       0:00.0 -inf          1               0             \n",
      "0     21      0:00.0 -inf          1               0             \n",
      "0     41      0:00.0 -inf          1               0             \n",
      "0     61      0:00.0 -inf          1               0             \n",
      "0     81      0:00.0 -inf          1               0             \n",
      "0     101     0:00.0 -inf          1               0             \n",
      "0     121     0:00.0 -inf          1               0             \n",
      "0     141     0:00.0 -inf          1               0             \n",
      "0     161     0:00.0 -inf          1               0             \n",
      "0     181     0:00.1 -inf          1               0             \n",
      "0     201     0:00.1 -inf          1               0             \n",
      "0     221     0:00.1 -inf          1               0             \n",
      "0     241     0:00.1 -inf          1               0             \n",
      "0     261     0:00.1 -inf          1               0             \n",
      "0     281     0:00.1 -inf          1               0             \n",
      "0     301     0:00.1 -inf          1               0             \n",
      "0     321     0:00.1 -inf          1               0             \n",
      "0     341     0:00.1 -inf          1               0             \n",
      "0     361     0:00.1 -inf          1               0             \n",
      "0     381     0:00.1 -inf          1               0             \n",
      "1     401     0:00.1 -inf          1               0             \n",
      "20    421     0:00.1 -26.34307233  0.952380952381  0             \n",
      "40    441     0:00.1 -22.08918782  0.975609756     0             \n",
      "60    465     0:00.2 -19.99322054  0.923076923     0             \n",
      "80    487     0:00.2 -18.4340134   0.91954023      0             \n",
      "100   512     0:00.2 -17.32920024  0.892857143     0             \n",
      "120   537     0:00.2 -16.35078125  0.875912409     0             \n",
      "140   565     0:00.2 -15.43789434  0.848484848     0             \n",
      "160   592     0:00.2 -14.60070837  0.833333333     0             \n",
      "180   618     0:00.2 -13.93997561  0.825688073     0             \n",
      "200   651     0:00.6 -13.37646702  0.796812749004  4             \n",
      "220   673     0:02.7 -12.77889705  0.805860806     4             \n",
      "240   696     0:05.1 -12.16655574  0.810810811     4             \n",
      "260   719     0:07.4 -11.53658897  0.815047022     4             \n",
      "280   743     0:10.0 -10.985178    0.816326531     4             \n",
      "300   766     0:12.6 -10.47735943  0.819672131     4             \n",
      "320   788     0:15.0 -9.950089212  0.824742268     4             \n",
      "340   816     0:18.2 -9.466887828  0.817307692     4             \n",
      "360   837     0:20.5 -9.049518276  0.823798627     4             \n",
      "380   860     0:22.9 -8.658125728  0.826086957     4             \n",
      "400   884     0:26.1 -8.24883047   0.826446281     4             \n",
      "420   907     0:28.8 -7.864195153  0.828402367     4             \n",
      "440   929     0:31.2 -7.525128923  0.831758034     5             \n",
      "460   956     0:34.2 -7.22069499   0.827338129     5             \n",
      "480   982     0:37.1 -6.92239254   0.824742268     4             \n",
      "500   1006    0:39.9 -6.613101633  0.825082508     5             \n",
      "520   1027    0:42.3 -6.315768074  0.829346092504  4             \n",
      "540   1049    0:44.8 -6.040933951  0.832049307     4             \n",
      "560   1070    0:47.2 -5.775900086  0.835820896     4             \n",
      "580   1091    0:49.5 -5.522575394  0.839363242     4             \n",
      "600   1116    0:52.7 -5.268490017  0.837988827     4             \n",
      "620   1139    0:55.5 -5.028156625  0.838971583     4             \n",
      "640   1169    0:59.4 -4.807806967  0.832249675     4             \n",
      "660   1192    1:02.7 -4.597720348  0.833333333     4             \n",
      "680   1220    1:05.8 -4.392759679  0.829268293     4             \n",
      "700   1242    1:08.7 -4.193628812  0.831353919     4             \n",
      "720   1269    1:12.0 -4.003607793  0.82853855      4             \n",
      "740   1293    1:15.2 -3.821980137  0.828667413     4             \n",
      "760   1314    1:17.6 -3.646663664  0.831509847     4             \n",
      "780   1337    1:20.8 -3.479124669  0.83244397      4             \n",
      "800   1358    1:23.2 -3.317246467  0.835073069     4             \n",
      "820   1379    1:25.5 -3.160298034  0.837589377     4             \n",
      "840   1402    1:27.8 -3.0081548    0.838323353     4             \n",
      "860   1424    1:30.1 -2.860506352  0.83984375      4             \n",
      "880   1449    1:32.8 -2.717156824  0.838894184938  4             \n",
      "900   1469    1:35.0 -2.579212189  0.841908326     4             \n",
      "920   1490    1:37.3 -2.445174319  0.844036697     5             \n",
      "940   1515    1:40.0 -2.319762398  0.843049327     4             \n",
      "960   1538    1:42.6 -2.202010384  0.843585237     4             \n",
      "980   1559    1:44.7 -2.089787461  0.845556514     4             \n",
      "1000  1585    1:47.6 -1.981514205  0.843881857     5             \n",
      "Done!\n"
     ]
    }
   ],
   "source": [
    "samples = sampler.run()\n",
    "print('Done!')"
   ]
  },
  {
   "cell_type": "code",
   "execution_count": 12,
   "metadata": {},
   "outputs": [
    {
     "data": {
      "image/png": "[encoded data removed]",
      "text/plain": [
       "<Figure size 432x288 with 1 Axes>"
      ]
     },
     "metadata": {},
     "output_type": "display_data"
    }
   ],
   "source": [
    "sigma = 2\n",
    "r = 4\n",
    "log_pdf = pints.toy.SimpleEggBoxLogPDF(sigma, r)\n",
    "\n",
    "# Contour plot of pdf\n",
    "levels = np.linspace(-100, 0, 20)\n",
    "x = np.linspace(-15, 15, 100)\n",
    "y = np.linspace(-15, 15, 100)\n",
    "X, Y = np.meshgrid(x, y)\n",
    "Z = [[np.exp(log_pdf([i, j])) for i in x] for j in y]\n",
    "\n",
    "plt.figure()\n",
    "plt.contour(X, Y, Z, colors='k')\n",
    "plt.scatter(-15 + 30 * samples[:, 0], -15 + 30 * samples[:, 1], marker='.')\n",
    "plt.xlim(-15, 15)\n",
    "plt.ylim(-15, 15)\n",
    "plt.show()"
   ]
  },
  {
   "cell_type": "code",
   "execution_count": 13,
   "metadata": {},
   "outputs": [
    {
     "name": "stdout",
     "output_type": "stream",
     "text": [
      "effective sample size = 671.948137164\n"
     ]
    }
   ],
   "source": [
    "print('effective sample size = ' + str(sampler.effective_sample_size()))"
   ]
  },
  {
   "cell_type": "code",
   "execution_count": 14,
   "metadata": {},
   "outputs": [
    {
     "name": "stdout",
     "output_type": "stream",
     "text": [
      "marginal log-likelihood = -5.4031788594 ± 0.0681070765808\n"
     ]
    }
   ],
   "source": [
    "print('marginal log-likelihood = ' + str(sampler.marginal_log_likelihood())\n",
    "      + ' ± ' + str(sampler.marginal_log_likelihood_standard_deviation()))"
   ]
  }
 ],
 "metadata": {
  "kernelspec": {
   "display_name": "Python 2",
   "language": "python",
   "name": "python2"
  },
  "language_info": {
   "codemirror_mode": {
    "name": "ipython",
    "version": 2
   },
   "file_extension": ".py",
   "mimetype": "text/x-python",
   "name": "python",
   "nbconvert_exporter": "python",
   "pygments_lexer": "ipython2",
   "version": "2.7.14"
  }
 },
 "nbformat": 4,
 "nbformat_minor": 2
}
