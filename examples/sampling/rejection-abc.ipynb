{
 "cells": [
  {
   "cell_type": "markdown",
   "metadata": {},
   "source": [
    "# Rejection ABC\n"
   ]
  },
  {
   "cell_type": "markdown",
   "metadata": {},
   "source": [
    "This example shows you how to perform Rejection ABC on a time series from the [stochastic degradation model](../toy/model-stochastic-degradation.ipynb). This model describes the describes the stochastic process of a single chemical reaction, in which the concentration of a substance degrades over time as particles react. It differs from most other models in PINTS through the fact that a likelihood ( $D | \\theta$ ) cannot be derived and we are only able to produce stochastic simulations using Gillespie's algorithm. ABC samplers are the solution to such a problem since they do not evaluate the likelihood to sample from the posterior distribution ( $\\theta | D$ )."
   ]
  },
  {
   "cell_type": "markdown",
   "metadata": {},
   "source": [
    "First, we will load the stochastic degradation model. In order to emphasise the variety provided by the stochastic simulations we will plot multiple runs of the model with the same parameters."
   ]
  },
  {
   "cell_type": "code",
   "execution_count": 1,
   "metadata": {},
   "outputs": [],
   "source": [
    "import pints\n",
    "import pints.toy as toy\n",
    "import pints.toy.stochastic\n",
    "import pints.plot\n",
    "import numpy as np\n",
    "import matplotlib.pyplot as plt"
   ]
  },
  {
   "cell_type": "code",
   "execution_count": 2,
   "metadata": {},
   "outputs": [
    {
     "data": {
      "image/png": "[encoded data removed]",
      "text/plain": [
       "<Figure size 432x288 with 1 Axes>"
      ]
     },
     "metadata": {
      "needs_background": "light"
     },
     "output_type": "display_data"
    }
   ],
   "source": [
    "np.random.seed(3)\n",
    "\n",
    "# Load a forward model\n",
    "model = toy.stochastic.DegradationModel()\n",
    "\n",
    "# Create some toy data\n",
    "real_parameters = model.suggested_parameters()\n",
    "times = np.linspace(0, 10, 100)\n",
    "\n",
    "for i in range(10):\n",
    "    values = model.simulate(real_parameters, times)\n",
    "\n",
    "    # Create an object with links to the model and time series\n",
    "    problem = pints.SingleOutputProblem(model, times, values)\n",
    "\n",
    "    # Create a uniform prior parameter\n",
    "    log_prior = pints.UniformLogPrior([0.0], [0.3])\n",
    "\n",
    "    # Set the error measure to be used to compare simulated to observed data\n",
    "    error_measure = pints.RootMeanSquaredError(problem)\n",
    "\n",
    "    plt.step(times, values)\n",
    "\n",
    "\n",
    "plt.xlabel('time')\n",
    "plt.ylabel('concentration (A(t))')\n",
    "plt.show()"
   ]
  },
  {
   "cell_type": "markdown",
   "metadata": {},
   "source": [
    "## Fit using Rejection ABC\n",
    "\n",
    "The Rejection ABC algorithm can be applied to sample parameter values. An error measure will be used to compare the difference between the stochastic simulation obtained with the true set of parameters and the stochastic simulation obtained with a candidate value. Our error measure of choice is the root mean squared error. Root mean squared error has been chosen in order to amplify smaller differences between two stochastic simulations in order to increase the quality of our samples."
   ]
  },
  {
   "cell_type": "code",
   "execution_count": 7,
   "metadata": {},
   "outputs": [
    {
     "name": "stdout",
     "output_type": "stream",
     "text": [
      "Running...\n",
      "Using Rejection ABC\n",
      "Running in sequential mode.\n",
      "Iter. Eval. Acceptance rate Time m:s\n",
      "1     20     0.05             0:00.0\n",
      "2     48     0.0416666667     0:00.0\n",
      "3     112    0.0267857143     0:00.1\n",
      "20    1532   0.0130548303     0:00.6\n",
      "40    2793   0.0143215181     0:01.4\n",
      "60    5000   0.012            0:02.1\n",
      "80    6676   0.0119832235     0:02.7\n",
      "100   8483   0.0117882824     0:03.4\n",
      "120   10580  0.011342155      0:04.1\n",
      "140   12064  0.0116047745     0:05.7\n",
      "160   13780  0.0116110305     0:07.2\n",
      "180   16423  0.0109602387     0:08.9\n",
      "200   18401  0.0108689745     0:09.5\n",
      "220   20199  0.0108916283     0:10.2\n",
      "240   22335  0.0107454668     0:11.6\n",
      "260   23739  0.0109524411     0:12.7\n",
      "280   25843  0.0108346554     0:14.4\n",
      "300   27459  0.0109253797     0:15.2\n",
      "320   30001  0.0106663111     0:16.1\n",
      "340   31943  0.0106439596     0:16.8\n",
      "360   33393  0.0107807025     0:17.3\n",
      "380   34996  0.0108583838     0:17.8\n",
      "400   36185  0.0110543043     0:18.2\n",
      "420   37793  0.0111131691     0:18.7\n",
      "440   40180  0.0109507218     0:19.5\n",
      "460   41978  0.0109581209     0:20.1\n",
      "480   44722  0.0107329726     0:21.0\n",
      "500   46717  0.010702742      0:21.7\n",
      "520   48936  0.0106261239     0:22.4\n",
      "540   50440  0.0107057891     0:23.0\n",
      "560   52399  0.0106872269     0:24.0\n",
      "580   53966  0.0107475077     0:24.8\n",
      "600   55526  0.0108057487     0:26.7\n",
      "620   58085  0.0106740122     0:28.9\n",
      "640   60188  0.0106333488     0:30.8\n",
      "660   62136  0.0106218617     0:31.8\n",
      "680   63865  0.0106474595     0:32.5\n",
      "700   65445  0.0106960043     0:33.3\n",
      "720   67627  0.0106466352     0:34.2\n",
      "740   69277  0.0106817558     0:34.8\n",
      "760   71200  0.0106741573     0:35.5\n",
      "780   73646  0.0105912066     0:36.3\n",
      "800   75364  0.0106151478     0:36.9\n",
      "820   78143  0.0104935823     0:38.0\n",
      "840   80013  0.010498294      0:38.7\n",
      "860   82156  0.0104678904     0:39.5\n",
      "880   84219  0.0104489486     0:40.3\n",
      "900   85084  0.010577782      0:40.5\n",
      "920   87389  0.0105276408     0:41.4\n",
      "940   90449  0.0103925969     0:42.6\n",
      "960   93391  0.0102793631     0:43.7\n",
      "980   94664  0.0103524043     0:44.2\n",
      "1000  96511  0.0103615132     0:44.9\n",
      "Halting: target number of samples (1000) reached.\n",
      "Done\n"
     ]
    }
   ],
   "source": [
    "np.random.seed(1)\n",
    "abc = pints.ABCController(error_measure, log_prior)\n",
    "\n",
    "# set threshold\n",
    "abc.sampler().set_threshold(1)\n",
    "\n",
    "# set target number of samples\n",
    "abc.set_n_samples(1000)\n",
    "\n",
    "# log to screen\n",
    "abc.set_log_to_screen(True)\n",
    "\n",
    "print('Running...')\n",
    "samples  = abc.run()\n",
    "print('Done')"
   ]
  },
  {
   "cell_type": "markdown",
   "metadata": {},
   "source": [
    "In order to find the efficiency of the rejection ABC, we plot the approximate posterior compared to the actual parameter value. In the graph, we can see that there is a high concentration of samples around the value with which the data was generated. This suggests that the rejection ABC algorithm performs well and that the root mean squared error was a good choice as an error measure, since high quality samples were produced."
   ]
  },
  {
   "cell_type": "code",
   "execution_count": 8,
   "metadata": {},
   "outputs": [
    {
     "data": {
      "image/png": "[encoded data removed]",
      "text/plain": [
       "<Figure size 432x288 with 1 Axes>"
      ]
     },
     "metadata": {
      "needs_background": "light"
     },
     "output_type": "display_data"
    }
   ],
   "source": [
    "plt.hist(samples[:,0], color=\"blue\", label=\"Samples\")\n",
    "plt.vlines(x=model.suggested_parameters(), linestyles='dashed', ymin=0, ymax=300, label=\"Actual value\", color=\"red\")\n",
    "plt.legend()\n",
    "plt.show()"
   ]
  },
  {
   "cell_type": "markdown",
   "metadata": {},
   "source": [
    "# Note on Rejection ABC\n",
    "\n",
    "The Rejection ABC algorithm is a highly simplistic method for Bayesian inference. As a consequence, it is inefficient when used with high variance priors.\n",
    "\n",
    "Please make sure that you are monitoring the acceptance rate to see if this algorithm is working for your problem."
   ]
  }
 ],
 "metadata": {
  "interpreter": {
   "hash": "62b8c3045b77e73a8aab814fbf01ae024ab075fc3f7014742f3a4c5a8ac43e7b"
  },
  "kernelspec": {
   "display_name": "Python 3.8.0 32-bit",
   "language": "python",
   "name": "python3"
  },
  "language_info": {
   "codemirror_mode": {
    "name": "ipython",
    "version": 3
   },
   "file_extension": ".py",
   "mimetype": "text/x-python",
   "name": "python",
   "nbconvert_exporter": "python",
   "pygments_lexer": "ipython3",
   "version": "3.8.0"
  },
  "orig_nbformat": 4
 },
 "nbformat": 4,
 "nbformat_minor": 2
}
