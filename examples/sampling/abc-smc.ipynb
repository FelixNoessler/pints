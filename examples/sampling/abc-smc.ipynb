{
 "cells": [
  {
   "cell_type": "markdown",
   "metadata": {},
   "source": [
    "# ABC-SMC"
   ]
  },
  {
   "cell_type": "markdown",
   "metadata": {},
   "source": [
    "PINTS can be used to perform inference for stochastic forward models. Here, we perform inference on the [stochastic degradation model](../toy/model-stochastic-degradation.ipynb) using Approximate Bayesian Computation (ABC). This model has only a single unknown parameter -- the rate at which chemicals degrade. We use the \"ABC SMC\" method to estimate this unknown and provide a measure of uncertainty in it."
   ]
  },
  {
   "cell_type": "markdown",
   "metadata": {},
   "source": [
    "First, we load the stochastic degradation model and perform 10 simulations from it. The variation inbetween runs is due to the inherent stochasticity of this type of model."
   ]
  },
  {
   "cell_type": "code",
   "execution_count": 1,
   "metadata": {},
   "outputs": [],
   "source": [
    "import pints\n",
    "import pints.toy as toy\n",
    "import pints.toy.stochastic\n",
    "import pints.plot\n",
    "import numpy as np\n",
    "import matplotlib.pyplot as plt"
   ]
  },
  {
   "cell_type": "code",
   "execution_count": 2,
   "metadata": {},
   "outputs": [
    {
     "data": {
      "image/png": "[encoded data removed]",
      "text/plain": [
       "<Figure size 432x288 with 1 Axes>"
      ]
     },
     "metadata": {
      "needs_background": "light"
     },
     "output_type": "display_data"
    }
   ],
   "source": [
    "np.random.seed(5)\n",
    "\n",
    "# Load a forward model\n",
    "model = toy.stochastic.DegradationModel()\n",
    "\n",
    "# Create some toy data\n",
    "real_parameters = model.suggested_parameters()\n",
    "times = np.linspace(0, 10, 100)\n",
    "\n",
    "for i in range(10):\n",
    "    values = model.simulate(real_parameters, times)\n",
    "\n",
    "    # Create an object with links to the model and time series\n",
    "    problem = pints.SingleOutputProblem(model, times, values)\n",
    "\n",
    "    # Create a uniform prior parameter\n",
    "    log_prior = pints.UniformLogPrior([0.0], [0.3])\n",
    "\n",
    "    # Set the error measure to be used to compare simulated to observed data\n",
    "    error_measure = pints.RootMeanSquaredError(problem)\n",
    "\n",
    "    plt.step(times, values)\n",
    "\n",
    "\n",
    "plt.xlabel('time')\n",
    "plt.ylabel('concentration (A(t))')\n",
    "plt.show()"
   ]
  },
  {
   "cell_type": "code",
   "execution_count": null,
   "metadata": {},
   "outputs": [],
   "source": []
  },
  {
   "cell_type": "markdown",
   "metadata": {},
   "source": [
    "## Fit using ABC SMC\n",
    "\n",
    "The ABC SMC method can be used to perform parameter inference for stochastic models, where the likelihood is intractable. In ABC methods, typically, a distance metric comparing the observed data and the simulated is used. Here, we use the root mean square error (RMSE), and we accept a parameter value if the $RMSE<3$ for the first intermediate distribution, $RMSE<1.5$ for the second one and $RMSE<1$ for the last. The size of the intermediate distributions will be 200."
   ]
  },
  {
   "cell_type": "code",
   "execution_count": 3,
   "metadata": {},
   "outputs": [
    {
     "name": "stdout",
     "output_type": "stream",
     "text": [
      "Running...\n",
      "Using ABC-SMC\n",
      "Running in sequential mode.\n",
      "Starting t=0, with threshold=3.0\n",
      "Iter. Eval. Acceptance rate Time m:s\n",
      "1     2      0.5              0:00.0\n",
      "2     9      0.222222222      0:00.0\n",
      "3     13     0.230769231      0:00.0\n",
      "20    68     0.294117647      0:00.1\n",
      "40    126    0.317460317      0:00.1\n",
      "60    174    0.344827586      0:00.1\n",
      "80    225    0.355555556      0:00.1\n",
      "100   301    0.332225914      0:00.2\n",
      "120   349    0.343839542      0:00.2\n",
      "140   415    0.337349398      0:00.2\n",
      "160   473    0.338266384778   0:00.3\n",
      "180   546    0.32967033       0:00.3\n",
      "Starting t=1, with threshold=1.5\n",
      "200   608    0.328947368      0:00.3\n",
      "220   755    0.291390728      0:00.4\n",
      "240   861    0.278745645      0:00.5\n",
      "260   1003   0.259222333001   0:00.6\n",
      "280   1151   0.243266725      0:00.7\n",
      "300   1298   0.231124807396   0:00.8\n",
      "320   1411   0.226789511      0:00.9\n",
      "340   1604   0.211970074813   0:01.0\n",
      "360   1744   0.206422018      0:01.1\n",
      "380   1855   0.204851752      0:01.2\n",
      "Starting t=2, with threshold=1.0\n",
      "400   2010   0.199004975      0:02.2\n",
      "420   2646   0.158730159      0:02.6\n",
      "440   3300   0.133333333      0:03.0\n",
      "460   4348   0.105795768      0:03.6\n",
      "480   5075   0.0945812808     0:04.0\n",
      "500   5687   0.0879198171     0:04.4\n",
      "520   6377   0.0815430453     0:04.8\n",
      "540   6955   0.0776419842     0:05.4\n",
      "560   7592   0.0737618546     0:06.0\n",
      "580   8053   0.0720228486     0:06.5\n",
      "600   8735   0.0686891815     0:06.9\n",
      "620   9380   0.066098081      0:07.4\n",
      "640   10165  0.0629611412     0:08.9\n",
      "660   10881  0.0606561897     0:09.4\n",
      "680   11510  0.0590790617     0:09.8\n",
      "700   12359  0.0566388866     0:10.3\n",
      "720   13093  0.0549912167     0:10.8\n",
      "740   13951  0.0530427926     0:11.3\n",
      "760   14770  0.0514556534     0:11.7\n",
      "780   15481  0.0503843421     0:12.2\n",
      "800   16148  0.0495417389     0:12.6\n",
      "820   16822  0.0487456902     0:13.0\n",
      "840   17485  0.0480411782     0:13.4\n",
      "860   18470  0.0465619924     0:14.0\n",
      "880   19275  0.0456549935     0:14.5\n",
      "900   20037  0.0449169037     0:14.9\n",
      "920   20750  0.0443373494     0:15.4\n",
      "940   21577  0.0435649071     0:15.9\n",
      "960   22095  0.0434487441     0:16.2\n",
      "980   23152  0.0423289565     0:16.8\n",
      "1000  23557  0.0424502271     0:17.0\n",
      "1020  24146  0.0422430216     0:17.4\n",
      "1040  24971  0.041648312      0:17.9\n",
      "1060  25615  0.0413820027     0:18.3\n",
      "1080  26414  0.0408874082     0:18.7\n",
      "1100  26868  0.0409408962     0:19.0\n",
      "1120  27780  0.0403167747     0:19.6\n",
      "1140  28498  0.0400028072     0:20.0\n",
      "1160  29137  0.039811923      0:20.4\n",
      "1180  29916  0.0394437759     0:20.9\n",
      "1200  30661  0.0391376667     0:21.3\n",
      "1220  31580  0.0386320456     0:21.9\n",
      "1240  32314  0.0383734604     0:22.4\n",
      "1260  33152  0.0380067568     0:22.9\n",
      "1280  33981  0.0376681086     0:23.4\n",
      "1300  34410  0.0377797152     0:23.7\n",
      "1320  35560  0.03712036       0:24.4\n",
      "1340  36489  0.0367233961     0:24.9\n",
      "1360  37079  0.0366784433     0:25.3\n",
      "1380  37809  0.0364992462     0:25.7\n",
      "1400  38428  0.0364317685     0:26.1\n",
      "Halting: target number of samples (1400) reached.\n",
      "Done\n"
     ]
    }
   ],
   "source": [
    "np.random.seed(1)\n",
    "abc = pints.ABCController(error_measure, log_prior, method=pints.ABCSMC)\n",
    "\n",
    "# set threshold schedule\n",
    "abc.sampler().set_threshold_schedule(np.array([3,1.5,1]))\n",
    "\n",
    "# produce intermediate distributions of size 200\n",
    "abc.sampler().set_intermediate_size(200)\n",
    "\n",
    "# set target number of samples\n",
    "abc.set_n_samples(1400)\n",
    "\n",
    "# log to screen\n",
    "abc.set_log_to_screen(True)\n",
    "\n",
    "print('Running...')\n",
    "samples  = abc.run()\n",
    "print('Done')"
   ]
  },
  {
   "cell_type": "markdown",
   "metadata": {},
   "source": [
    "We now plot the ABC posterior samples versus the actual value that was used to generate the data. This shows that, in this case, the parameter could be identified given the data. We only plot the last generation (by discarding the 400 samples generated by the other generations) as they are significantly more accurate."
   ]
  },
  {
   "cell_type": "code",
   "execution_count": 12,
   "metadata": {},
   "outputs": [
    {
     "data": {
      "image/png": "[encoded data removed]",
      "text/plain": [
       "<Figure size 432x288 with 1 Axes>"
      ]
     },
     "metadata": {
      "needs_background": "light"
     },
     "output_type": "display_data"
    }
   ],
   "source": [
    "plt.hist([x[0] for x in samples[400:]], label='Samples')\n",
    "\n",
    "plt.vlines(x=model.suggested_parameters(), linestyles='dashed', ymin=0, ymax=250, label='Actual value', color='red')\n",
    "plt.legend()\n",
    "plt.show()"
   ]
  },
  {
   "cell_type": "markdown",
   "metadata": {},
   "source": [
    "# Using the ask and tell interface"
   ]
  },
  {
   "cell_type": "markdown",
   "metadata": {},
   "source": [
    "We can use the ask-and-tell interface to visualise the algorithm's behaviour. In this example we run ABC-SMC with 3 successive generations and plot each generation separately. As expected, the samples are getting narrower and more accurate in later generations."
   ]
  },
  {
   "cell_type": "code",
   "execution_count": 13,
   "metadata": {},
   "outputs": [
    {
     "name": "stdout",
     "output_type": "stream",
     "text": [
      "Starting sampler\n",
      "Starting t=0, with threshold=3.0\n",
      "Starting t=1, with threshold=1.5\n",
      "Starting t=2, with threshold=1.0\n",
      "Sampler finished\n"
     ]
    }
   ],
   "source": [
    "abcsmc = pints.ABCSMC(log_prior, nr_samples=200, error_schedule=np.array([3,1.5,1]))\n",
    "\n",
    "evaluator = pints.SequentialEvaluator(error_measure)\n",
    "\n",
    "print(\"Starting sampler\")\n",
    "f = []\n",
    "s = []\n",
    "l = []\n",
    "cnt = 0\n",
    "np.random.seed(1)\n",
    "running = True\n",
    "while cnt < 1400:\n",
    "    accepted_vals = None\n",
    "    while accepted_vals is None:\n",
    "        xs = abcsmc.ask(1)\n",
    "        fxs = evaluator.evaluate(xs)\n",
    "        accepted_vals = abcsmc.tell(fxs)\n",
    "    if cnt < 200:\n",
    "        for val in accepted_vals:\n",
    "            f.append(val)\n",
    "    elif cnt < 400:\n",
    "        for val in accepted_vals:\n",
    "            s.append(val)\n",
    "    else:\n",
    "        for val in accepted_vals:\n",
    "            l.append(val)\n",
    "    cnt += len(accepted_vals)\n",
    "\n",
    "print(\"Sampler finished\")"
   ]
  },
  {
   "cell_type": "code",
   "execution_count": 20,
   "metadata": {},
   "outputs": [
    {
     "data": {
      "image/png": "[encoded data removed]",
      "text/plain": [
       "<Figure size 432x288 with 1 Axes>"
      ]
     },
     "metadata": {
      "needs_background": "light"
     },
     "output_type": "display_data"
    }
   ],
   "source": [
    "plt.hist([x[0] for x in f], bins=10, label='First generation')\n",
    "plt.xlim(0, 0.3)\n",
    "\n",
    "plt.vlines(x=model.suggested_parameters(), linestyles='dashed', ymin=0, ymax=50, label='Used parameter', color='red')\n",
    "plt.legend()\n",
    "plt.show()"
   ]
  },
  {
   "cell_type": "code",
   "execution_count": 21,
   "metadata": {},
   "outputs": [
    {
     "data": {
      "image/png": "[encoded data removed]",
      "text/plain": [
       "<Figure size 432x288 with 1 Axes>"
      ]
     },
     "metadata": {
      "needs_background": "light"
     },
     "output_type": "display_data"
    }
   ],
   "source": [
    "plt.hist([x[0] for x in s], bins=10, label='Second generation samples')\n",
    "plt.xlim(0, 0.3)\n",
    "\n",
    "plt.vlines(x=model.suggested_parameters(), linestyles='dashed', ymin=0, ymax=50, label='Used parameter', color='red')\n",
    "plt.legend()\n",
    "plt.show()"
   ]
  },
  {
   "cell_type": "code",
   "execution_count": 24,
   "metadata": {},
   "outputs": [
    {
     "data": {
      "image/png": "[encoded data removed]",
      "text/plain": [
       "<Figure size 432x288 with 1 Axes>"
      ]
     },
     "metadata": {
      "needs_background": "light"
     },
     "output_type": "display_data"
    }
   ],
   "source": [
    "plt.hist([x[0] for x in l], bins=10, label='Last generation')\n",
    "plt.xlim(0, 0.3)\n",
    "\n",
    "plt.vlines(x=model.suggested_parameters(), linestyles='dashed', ymin=0, ymax=250, label='Used parameter', color='red')\n",
    "plt.legend()\n",
    "plt.show()"
   ]
  }
 ],
 "metadata": {
  "interpreter": {
   "hash": "62b8c3045b77e73a8aab814fbf01ae024ab075fc3f7014742f3a4c5a8ac43e7b"
  },
  "kernelspec": {
   "display_name": "Python 3.8.0 32-bit",
   "language": "python",
   "name": "python3"
  },
  "language_info": {
   "codemirror_mode": {
    "name": "ipython",
    "version": 3
   },
   "file_extension": ".py",
   "mimetype": "text/x-python",
   "name": "python",
   "nbconvert_exporter": "python",
   "pygments_lexer": "ipython3",
   "version": "3.8.0"
  },
  "orig_nbformat": 4
 },
 "nbformat": 4,
 "nbformat_minor": 2
}
