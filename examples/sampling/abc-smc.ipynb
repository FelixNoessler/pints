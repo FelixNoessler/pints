{
 "cells": [
  {
   "cell_type": "markdown",
   "metadata": {},
   "source": [
    "# ABC-SMC"
   ]
  },
  {
   "cell_type": "markdown",
   "metadata": {},
   "source": [
    "This example shows you how to perform ABC Sequential Monte Carlo on a time series from the stochastic degradation model.\n",
    "\n",
    "First we generate some data using the suggested parameters for this model."
   ]
  },
  {
   "cell_type": "markdown",
   "metadata": {},
   "source": [
    "import pints\n",
    "import pints.toy as toy\n",
    "import pints.plot\n",
    "import numpy as np\n",
    "import matplotlib.pyplot as plt\n",
    "import seaborn as sns\n",
    "\n",
    "# Load forward model\n",
    "model = toy.StochasticDegradationModel()\n",
    "\n",
    "# Create some toy data\n",
    "real_parameters = model.suggested_parameters()\n",
    "times = np.linspace(0, 50, 100)\n",
    "values = model.simulate(real_parameters, times)\n",
    "\n",
    "# Create an object with links to the model and time series\n",
    "problem = pints.SingleOutputProblem(model, times, values)\n",
    "\n",
    "# Create a uniform prior parameter\n",
    "log_prior = pints.UniformLogPrior(\n",
    "    [0.0],\n",
    "    [0.3]\n",
    ")\n",
    "\n",
    "# Set the error measure to be used to compare simulated to observed data\n",
    "error_measure = pints.RootMeanSquaredError(problem)\n"
   ]
  },
  {
   "cell_type": "code",
   "execution_count": null,
   "metadata": {},
   "outputs": [],
   "source": []
  },
  {
   "cell_type": "markdown",
   "metadata": {},
   "source": []
  }
 ],
 "metadata": {
  "language_info": {
   "name": "python"
  },
  "orig_nbformat": 4
 },
 "nbformat": 4,
 "nbformat_minor": 2
}
