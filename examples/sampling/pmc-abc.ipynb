{
 "cells": [
  {
   "cell_type": "markdown",
   "metadata": {},
   "source": [
    "# PMC ABC\n",
    "\n",
    "This example shows you how to perform Population Monte Carlo ABC on a time series from the [stochastic degradation model](../toy/model-stochastic-degradation.ipynb). This model describes the describes the stochastic process of a single chemical reaction, in which the concentration of a substance degrades over time as particles react. It differs from most other models in PINTS through the fact that a likelihood ( $D | \\theta$ ) cannot be derived and we are only able to produce stochastic simulations using Gillespie's algorithm. ABC samplers are the solution to such a problem since they do not evaluate the likelihood to sample from the posterior distribution ( $\\theta | D$ )."
   ]
  },
  {
   "cell_type": "markdown",
   "metadata": {},
   "source": [
    "First, we will load the stochastic degradation model. In order to emphasise the variety provided by the stochastic simulations we will plot multiple runs of the model with the same parameters."
   ]
  },
  {
   "cell_type": "code",
   "execution_count": 5,
   "metadata": {},
   "outputs": [],
   "source": [
    "import pints\n",
    "import pints.toy as toy\n",
    "import pints.plot\n",
    "import numpy as np\n",
    "import matplotlib.pyplot as plt\n",
    "import pints.toy.stochastic"
   ]
  },
  {
   "cell_type": "code",
   "execution_count": 6,
   "metadata": {},
   "outputs": [
    {
     "data": {
      "image/png": "[encoded data removed]",
      "text/plain": [
       "<Figure size 432x288 with 1 Axes>"
      ]
     },
     "metadata": {
      "needs_background": "light"
     },
     "output_type": "display_data"
    }
   ],
   "source": [
    "np.random.seed(3)\n",
    "# Load a forward model\n",
    "model = toy.stochastic.DegradationModel()\n",
    "# Create some toy data\n",
    "real_parameters = model.suggested_parameters()\n",
    "times = np.linspace(0, 10, 100)\n",
    "for i in range(10):\n",
    "    values = model.simulate(real_parameters, times)\n",
    "    # Create an object with links to the model and time series\n",
    "    problem = pints.SingleOutputProblem(model, times, values)\n",
    "    # Create a uniform prior parameter\n",
    "    log_prior = pints.UniformLogPrior([0.0], [0.3])\n",
    "    # Set the error measure to be used to compare simulated to observed data\n",
    "    error_measure = pints.RootMeanSquaredError(problem)\n",
    "    plt.step(times, values)\n",
    "\n",
    "plt.xlabel('time')\n",
    "plt.ylabel('concentration (A(t))')\n",
    "plt.show()"
   ]
  },
  {
   "cell_type": "code",
   "execution_count": 11,
   "metadata": {},
   "outputs": [
    {
     "data": {
      "image/png": "[encoded data removed]",
      "text/plain": [
       "<Figure size 432x288 with 1 Axes>"
      ]
     },
     "metadata": {
      "needs_background": "light"
     },
     "output_type": "display_data"
    }
   ],
   "source": [
    "np.random.seed(2)\n",
    "ts, vs = model.simulate_raw(real_parameters, 10)\n",
    "plt.step(ts, vs)\n",
    "plt.show()\n"
   ]
  },
  {
   "cell_type": "markdown",
   "metadata": {},
   "source": [
    "## Fit using Population Monte Carlo ABC\n",
    "\n",
    "The Population Monte Carlo ABC algorithm can be applied to sample parameter values. An error measure will be used to compare the difference between the stochastic simulation obtained with the true set of parameters and the stochastic simulation obtained with a candidate value. Our error measure of choice is the root mean squared error. Root mean squared error has been chosen in order to amplify smaller differences between two stochastic simulations in order to increase the quality of our samples."
   ]
  },
  {
   "cell_type": "code",
   "execution_count": 12,
   "metadata": {},
   "outputs": [
    {
     "ename": "AttributeError",
     "evalue": "module 'pints' has no attribute 'ABCPMC'",
     "output_type": "error",
     "traceback": [
      "\u001b[1;31m---------------------------------------------------------------------------\u001b[0m",
      "\u001b[1;31mAttributeError\u001b[0m                            Traceback (most recent call last)",
      "\u001b[1;32m<ipython-input-12-3f8e78ae964c>\u001b[0m in \u001b[0;36m<module>\u001b[1;34m\u001b[0m\n\u001b[0;32m      1\u001b[0m \u001b[0mnp\u001b[0m\u001b[1;33m.\u001b[0m\u001b[0mrandom\u001b[0m\u001b[1;33m.\u001b[0m\u001b[0mseed\u001b[0m\u001b[1;33m(\u001b[0m\u001b[1;36m3\u001b[0m\u001b[1;33m)\u001b[0m\u001b[1;33m\u001b[0m\u001b[1;33m\u001b[0m\u001b[0m\n\u001b[0;32m      2\u001b[0m \u001b[1;33m\u001b[0m\u001b[0m\n\u001b[1;32m----> 3\u001b[1;33m \u001b[0mabc\u001b[0m \u001b[1;33m=\u001b[0m \u001b[0mpints\u001b[0m\u001b[1;33m.\u001b[0m\u001b[0mABCController\u001b[0m\u001b[1;33m(\u001b[0m\u001b[0merror_measure\u001b[0m\u001b[1;33m,\u001b[0m \u001b[0mlog_prior\u001b[0m\u001b[1;33m,\u001b[0m \u001b[0mmethod\u001b[0m\u001b[1;33m=\u001b[0m\u001b[0mpints\u001b[0m\u001b[1;33m.\u001b[0m\u001b[0mABCPMC\u001b[0m\u001b[1;33m)\u001b[0m\u001b[1;33m\u001b[0m\u001b[1;33m\u001b[0m\u001b[0m\n\u001b[0m\u001b[0;32m      4\u001b[0m \u001b[1;33m\u001b[0m\u001b[0m\n\u001b[0;32m      5\u001b[0m \u001b[1;31m# set the threshold\u001b[0m\u001b[1;33m\u001b[0m\u001b[1;33m\u001b[0m\u001b[1;33m\u001b[0m\u001b[0m\n",
      "\u001b[1;31mAttributeError\u001b[0m: module 'pints' has no attribute 'ABCPMC'"
     ]
    }
   ],
   "source": [
    "np.random.seed(3)\n",
    "\n",
    "abc = pints.ABCController(error_measure, log_prior, method=pints.ABCPMC)\n",
    "\n",
    "# set the threshold\n",
    "abc.sampler().set_threshold(1)\n",
    "\n",
    "# set target number of samples\n",
    "abc.set_n_samples(200)\n",
    "\n",
    "# setting the number of generations\n",
    "abc.sampler().set_n_generations(10)\n",
    "\n",
    "# setting the threshold ratio\n",
    "abc.sampler().set_t_ratio(0.99)\n",
    "\n",
    "# log to screen\n",
    "abc.set_log_to_screen(True)\n",
    "\n",
    "print('Running...')\n",
    "samples  = abc.run()\n",
    "print('Done')"
   ]
  },
  {
   "cell_type": "markdown",
   "metadata": {},
   "source": [
    "If we compare PMC ABC to other ABC samplers we may see that it is slower in terms of getting samples, however the samples obtained are of higher quality."
   ]
  },
  {
   "cell_type": "markdown",
   "metadata": {},
   "source": [
    "In order to find the efficiency of the PMC ABC, we plot the approximate posterior compared to the actual parameter value. In the graph, we can see that there is a high concentration of samples around the value with which the data was generated. This suggests that the PMC ABC algorithm performs well and that the root mean squared error was a good choice as an error measure, since high quality samples were produced."
   ]
  },
  {
   "cell_type": "code",
   "execution_count": 4,
   "metadata": {},
   "outputs": [
    {
     "data": {
      "image/png": "[encoded data removed]",
      "text/plain": [
       "<Figure size 432x288 with 1 Axes>"
      ]
     },
     "metadata": {
      "needs_background": "light"
     },
     "output_type": "display_data"
    }
   ],
   "source": [
    "plt.hist(samples[:,0], color=\"blue\", label=\"Samples\")\n",
    "plt.vlines(x=model.suggested_parameters(), linestyles='dashed', ymin=0, ymax=50, label=\"Actual value\", color=\"red\")\n",
    "plt.legend()\n",
    "plt.show()"
   ]
  },
  {
   "cell_type": "code",
   "execution_count": null,
   "metadata": {},
   "outputs": [],
   "source": []
  }
 ],
 "metadata": {
  "interpreter": {
   "hash": "62b8c3045b77e73a8aab814fbf01ae024ab075fc3f7014742f3a4c5a8ac43e7b"
  },
  "kernelspec": {
   "display_name": "Python 3.8.0 32-bit",
   "language": "python",
   "name": "python3"
  },
  "language_info": {
   "codemirror_mode": {
    "name": "ipython",
    "version": 3
   },
   "file_extension": ".py",
   "mimetype": "text/x-python",
   "name": "python",
   "nbconvert_exporter": "python",
   "pygments_lexer": "ipython3",
   "version": "3.8.0"
  },
  "orig_nbformat": 4
 },
 "nbformat": 4,
 "nbformat_minor": 2
}
