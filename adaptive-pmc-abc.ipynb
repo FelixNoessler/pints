{
 "cells": [
  {
   "cell_type": "markdown",
   "metadata": {},
   "source": [
    "# Adaptive PMC ABC\n",
    "This example shows you how to perform adaptive PMC ABC on a time series from the stochastic degradation model.\n"
   ]
  },
  {
   "cell_type": "code",
   "execution_count": 14,
   "metadata": {},
   "outputs": [],
   "source": [
    "import pints\n",
    "import pints.toy as toy\n",
    "import pints.plot\n",
    "import pints.toy.stochastic\n",
    "import numpy as np\n",
    "import matplotlib.pyplot as plt\n",
    "\n",
    "\n",
    "np.random.seed(1)\n",
    "\n",
    "# Load a forward model\n",
    "model = toy.stochastic.DegradationModel()\n",
    "\n",
    "# Create some toy data\n",
    "real_parameters = model.suggested_parameters()\n",
    "times = np.linspace(0, 10, 20)\n",
    "values = model.simulate(real_parameters, times)\n",
    "\n",
    "# Create an object with links to the model and time series\n",
    "problem = pints.SingleOutputProblem(model, times, values)\n",
    "\n",
    "# Create a uniform prior parameter\n",
    "log_prior = pints.UniformLogPrior([0.0], [0.3])\n",
    "\n",
    "\n",
    "# Set the error measure to be used to compare simulated to observed data\n",
    "error_measure = pints.RootMeanSquaredError(problem)"
   ]
  },
  {
   "cell_type": "markdown",
   "metadata": {},
   "source": [
    "## Fit using Rejection ABC"
   ]
  },
  {
   "cell_type": "code",
   "execution_count": 25,
   "metadata": {},
   "outputs": [
    {
     "name": "stdout",
     "output_type": "stream",
     "text": [
      "Running...\n",
      "Using ABC-Adaptive-PMC\n",
      "Running in sequential mode.\n",
      "w_mean=[0.14563061]\n",
      "epsilon=2.8106938645110393\n",
      "w_mean=[0.13980478]\n",
      "epsilon=2.23606797749979\n",
      "w_mean=[0.13369531]\n",
      "epsilon=2.0124611797498106\n",
      "w_mean=[0.13252792]\n",
      "epsilon=1.8027756377319946\n",
      "w_mean=[0.13236781]\n",
      "epsilon=1.6881943016134133\n",
      "w_mean=[0.13601438]\n",
      "epsilon=1.61245154965971\n",
      "w_mean=[0.13644809]\n",
      "epsilon=1.5329709716755893\n",
      "w_mean=[0.1346089]\n",
      "epsilon=1.4832396974191326\n",
      "w_mean=[0.13380614]\n",
      "epsilon=1.449137674618944\n",
      "w_mean=[0.1336381]\n",
      "epsilon=1.4142135623730951\n",
      "w_mean=[0.13404377]\n",
      "epsilon=1.3784048752090223\n",
      "w_mean=[0.13321135]\n",
      "epsilon=1.3416407864998738\n",
      "w_mean=[0.13026348]\n",
      "epsilon=1.3228756555322954\n",
      "w_mean=[0.13099878]\n",
      "epsilon=1.3038404810405297\n",
      "w_mean=[0.13063436]\n",
      "epsilon=1.284523257866513\n",
      "w_mean=[0.12991318]\n",
      "epsilon=1.2649110640673518\n",
      "w_mean=[0.12832569]\n",
      "epsilon=1.2449899597988732\n",
      "w_mean=[0.12833285]\n",
      "epsilon=1.2449899597988732\n",
      "w_mean=[0.12815517]\n",
      "epsilon=1.224744871391589\n",
      "w_mean=[0.12573829]\n",
      "epsilon=1.224744871391589\n",
      "w_mean=[0.12643103]\n",
      "epsilon=1.2041594578792296\n",
      "w_mean=[0.12826924]\n",
      "Iter. Eval. Acceptance rate Time m:s\n",
      "1     23     17.60869565217   2:49.0\n",
      "Halting: target number of samples (405) reached.\n",
      "Done\n"
     ]
    }
   ],
   "source": [
    "np.random.seed(1)\n",
    "\n",
    "abc = pints.ABCController(error_measure, log_prior, method=pints.ABCAdaptivePMC)\n",
    "\n",
    "# set threshold\n",
    "abc.sampler().set_N_l(200)\n",
    "\n",
    "# set p_acc_min\n",
    "abc.sampler().set_p_acc_min(0.03)\n",
    "\n",
    "# set target number of samples\n",
    "abc.set_nr_samples(400)\n",
    "\n",
    "# log to screen\n",
    "abc.set_log_to_screen(True)\n",
    "\n",
    "print('Running...')\n",
    "samples  = abc.run()\n",
    "print('Done')"
   ]
  },
  {
   "cell_type": "markdown",
   "metadata": {},
   "source": [
    "## Plot approximate posterior vs actual parameter value"
   ]
  },
  {
   "cell_type": "code",
   "execution_count": 24,
   "metadata": {},
   "outputs": [
    {
     "data": {
      "image/png": "[encoded data removed]",
      "text/plain": [
       "<Figure size 432x288 with 1 Axes>"
      ]
     },
     "metadata": {
      "needs_background": "light"
     },
     "output_type": "display_data"
    }
   ],
   "source": [
    "plt.hist(samples[:,0], color=\"blue\", label=\"Samples\")\n",
    "plt.vlines(x=model.suggested_parameters(), linestyles='dashed', ymin=0, ymax=50, label=\"Actual value\", color=\"red\")\n",
    "plt.legend()\n",
    "plt.show()"
   ]
  },
  {
   "cell_type": "code",
   "execution_count": 26,
   "metadata": {},
   "outputs": [
    {
     "data": {
      "image/png": "[encoded data removed]",
      "text/plain": [
       "<Figure size 432x288 with 1 Axes>"
      ]
     },
     "metadata": {
      "needs_background": "light"
     },
     "output_type": "display_data"
    }
   ],
   "source": [
    "plt.hist(samples[:,0], color=\"blue\", label=\"Samples\")\n",
    "plt.vlines(x=model.suggested_parameters(), linestyles='dashed', ymin=0, ymax=50, label=\"Actual value\", color=\"red\")\n",
    "plt.legend()\n",
    "plt.show()"
   ]
  },
  {
   "cell_type": "code",
   "execution_count": null,
   "metadata": {},
   "outputs": [],
   "source": []
  }
 ],
 "metadata": {
  "interpreter": {
   "hash": "62b8c3045b77e73a8aab814fbf01ae024ab075fc3f7014742f3a4c5a8ac43e7b"
  },
  "kernelspec": {
   "display_name": "Python 3.8.0 32-bit",
   "language": "python",
   "name": "python3"
  },
  "language_info": {
   "codemirror_mode": {
    "name": "ipython",
    "version": 3
   },
   "file_extension": ".py",
   "mimetype": "text/x-python",
   "name": "python",
   "nbconvert_exporter": "python",
   "pygments_lexer": "ipython3",
   "version": "3.8.0"
  },
  "orig_nbformat": 4
 },
 "nbformat": 4,
 "nbformat_minor": 2
}
