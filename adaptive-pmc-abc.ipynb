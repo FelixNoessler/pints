{
 "cells": [
  {
   "cell_type": "markdown",
   "metadata": {},
   "source": [
    "# Adaptive PMC ABC\n",
    "This example shows you how to perform adaptive PMC ABC on a time series from the stochastic degradation model.\n"
   ]
  },
  {
   "cell_type": "code",
   "execution_count": 1,
   "metadata": {},
   "outputs": [],
   "source": [
    "import pints\n",
    "import pints.toy as toy\n",
    "import pints.plot\n",
    "import pints.toy.stochastic\n",
    "import numpy as np\n",
    "import matplotlib.pyplot as plt\n",
    "\n",
    "# Load a forward model\n",
    "model = toy.stochastic.DegradationModel()\n",
    "\n",
    "# Create some toy data\n",
    "real_parameters = model.suggested_parameters()\n",
    "times = np.linspace(0, 10, 20)\n",
    "values = model.simulate(real_parameters, times)\n",
    "\n",
    "# Create an object with links to the model and time series\n",
    "problem = pints.SingleOutputProblem(model, times, values)\n",
    "\n",
    "# Create a uniform prior parameter\n",
    "log_prior = pints.UniformLogPrior([0.0], [0.3])\n",
    "\n",
    "\n",
    "# Set the error measure to be used to compare simulated to observed data\n",
    "error_measure = pints.RootMeanSquaredError(problem)"
   ]
  },
  {
   "cell_type": "markdown",
   "metadata": {},
   "source": [
    "## Fit using Rejection ABC"
   ]
  },
  {
   "cell_type": "code",
   "execution_count": 2,
   "metadata": {},
   "outputs": [
    {
     "name": "stdout",
     "output_type": "stream",
     "text": [
      "Running...\n",
      "Using ABC-Adaptive-PMC\n",
      "Running in sequential mode.\n",
      "w_mean=[0.11212175]\n",
      "epsilon=3.2015621187164243\n",
      "w_mean=[0.0893372]\n",
      "epsilon=2.5\n",
      "w_mean=[0.08329601]\n",
      "epsilon=2.0856653614614213\n",
      "w_mean=[0.08467868]\n",
      "epsilon=1.9364916731037085\n",
      "w_mean=[0.0883514]\n",
      "epsilon=1.8027756377319946\n",
      "w_mean=[0.09021226]\n",
      "epsilon=1.7175564037317668\n",
      "w_mean=[0.08991807]\n",
      "epsilon=1.6278820596099708\n",
      "w_mean=[0.08936077]\n",
      "epsilon=1.5652475842498528\n",
      "w_mean=[0.09022857]\n",
      "epsilon=1.5\n",
      "w_mean=[0.08970022]\n",
      "epsilon=1.466287829861518\n",
      "w_mean=[0.09274376]\n",
      "epsilon=1.4317821063276355\n",
      "w_mean=[0.0922629]\n",
      "epsilon=1.3964240043768943\n",
      "w_mean=[0.09219266]\n",
      "epsilon=1.3601470508735443\n",
      "w_mean=[0.08988965]\n",
      "epsilon=1.3416407864998738\n",
      "w_mean=[0.09245017]\n",
      "Iter. Eval. Acceptance rate Time m:s\n",
      "1     16     25.125           1:48.6\n",
      "Halting: target number of samples (402) reached.\n",
      "Done\n"
     ]
    }
   ],
   "source": [
    "abc = pints.ABCController(error_measure, log_prior, method=pints.ABCAdaptivePMC)\n",
    "\n",
    "# set threshold\n",
    "abc.sampler().set_N_l(500)\n",
    "\n",
    "# set p_acc_min\n",
    "abc.sampler().set_p_acc_min(0.05)\n",
    "\n",
    "# set target number of samples\n",
    "abc.set_nr_samples(1000)\n",
    "\n",
    "# log to screen\n",
    "abc.set_log_to_screen(True)\n",
    "\n",
    "print('Running...')\n",
    "samples  = abc.run()\n",
    "print('Done')"
   ]
  },
  {
   "cell_type": "markdown",
   "metadata": {},
   "source": [
    "## Plot approximate posterior vs actual parameter value"
   ]
  },
  {
   "cell_type": "code",
   "execution_count": 3,
   "metadata": {},
   "outputs": [
    {
     "data": {
      "image/png": "[encoded data removed]",
      "text/plain": [
       "<Figure size 432x288 with 1 Axes>"
      ]
     },
     "metadata": {
      "needs_background": "light"
     },
     "output_type": "display_data"
    }
   ],
   "source": [
    "plt.hist(samples[:,0], color=\"blue\", label=\"Samples\")\n",
    "plt.vlines(x=model.suggested_parameters(), linestyles='dashed', ymin=0, ymax=40, label=\"Actual value\", color=\"red\")\n",
    "plt.legend()\n",
    "plt.show()"
   ]
  },
  {
   "cell_type": "code",
   "execution_count": null,
   "metadata": {},
   "outputs": [],
   "source": []
  }
 ],
 "metadata": {
  "interpreter": {
   "hash": "62b8c3045b77e73a8aab814fbf01ae024ab075fc3f7014742f3a4c5a8ac43e7b"
  },
  "kernelspec": {
   "display_name": "Python 3.8.0 32-bit",
   "language": "python",
   "name": "python3"
  },
  "language_info": {
   "codemirror_mode": {
    "name": "ipython",
    "version": 3
   },
   "file_extension": ".py",
   "mimetype": "text/x-python",
   "name": "python",
   "nbconvert_exporter": "python",
   "pygments_lexer": "ipython3",
   "version": "3.8.0"
  },
  "orig_nbformat": 4
 },
 "nbformat": 4,
 "nbformat_minor": 2
}
