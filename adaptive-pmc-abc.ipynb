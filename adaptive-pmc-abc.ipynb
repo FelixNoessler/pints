{
 "cells": [
  {
   "cell_type": "markdown",
   "metadata": {},
   "source": [
    "# Adaptive PMC ABC\n",
    "This example shows you how to perform adaptive PMC ABC on a time series from the stochastic degradation model.\n"
   ]
  },
  {
   "cell_type": "code",
   "execution_count": 1,
   "metadata": {},
   "outputs": [],
   "source": [
    "import pints\n",
    "import pints.toy as toy\n",
    "import pints.plot\n",
    "import pints.toy.stochastic\n",
    "import numpy as np\n",
    "import matplotlib.pyplot as plt\n",
    "\n",
    "# Load a forward model\n",
    "model = toy.stochastic.DegradationModel()\n",
    "\n",
    "# Create some toy data\n",
    "real_parameters = model.suggested_parameters()\n",
    "times = np.linspace(0, 10, 20)\n",
    "values = model.simulate(real_parameters, times)\n",
    "\n",
    "# Create an object with links to the model and time series\n",
    "problem = pints.SingleOutputProblem(model, times, values)\n",
    "\n",
    "# Create a uniform prior parameter\n",
    "log_prior = pints.UniformLogPrior([0.0], [0.3])\n",
    "\n",
    "\n",
    "# Set the error measure to be used to compare simulated to observed data\n",
    "error_measure = pints.RootMeanSquaredError(problem)"
   ]
  },
  {
   "cell_type": "markdown",
   "metadata": {},
   "source": [
    "## Fit using Rejection ABC"
   ]
  },
  {
   "cell_type": "code",
   "execution_count": 4,
   "metadata": {},
   "outputs": [
    {
     "name": "stdout",
     "output_type": "stream",
     "text": [
      "Running...\n",
      "Using ABC-Adaptive-PMC\n",
      "Running in sequential mode.\n",
      "w_mean=[0.10646939]\n",
      "epsilon=3.556683848755748\n",
      "w_mean=[0.09796523]\n",
      "epsilon=2.692582403567252\n",
      "w_mean=[0.09489508]\n",
      "epsilon=2.280350850198276\n",
      "w_mean=[0.09184327]\n",
      "epsilon=2.0615528128088303\n",
      "w_mean=[0.09211735]\n",
      "epsilon=1.8841443681416772\n",
      "w_mean=[0.09152849]\n",
      "epsilon=1.7888543819998317\n",
      "w_mean=[0.09094832]\n",
      "epsilon=1.7029386365926402\n",
      "w_mean=[0.09092509]\n",
      "epsilon=1.6431676725154984\n",
      "w_mean=[0.0901903]\n",
      "epsilon=1.5968719422671314\n",
      "w_mean=[0.08913318]\n",
      "epsilon=1.5491933384829668\n",
      "w_mean=[0.08994564]\n",
      "epsilon=1.5165750888103102\n",
      "w_mean=[0.08955343]\n",
      "epsilon=1.4832396974191326\n",
      "w_mean=[0.08927977]\n",
      "epsilon=1.449137674618944\n",
      "w_mean=[0.08971008]\n",
      "epsilon=1.4317821063276355\n",
      "w_mean=[0.0896722]\n",
      "epsilon=1.3964240043768943\n",
      "w_mean=[0.0896742]\n",
      "epsilon=1.3784048752090223\n",
      "w_mean=[0.08973347]\n",
      "epsilon=1.3784048752090223\n",
      "w_mean=[0.08942398]\n",
      "Iter. Eval. Acceptance rate Time m:s\n",
      "1     19     54.42105263158  13:36.0\n",
      "Halting: target number of samples (1034) reached.\n",
      "Done\n"
     ]
    }
   ],
   "source": [
    "abc = pints.ABCController(error_measure, log_prior, method=pints.ABCAdaptivePMC)\n",
    "\n",
    "# set threshold\n",
    "abc.sampler().set_N_l(10)\n",
    "\n",
    "# set p_acc_min\n",
    "abc.sampler().set_p_acc_min(0.05)\n",
    "\n",
    "# set target number of samples\n",
    "abc.set_nr_samples(20)\n",
    "\n",
    "# log to screen\n",
    "abc.set_log_to_screen(True)\n",
    "\n",
    "print('Running...')\n",
    "samples  = abc.run()\n",
    "print('Done')"
   ]
  },
  {
   "cell_type": "markdown",
   "metadata": {},
   "source": [
    "## Plot approximate posterior vs actual parameter value"
   ]
  },
  {
   "cell_type": "code",
   "execution_count": 6,
   "metadata": {},
   "outputs": [
    {
     "data": {
      "image/png": "[encoded data removed]",
      "text/plain": [
       "<Figure size 432x288 with 1 Axes>"
      ]
     },
     "metadata": {
      "needs_background": "light"
     },
     "output_type": "display_data"
    }
   ],
   "source": [
    "plt.hist(samples[:,0], color=\"blue\", label=\"Samples\")\n",
    "plt.vlines(x=model.suggested_parameters(), linestyles='dashed', ymin=0, ymax=300, label=\"Actual value\", color=\"red\")\n",
    "plt.legend()\n",
    "plt.show()"
   ]
  },
  {
   "cell_type": "code",
   "execution_count": null,
   "metadata": {},
   "outputs": [],
   "source": []
  }
 ],
 "metadata": {
  "interpreter": {
   "hash": "62b8c3045b77e73a8aab814fbf01ae024ab075fc3f7014742f3a4c5a8ac43e7b"
  },
  "kernelspec": {
   "display_name": "Python 3.8.0 32-bit",
   "language": "python",
   "name": "python3"
  },
  "language_info": {
   "codemirror_mode": {
    "name": "ipython",
    "version": 3
   },
   "file_extension": ".py",
   "mimetype": "text/x-python",
   "name": "python",
   "nbconvert_exporter": "python",
   "pygments_lexer": "ipython3",
   "version": "3.8.0"
  },
  "orig_nbformat": 4
 },
 "nbformat": 4,
 "nbformat_minor": 2
}
