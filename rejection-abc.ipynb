{
 "cells": [
  {
   "cell_type": "markdown",
   "metadata": {},
   "source": [
    "# Rejection ABC\n"
   ]
  },
  {
   "cell_type": "markdown",
   "metadata": {},
   "source": [
    "PINTS can be used to perform inference for stochastic forward models. Here, we perform inference on the [stochastic degradation model](../toy/model-stochastic-degradation.ipynb) using Approximate Bayesian Computation (ABC). This model has only a single unknown parameter -- the rate at which chemicals degrade. We use the \"rejection ABC\" method to estimate this unknown and provide a measure of uncertainty in it."
   ]
  },
  {
   "cell_type": "markdown",
   "metadata": {},
   "source": [
    "First, we load the stochastic degradation model and perform 10 simulations from it. The variation inbetween runs is due to the inherent stochasticity of this type of model."
   ]
  },
  {
   "cell_type": "code",
   "execution_count": 28,
   "metadata": {
    "collapsed": true
   },
   "outputs": [],
   "source": [
    "import pints\n",
    "import pints.toy as toy\n",
    "import pints.toy.stochastic\n",
    "import pints.plot\n",
    "import numpy as np\n",
    "import matplotlib.pyplot as plt"
   ]
  },
  {
   "cell_type": "code",
   "execution_count": 29,
   "metadata": {},
   "outputs": [
    {
     "data": {
      "image/png": "[encoded data removed]",
      "text/plain": [
       "<Figure size 432x288 with 1 Axes>"
      ]
     },
     "metadata": {
      "needs_background": "light"
     },
     "output_type": "display_data"
    }
   ],
   "source": [
    "np.random.seed(4)\n",
    "\n",
    "# Load a forward model\n",
    "model = toy.stochastic.DegradationModel()\n",
    "\n",
    "# Create some toy data\n",
    "real_parameters = model.suggested_parameters()\n",
    "times = np.linspace(0, 10, 100)\n",
    "\n",
    "for i in range(10):\n",
    "    values = model.simulate(real_parameters, times)\n",
    "\n",
    "    # Create an object with links to the model and time series\n",
    "    problem = pints.SingleOutputProblem(model, times, values)\n",
    "\n",
    "    # Create a uniform prior parameter\n",
    "    log_prior = pints.UniformLogPrior([0.0], [0.3])\n",
    "\n",
    "    # Set the error measure to be used to compare simulated to observed data\n",
    "    error_measure = pints.RootMeanSquaredError(problem)\n",
    "\n",
    "    plt.step(times, values)\n",
    "\n",
    "\n",
    "plt.xlabel('time')\n",
    "plt.ylabel('concentration (A(t))')\n",
    "plt.show()"
   ]
  },
  {
   "cell_type": "markdown",
   "metadata": {},
   "source": [
    "## Fit using Rejection ABC\n",
    "\n",
    "The rejection ABC method can be used to perform parameter inference for stochastic models, where the likelihood is intractable. In ABC methods, typically, a distance metric comparing the observed data and the simulated is used. Here, we use the root mean square error (RMSE), and we accept a parameter value if the $RMSE<1$."
   ]
  },
  {
   "cell_type": "code",
   "execution_count": 30,
   "metadata": {},
   "outputs": [
    {
     "name": "stdout",
     "output_type": "stream",
     "text": [
      "Running...\n",
      "Using Rejection ABC\n",
      "Running in sequential mode.\n",
      "Iter. Eval. Acceptance rate Time m:s\n",
      "1     31     0.0322580645     0:00.0\n",
      "2     83     0.0240963855     0:00.1\n",
      "3     98     0.0306122449     0:00.1\n",
      "20    1218   0.0164203612     0:00.6\n",
      "40    2772   0.0144300144     0:01.4\n",
      "60    4067   0.0147528891     0:02.1\n",
      "80    5454   0.0146681335     0:02.8\n",
      "100   8148   0.0122729504     0:04.1\n",
      "120   9092   0.0131984162     0:04.5\n",
      "140   10455  0.0133907221     0:05.3\n",
      "160   11968  0.013368984      0:06.1\n",
      "180   13143  0.0136955033     0:06.6\n",
      "200   15315  0.0130590924     0:07.5\n",
      "220   16561  0.013284222      0:08.2\n",
      "240   17537  0.013685351      0:08.6\n",
      "260   18989  0.0136921376     0:09.2\n",
      "280   20544  0.0136292835     0:09.8\n",
      "300   21773  0.013778533      0:10.4\n",
      "320   23146  0.013825283      0:11.0\n",
      "340   24366  0.0139538701     0:11.4\n",
      "360   25759  0.0139756978     0:12.0\n",
      "380   27225  0.0139577594     0:12.6\n",
      "400   28804  0.0138869601     0:13.4\n",
      "420   30384  0.0138230648     0:14.0\n",
      "440   32153  0.0136845706     0:14.8\n",
      "460   33784  0.0136159129     0:15.4\n",
      "480   35656  0.0134619699     0:16.2\n",
      "500   36525  0.0136892539     0:16.5\n",
      "520   37558  0.0138452527     0:16.9\n",
      "540   39141  0.013796275      0:17.5\n",
      "560   40284  0.0139013008     0:18.0\n",
      "580   41938  0.0138299394     0:18.6\n",
      "600   43176  0.0138966092     0:19.1\n",
      "620   45247  0.0137025659     0:19.9\n",
      "640   46504  0.013762257      0:20.4\n",
      "660   48281  0.0136699737     0:21.1\n",
      "680   50090  0.013575564      0:21.9\n",
      "700   51756  0.0135250019     0:22.5\n",
      "720   53329  0.013501097      0:23.2\n",
      "740   55279  0.0133866387     0:24.0\n",
      "760   56675  0.0134097927     0:24.7\n",
      "780   57769  0.0135020513     0:25.2\n",
      "800   59362  0.0134766349     0:25.8\n",
      "820   60715  0.0135057235     0:26.4\n",
      "840   62718  0.0133932842     0:27.3\n",
      "860   64569  0.013319085      0:28.1\n",
      "880   65885  0.0133566062     0:28.8\n",
      "900   67499  0.0133335309     0:29.5\n",
      "920   69115  0.0133111481     0:30.3\n",
      "940   70777  0.0132811507     0:31.0\n",
      "960   71929  0.0133464945     0:31.5\n",
      "980   73516  0.0133304315     0:32.2\n",
      "1000  74682  0.0133901074     0:32.7\n",
      "Halting: target number of samples (1000) reached.\n",
      "Done\n"
     ]
    }
   ],
   "source": [
    "np.random.seed(1)\n",
    "abc = pints.ABCController(error_measure, log_prior)\n",
    "\n",
    "# set threshold\n",
    "abc.sampler().set_threshold(1)\n",
    "\n",
    "# set target number of samples\n",
    "abc.set_n_samples(1000)\n",
    "\n",
    "# log to screen\n",
    "abc.set_log_to_screen(True)\n",
    "\n",
    "print('Running...')\n",
    "samples  = abc.run()\n",
    "print('Done')"
   ]
  },
  {
   "cell_type": "markdown",
   "metadata": {},
   "source": [
    "We now plot the ABC posterior samples versus the actual value that was used to generate the data. This shows that, in this case, the parameter could be identified given the data."
   ]
  },
  {
   "cell_type": "code",
   "execution_count": 31,
   "metadata": {},
   "outputs": [
    {
     "data": {
      "image/png": "[encoded data removed]",
      "text/plain": [
       "<Figure size 432x288 with 1 Axes>"
      ]
     },
     "metadata": {
      "needs_background": "light"
     },
     "output_type": "display_data"
    }
   ],
   "source": [
    "plt.hist(samples[:,0], color=\"blue\", label=\"Samples\")\n",
    "plt.vlines(x=model.suggested_parameters(), linestyles='dashed', ymin=0, ymax=300, label=\"Actual value\", color=\"red\")\n",
    "plt.legend()\n",
    "plt.show()"
   ]
  },
  {
   "cell_type": "markdown",
   "metadata": {},
   "source": [
    "# Using parallel"
   ]
  },
  {
   "cell_type": "code",
   "execution_count": 32,
   "metadata": {},
   "outputs": [
    {
     "name": "stdout",
     "output_type": "stream",
     "text": [
      "Running...\n",
      "Using Rejection ABC\n",
      "Running in parallel with 8 worker processess.\n",
      "Iter. Eval. Acceptance rate Time m:s\n",
      "1     72     0.0138888889     0:01.6\n",
      "2     88     0.0227272727     0:01.7\n",
      "3     96     0.03125          0:01.7\n",
      "20    1384   0.0151734104     0:04.2\n",
      "40    3296   0.0124393204     0:08.2\n",
      "60    4600   0.0132608696     0:11.8\n",
      "80    7504   0.0111940299     0:18.0\n",
      "100   9448   0.0111134632     0:22.6\n",
      "120   10928  0.0114385066     0:25.6\n",
      "140   13208  0.0112053301     0:31.2\n",
      "160   14456  0.0116214721     0:33.7\n",
      "180   16176  0.0116839763     0:37.7\n",
      "200   17552  0.0119074749     0:40.8\n",
      "220   18432  0.0124782986     0:42.5\n",
      "240   20144  0.0124602859     0:46.5\n",
      "260   21984  0.0125090975     0:50.5\n",
      "280   23464  0.0126150699     0:53.8\n",
      "300   25272  0.0125039569     0:58.1\n",
      "320   26496  0.012718901      1:00.5\n",
      "340   28328  0.012637673      1:05.0\n",
      "360   30072  0.0126030859     1:08.8\n",
      "380   32136  0.0124782176     1:13.9\n",
      "400   33976  0.0124205321     1:18.0\n",
      "420   35280  0.0125566893     1:21.0\n",
      "440   37064  0.0125458666     1:25.4\n",
      "460   39736  0.0122055567     1:31.0\n",
      "480   41728  0.012150115      1:35.6\n",
      "500   43304  0.0122159616     1:39.0\n",
      "520   44976  0.0122065101     1:43.2\n",
      "540   46960  0.0121166951     1:47.3\n",
      "560   48192  0.0122426959     1:50.1\n",
      "580   49528  0.0123162655     1:53.2\n",
      "600   50464  0.0124841471     1:55.0\n",
      "620   51568  0.0126047161     1:57.6\n",
      "640   53072  0.0126432017     2:01.3\n",
      "660   54680  0.0126554499     2:04.5\n",
      "680   56072  0.0126979598     2:07.7\n",
      "700   57272  0.0127811147     2:10.8\n",
      "720   59280  0.0127024291     2:15.6\n",
      "740   60848  0.0127366553     2:19.4\n",
      "760   62744  0.0127183476     2:23.4\n",
      "780   64784  0.0126265745     2:29.5\n",
      "800   65952  0.0127365357     2:31.8\n",
      "820   67080  0.0128205128     2:34.2\n",
      "840   68216  0.0129148587     2:37.4\n",
      "860   69400  0.0129827089     2:40.1\n",
      "880   70760  0.0130299604     2:43.0\n",
      "900   72160  0.0131236142     2:46.4\n",
      "920   73552  0.013160757      2:49.6\n",
      "940   75384  0.0131062294     2:53.5\n",
      "Halting: target number of samples (1000) reached.\n",
      "Done\n"
     ]
    }
   ],
   "source": [
    "np.random.seed(1)\n",
    "abc = pints.ABCController(error_measure, log_prior)\n",
    "\n",
    "# set threshold\n",
    "abc.sampler().set_threshold(1)\n",
    "\n",
    "# set target number of samples\n",
    "abc.set_n_samples(1000)\n",
    "\n",
    "# enable parallelisation\n",
    "abc.set_parallel(True)\n",
    "\n",
    "# log to screen\n",
    "abc.set_log_to_screen(True)\n",
    "\n",
    "print('Running...')\n",
    "samples  = abc.run()\n",
    "print('Done')"
   ]
  },
  {
   "cell_type": "code",
   "execution_count": 33,
   "metadata": {},
   "outputs": [
    {
     "data": {
      "image/png": "[encoded data removed]",
      "text/plain": [
       "<Figure size 432x288 with 1 Axes>"
      ]
     },
     "metadata": {
      "needs_background": "light"
     },
     "output_type": "display_data"
    }
   ],
   "source": [
    "plt.hist(samples[:,0], color=\"blue\", label=\"Samples\")\n",
    "plt.vlines(x=model.suggested_parameters(), linestyles='dashed', ymin=0, ymax=300, label=\"Actual value\", color=\"red\")\n",
    "plt.legend()\n",
    "plt.show()"
   ]
  }
 ],
 "metadata": {
  "interpreter": {
   "hash": "62b8c3045b77e73a8aab814fbf01ae024ab075fc3f7014742f3a4c5a8ac43e7b"
  },
  "kernelspec": {
   "display_name": "Python 3",
   "language": "python",
   "name": "python3"
  },
  "language_info": {
   "codemirror_mode": {
    "name": "ipython",
    "version": 3
   },
   "file_extension": ".py",
   "mimetype": "text/x-python",
   "name": "python",
   "nbconvert_exporter": "python",
   "pygments_lexer": "ipython3",
   "version": "3.8.0"
  }
 },
 "nbformat": 4,
 "nbformat_minor": 2
}
