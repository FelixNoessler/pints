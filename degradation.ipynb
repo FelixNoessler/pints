{
 "cells": [
  {
   "cell_type": "markdown",
   "metadata": {},
   "source": [
    "# Testing degradation on ABC vs true distribution"
   ]
  },
  {
   "cell_type": "code",
   "execution_count": 1,
   "metadata": {},
   "outputs": [],
   "source": [
    "import pints\n",
    "import pints.toy as toy\n",
    "import pints.toy.stochastic\n",
    "import pints.plot\n",
    "import numpy as np\n",
    "import matplotlib.pyplot as plt"
   ]
  },
  {
   "cell_type": "code",
   "execution_count": 19,
   "metadata": {},
   "outputs": [
    {
     "data": {
      "image/png": "[encoded data removed]",
      "text/plain": [
       "<Figure size 432x288 with 1 Axes>"
      ]
     },
     "metadata": {
      "needs_background": "light"
     },
     "output_type": "display_data"
    }
   ],
   "source": [
    "np.random.seed(1)\n",
    "\n",
    "# Load a forward model\n",
    "model = toy.stochastic.DegradationModel()\n",
    "\n",
    "# Create some toy data\n",
    "real_parameters = model.suggested_parameters()\n",
    "times = np.linspace(0, 10, 20)\n",
    "\n",
    "values = model.simulate(real_parameters, times)\n",
    "\n",
    "# Create an object with links to the model and time series\n",
    "problem = pints.SingleOutputProblem(model, times, values)\n",
    "\n",
    "# Create a uniform prior parameter\n",
    "log_prior = pints.UniformLogPrior([0.0], [0.3])\n",
    "\n",
    "# Set the error measure to be used to compare simulated to observed data\n",
    "error_measure = pints.RootMeanSquaredError(problem)\n",
    "plt.step(times, values)\n",
    "\n",
    "\n",
    "plt.xlabel('time')\n",
    "plt.ylabel('concentration (A(t))')\n",
    "plt.show()"
   ]
  },
  {
   "cell_type": "code",
   "execution_count": 20,
   "metadata": {},
   "outputs": [
    {
     "name": "stdout",
     "output_type": "stream",
     "text": [
      "likelihood integrate value=2.7564000797764155e-16\n",
      "posterior integrate value=1.0001433014976961\n"
     ]
    }
   ],
   "source": [
    "np.random.seed(0)\n",
    "\n",
    "from math import comb\n",
    "\n",
    "n_0 = 20\n",
    "\n",
    "# Probability for one data point\n",
    "def compute_prob(n, t, k):\n",
    "    exp_term = np.exp(-k * n * t)\n",
    "    comb_term = comb(n_0, int(n)) \n",
    "    t_term = (1 - np.exp(-k * t)) \n",
    "    return exp_term * comb_term * (t_term ** (n_0 - n))\n",
    "\n",
    "# Probability for multiple data points\n",
    "def prob_gen(data, times, k):\n",
    "    all_prob = 1.0\n",
    "    for i in range(len(data)):\n",
    "        computed_prob = compute_prob(data[i][0], times[i], k)\n",
    "        all_prob *= computed_prob\n",
    "    return all_prob\n",
    "\n",
    "\n",
    "# Compute integral\n",
    "from scipy import integrate\n",
    "\n",
    "func = lambda x : prob_gen(values, times, x)\n",
    "int_val = integrate.quad(func, 0.01, 0.3)\n",
    "print(\"likelihood integrate value=\"+str(int_val[0]))\n",
    "\n",
    "# True posterior\n",
    "def posterior(data, times, k):\n",
    "    return prob_gen(data, times, k) / int_val[0]\n",
    "\n",
    "thetas = np.linspace(0.01, 0.3, 30)\n",
    "true_prob = []\n",
    "for i in range(len(thetas)):\n",
    "    true_prob.append(posterior(values, times, thetas[i]))\n",
    "\n",
    "v_func = lambda x : posterior(values, times, x)\n",
    "i_val = integrate.quad(v_func, 0.01, 0.3)\n",
    "\n",
    "print(\"posterior integrate value=\"+str(i_val[0]))"
   ]
  },
  {
   "cell_type": "code",
   "execution_count": 21,
   "metadata": {},
   "outputs": [
    {
     "data": {
      "image/png": "[encoded data removed]",
      "text/plain": [
       "<Figure size 432x288 with 1 Axes>"
      ]
     },
     "metadata": {
      "needs_background": "light"
     },
     "output_type": "display_data"
    }
   ],
   "source": [
    "plt.plot(thetas, true_prob)\n",
    "plt.show()"
   ]
  },
  {
   "cell_type": "markdown",
   "metadata": {},
   "source": [
    "# Rejection ABC"
   ]
  },
  {
   "cell_type": "code",
   "execution_count": 22,
   "metadata": {},
   "outputs": [
    {
     "name": "stdout",
     "output_type": "stream",
     "text": [
      "Running...\n",
      "Using Rejection ABC\n",
      "Running in sequential mode.\n",
      "Iter. Eval. Acceptance rate Time m:s\n",
      "1     239    0.00418410042    0:00.1\n",
      "2     645    0.00310077519    0:00.2\n",
      "3     776    0.00386597938    0:00.3\n",
      "20    3533   0.00566091141    0:01.3\n",
      "40    7315   0.00546821599    0:02.8\n",
      "60    14070  0.00426439232    0:05.2\n",
      "80    18100  0.0044198895     0:06.6\n",
      "100   22855  0.00437541019    0:08.2\n",
      "120   27613  0.00434577916    0:09.8\n",
      "140   31292  0.00447398696    0:11.1\n",
      "160   37009  0.00432327272    0:13.1\n",
      "180   42611  0.00422426134    0:15.1\n",
      "200   46936  0.00426112153    0:16.7\n",
      "220   51224  0.00429486178    0:18.2\n",
      "240   56198  0.00427061461    0:20.0\n",
      "260   61731  0.00421182226    0:22.0\n",
      "280   64911  0.00431359862    0:23.1\n",
      "300   69981  0.00428687787    0:24.9\n",
      "320   75412  0.00424335649    0:26.8\n",
      "340   79167  0.00429471876    0:28.1\n",
      "360   83079  0.004333225      0:29.6\n",
      "380   87687  0.00433359563    0:31.2\n",
      "400   93184  0.00429258242    0:33.1\n",
      "420   96237  0.00436422582    0:34.1\n",
      "440   102431  0.00429557458    0:36.2\n",
      "460   107857  0.00426490631    0:38.1\n",
      "480   111913  0.00428904596    0:39.4\n",
      "500   116939  0.0042757335     0:41.2\n",
      "520   122844  0.00423301097    0:43.2\n",
      "540   127556  0.00423343473    0:44.8\n",
      "560   131416  0.00426127717    0:46.1\n",
      "580   135965  0.0042658037     0:47.6\n",
      "600   141904  0.00422821062    0:49.6\n",
      "620   146482  0.00423260196    0:51.0\n",
      "640   152635  0.00419300947    0:53.1\n",
      "660   156382  0.00422043458    0:54.3\n",
      "680   161443  0.00421201291    0:56.0\n",
      "700   165557  0.00422815103    0:57.3\n",
      "720   170832  0.00421466704    0:59.1\n",
      "740   176411  0.00419474976    1:00.9\n",
      "760   179719  0.00422882389    1:01.9\n",
      "780   184820  0.00422032248    1:03.7\n",
      "800   189399  0.00422388714    1:05.1\n",
      "820   192725  0.00425476716    1:06.2\n",
      "840   195983  0.00428608604    1:07.3\n",
      "860   199227  0.00431668398    1:08.4\n",
      "880   203553  0.00432319838    1:09.8\n",
      "900   209045  0.00430529312    1:11.6\n",
      "920   214766  0.00428373206    1:13.5\n",
      "940   219262  0.00428710857    1:15.0\n",
      "960   222528  0.00431406385    1:16.1\n",
      "980   227426  0.00430909395    1:17.6\n",
      "1000  235021  0.00425493892    1:20.1\n",
      "Halting: target number of samples (1000) reached.\n",
      "Done\n"
     ]
    }
   ],
   "source": [
    "abc = pints.ABCController(error_measure, log_prior)\n",
    "\n",
    "# set threshold\n",
    "abc.sampler().set_threshold(0.85)\n",
    "\n",
    "# set target number of samples\n",
    "abc.set_n_samples(1000)\n",
    "\n",
    "# log to screen\n",
    "abc.set_log_to_screen(True)\n",
    "\n",
    "print('Running...')\n",
    "samples  = abc.run()\n",
    "print('Done')"
   ]
  },
  {
   "cell_type": "code",
   "execution_count": 23,
   "metadata": {},
   "outputs": [
    {
     "data": {
      "image/png": "[encoded data removed]",
      "text/plain": [
       "<Figure size 432x288 with 1 Axes>"
      ]
     },
     "metadata": {
      "needs_background": "light"
     },
     "output_type": "display_data"
    }
   ],
   "source": [
    "plt.hist(samples[:,0], color=\"blue\", label=\"Samples\")\n",
    "plt.vlines(x=model.suggested_parameters(), linestyles='dashed', ymin=0, ymax=300, label=\"Actual value\", color=\"red\")\n",
    "mod_true_prob = [x * 6 for x in true_prob]\n",
    "plt.plot(thetas, mod_true_prob, color='black', label='Scaled posterior')\n",
    "plt.legend()\n",
    "plt.show()"
   ]
  },
  {
   "cell_type": "markdown",
   "metadata": {},
   "source": [
    "# PMC Degradation (with smc)"
   ]
  },
  {
   "cell_type": "code",
   "execution_count": 30,
   "metadata": {},
   "outputs": [
    {
     "name": "stdout",
     "output_type": "stream",
     "text": [
      "Using ABC-SMC\n",
      "Running in sequential mode.\n",
      "Trying t=1, threshold=1.0\n",
      "Trying t=2, threshold=0.8\n",
      "Iter. Eval. Acceptance rate Time m:s\n",
      "1     68407  1.4618387e-05    1:12.3\n",
      "2     68907  2.90246274e-05   1:12.8\n",
      "3     69287  4.32981656e-05   1:13.2\n",
      "20    73824  0.000270914608   1:16.7\n",
      "40    77526  0.000515955937   1:19.7\n",
      "60    80460  0.000745712155   1:22.1\n",
      "80    84055  0.000951757778   1:25.0\n",
      "100   87542  0.00114230883    1:28.1\n",
      "120   92565  0.00129638632    1:32.8\n",
      "140   94296  0.00148468652    1:34.3\n",
      "160   97526  0.00164058815    1:36.6\n",
      "180   101370  0.00177567328    1:39.3\n",
      "200   103832  0.00192618846    1:40.9\n",
      "220   106989  0.00205628616    1:43.0\n",
      "240   110646  0.00216907977    1:45.3\n",
      "260   113418  0.00229240509    1:47.3\n",
      "280   116692  0.00239947897    1:49.4\n",
      "300   120056  0.00249883388    1:51.6\n",
      "320   122725  0.00260745569    1:53.4\n",
      "340   125840  0.00270184361    1:55.5\n",
      "360   130505  0.002758515      1:58.5\n",
      "380   135135  0.00281200281    2:01.5\n",
      "400   138257  0.00289316273    2:03.5\n",
      "420   142056  0.0029565805     2:06.0\n",
      "440   145912  0.0030155162     2:08.9\n",
      "460   148689  0.00309370565    2:11.0\n",
      "480   152449  0.00314859396    2:14.5\n",
      "500   155377  0.0032179795     2:16.2\n",
      "520   158302  0.00328486058    2:17.9\n",
      "540   161157  0.00335076975    2:19.8\n",
      "560   165214  0.00338954326    2:23.0\n",
      "580   169165  0.00342860521    2:25.4\n",
      "600   172802  0.00347218203    2:28.6\n",
      "620   177090  0.00350104467    2:31.1\n",
      "640   180040  0.00355476561    2:33.2\n",
      "660   182972  0.00360710928    2:35.0\n",
      "680   185982  0.00365626781    2:37.2\n",
      "700   189775  0.00368857858    2:39.8\n",
      "720   193387  0.00372310445    2:43.9\n",
      "740   195836  0.00377867195    2:45.6\n",
      "760   199920  0.00380152061    2:47.8\n",
      "780   204078  0.00382206803    2:50.2\n",
      "800   209046  0.00382690891    2:52.9\n",
      "820   213031  0.00384920505    2:55.1\n",
      "840   216120  0.00388672959    2:56.7\n",
      "860   218522  0.00393553052    2:58.2\n",
      "880   222191  0.00396055646    3:00.3\n",
      "900   224883  0.00400208108    3:01.8\n",
      "920   227647  0.00404134471    3:03.4\n",
      "940   232540  0.0040423153     3:06.2\n",
      "960   235426  0.00407771444    3:07.8\n",
      "980   238172  0.00411467343    3:09.3\n",
      "1000  242225  0.00412839302    3:11.6\n",
      "Halting: target number of samples (1000) reached.\n",
      "Done\n"
     ]
    }
   ],
   "source": [
    "np.random.seed(0)\n",
    "abc = pints.ABCController(error_measure, log_prior, method=pints.ABCSMC)\n",
    "# set initial threshold\n",
    "abc.sampler().set_threshold_schedule(np.array([1.2, 1, 0.8]))\n",
    "\n",
    "# produce intermediate distributions of size 1000\n",
    "abc.sampler().set_intermediate_size(1000)\n",
    "\n",
    "# set target number of samples\n",
    "abc.set_n_samples(1000)\n",
    "\n",
    "# log to screen\n",
    "abc.set_log_to_screen(True)\n",
    "\n",
    "samples = abc.run()\n",
    "print(\"Done\")"
   ]
  },
  {
   "cell_type": "code",
   "execution_count": 31,
   "metadata": {},
   "outputs": [
    {
     "data": {
      "image/png": "[encoded data removed]",
      "text/plain": [
       "<Figure size 432x288 with 1 Axes>"
      ]
     },
     "metadata": {
      "needs_background": "light"
     },
     "output_type": "display_data"
    }
   ],
   "source": [
    "plt.hist(samples[:,0], color=\"blue\", label=\"Samples\")\n",
    "plt.vlines(x=model.suggested_parameters(), linestyles='dashed', ymin=0, ymax=300, label=\"Actual value\", color=\"red\")\n",
    "mod_true_prob = [x * 6 for x in true_prob]\n",
    "plt.plot(thetas, mod_true_prob, color='black', label='Scaled posterior')\n",
    "plt.legend()\n",
    "plt.show()"
   ]
  },
  {
   "cell_type": "markdown",
   "metadata": {},
   "source": [
    "# True PMC"
   ]
  },
  {
   "cell_type": "code",
   "execution_count": 13,
   "metadata": {},
   "outputs": [
    {
     "name": "stdout",
     "output_type": "stream",
     "text": [
      "Running...\n",
      "Using PMC ABC\n",
      "Running in sequential mode.\n",
      "Iter. Eval. Acceptance rate Time m:s\n",
      "1     465899  0.00107534036   18:42.1\n",
      "Halting: target number of samples (501) reached.\n",
      "Done\n"
     ]
    }
   ],
   "source": [
    "np.random.seed(3)\n",
    "\n",
    "abc = pints.ABCController(error_measure, log_prior, method=pints.ABCPMC)\n",
    "\n",
    "# set the threshold\n",
    "abc.sampler().set_threshold(1)\n",
    "\n",
    "# set target number of samples\n",
    "# try this\n",
    "abc.set_n_samples(500)\n",
    "\n",
    "# setting the number of generations\n",
    "abc.sampler().set_n_generations(20)\n",
    "\n",
    "# setting the threshold ratio\n",
    "abc.sampler().set_t_ratio(0.99)\n",
    "\n",
    "# log to screen\n",
    "abc.set_log_to_screen(True)\n",
    "\n",
    "print('Running...')\n",
    "samples  = abc.run()\n",
    "print('Done')"
   ]
  },
  {
   "cell_type": "code",
   "execution_count": 14,
   "metadata": {},
   "outputs": [
    {
     "data": {
      "image/png": "[encoded data removed]",
      "text/plain": [
       "<Figure size 432x288 with 1 Axes>"
      ]
     },
     "metadata": {
      "needs_background": "light"
     },
     "output_type": "display_data"
    }
   ],
   "source": [
    "plt.hist(samples[:,0], color=\"blue\", label=\"Samples\")\n",
    "plt.vlines(x=model.suggested_parameters(), linestyles='dashed', ymin=0, ymax=80, label=\"Actual value\", color=\"red\")\n",
    "# plt.plot(thetas, true_prob, label=\"posterior\")\n",
    "plt.legend()\n",
    "plt.show()"
   ]
  },
  {
   "cell_type": "markdown",
   "metadata": {},
   "source": [
    "# ABC SMC"
   ]
  },
  {
   "cell_type": "code",
   "execution_count": 24,
   "metadata": {},
   "outputs": [
    {
     "name": "stdout",
     "output_type": "stream",
     "text": [
      "Using ABC-SMC\n",
      "Running in sequential mode.\n",
      "Trying t=1, threshold=1.0\n",
      "Trying t=2, threshold=0.8\n",
      "Iter. Eval. Acceptance rate Time m:s\n",
      "1     15519  6.44371416e-05   0:07.9\n",
      "2     15660  0.000127713921   0:08.0\n",
      "3     15708  0.000190985485   0:08.0\n",
      "20    19081  0.00104816309    0:09.8\n",
      "40    21987  0.00181925683    0:11.5\n",
      "60    24541  0.00244488815    0:12.9\n",
      "80    26769  0.00298853151    0:14.2\n",
      "100   29683  0.00336893171    0:15.9\n",
      "120   33592  0.00357227911    0:18.0\n",
      "140   36405  0.0038456256     0:19.5\n",
      "160   38591  0.00414604441    0:20.7\n",
      "180   41972  0.00428857333    0:22.5\n",
      "200   44818  0.00446249275    0:24.2\n",
      "220   47166  0.00466437688    0:25.5\n",
      "240   50183  0.00478249606    0:27.2\n",
      "260   53509  0.00485899568    0:29.0\n",
      "280   56416  0.00496313103    0:30.6\n",
      "300   60156  0.00498703371    0:32.6\n",
      "320   63694  0.0050240211     0:34.5\n",
      "340   66684  0.00509867434    0:36.2\n",
      "360   70743  0.00508884271    0:38.4\n",
      "380   74758  0.00508306803    0:40.6\n",
      "400   78915  0.00506874485    0:42.8\n",
      "420   83119  0.00505299631    0:45.2\n",
      "440   85634  0.00513814606    0:46.6\n",
      "460   88074  0.00522288076    0:47.8\n",
      "480   91726  0.00523297647    0:49.7\n",
      "500   95213  0.00525138374    0:51.3\n",
      "520   98285  0.00529073612    0:52.8\n",
      "540   102314  0.00527787009    0:54.7\n",
      "560   105518  0.00530715139    0:56.4\n",
      "580   108671  0.00533721048    0:57.9\n",
      "600   113244  0.00529829395    1:00.1\n",
      "620   116655  0.0053148172     1:01.7\n",
      "640   121564  0.00526471653    1:04.1\n",
      "660   124303  0.00530960637    1:05.5\n",
      "680   128456  0.0052936414     1:07.5\n",
      "700   131586  0.00531971486    1:09.0\n",
      "720   135736  0.00530441445    1:11.0\n",
      "740   137948  0.00536434019    1:12.1\n",
      "760   142039  0.00535064313    1:14.2\n",
      "780   146336  0.00533019899    1:16.4\n",
      "800   149074  0.00536646229    1:17.6\n",
      "820   151875  0.00539917695    1:19.0\n",
      "840   156124  0.00538033871    1:21.2\n",
      "860   160633  0.00535381895    1:23.4\n",
      "880   164213  0.00535889363    1:25.2\n",
      "900   166914  0.00539199827    1:26.6\n",
      "920   170742  0.00538824659    1:28.5\n",
      "940   174726  0.00537985188    1:30.7\n",
      "960   177934  0.00539525892    1:32.2\n",
      "980   183035  0.00535416724    1:34.8\n",
      "1000  187047  0.00534624987    1:36.7\n",
      "Halting: target number of samples (1000) reached.\n",
      "Done\n"
     ]
    }
   ],
   "source": [
    "np.random.seed(0)\n",
    "abc = pints.ABCController(error_measure, log_prior, method=pints.ABCSMC)\n",
    "# set initial threshold\n",
    "abc.sampler().set_threshold_schedule(np.array([1.2, 1, 0.8]))\n",
    "\n",
    "# produce intermediate distributions of size 200\n",
    "abc.sampler().set_intermediate_size(200)\n",
    "\n",
    "# set target number of samples\n",
    "abc.set_n_samples(1000)\n",
    "\n",
    "# log to screen\n",
    "abc.set_log_to_screen(True)\n",
    "\n",
    "samples = abc.run()\n",
    "print(\"Done\")"
   ]
  },
  {
   "cell_type": "code",
   "execution_count": 25,
   "metadata": {},
   "outputs": [
    {
     "data": {
      "image/png": "[encoded data removed]",
      "text/plain": [
       "<Figure size 432x288 with 1 Axes>"
      ]
     },
     "metadata": {
      "needs_background": "light"
     },
     "output_type": "display_data"
    }
   ],
   "source": [
    "plt.hist(samples[:,0], color=\"blue\", label=\"Samples\")\n",
    "plt.vlines(x=model.suggested_parameters(), linestyles='dashed', ymin=0, ymax=300, label=\"Actual value\", color=\"red\")\n",
    "mod_true_prob = [x * 6 for x in true_prob]\n",
    "plt.plot(thetas, mod_true_prob, color='black', label='Scaled posterior')\n",
    "plt.legend()\n",
    "plt.show()"
   ]
  },
  {
   "cell_type": "markdown",
   "metadata": {},
   "source": [
    "# Adaptive PMC ABC"
   ]
  },
  {
   "cell_type": "code",
   "execution_count": 26,
   "metadata": {},
   "outputs": [
    {
     "name": "stdout",
     "output_type": "stream",
     "text": [
      "Running...\n",
      "Using ABC-Adaptive-PMC\n",
      "Running in sequential mode.\n",
      "w_mean=[0.12649993]\n",
      "epsilon=4.41021541423999\n",
      "w_mean=[0.11803679]\n",
      "epsilon=3.5142566781611158\n",
      "w_mean=[0.1157323]\n",
      "epsilon=3.0\n",
      "w_mean=[0.11079684]\n",
      "epsilon=2.6076809620810595\n",
      "w_mean=[0.10936335]\n",
      "epsilon=2.313006701244076\n",
      "w_mean=[0.10570389]\n",
      "epsilon=2.0976176963403033\n",
      "w_mean=[0.10583894]\n",
      "epsilon=1.9364916731037085\n",
      "w_mean=[0.10472661]\n",
      "epsilon=1.857417562100671\n",
      "w_mean=[0.10403322]\n",
      "epsilon=1.7748239349298849\n",
      "w_mean=[0.10479502]\n",
      "epsilon=1.6881943016134133\n",
      "w_mean=[0.10328202]\n",
      "epsilon=1.6278820596099708\n",
      "w_mean=[0.10181448]\n",
      "epsilon=1.5811388300841898\n",
      "w_mean=[0.10196287]\n",
      "epsilon=1.5491933384829668\n",
      "w_mean=[0.10068855]\n",
      "epsilon=1.5165750888103102\n",
      "w_mean=[0.10001645]\n",
      "epsilon=1.4832396974191326\n",
      "w_mean=[0.10054917]\n",
      "epsilon=1.449137674618944\n",
      "w_mean=[0.10058947]\n",
      "epsilon=1.4317821063276355\n",
      "w_mean=[0.10013731]\n",
      "epsilon=1.4142135623730951\n",
      "w_mean=[0.09995851]\n",
      "epsilon=1.3784048752090223\n",
      "w_mean=[0.0996001]\n",
      "epsilon=1.3601470508735443\n",
      "w_mean=[0.09885654]\n",
      "epsilon=1.3416407864998738\n",
      "w_mean=[0.09841498]\n",
      "epsilon=1.3416407864998738\n",
      "w_mean=[0.09875267]\n",
      "epsilon=1.3228756555322954\n",
      "w_mean=[0.09856954]\n",
      "epsilon=1.3038404810405297\n",
      "w_mean=[0.09833306]\n",
      "epsilon=1.284523257866513\n",
      "w_mean=[0.0978887]\n",
      "epsilon=1.2649110640673518\n",
      "w_mean=[0.09728176]\n",
      "epsilon=1.2449899597988732\n",
      "w_mean=[0.09764437]\n",
      "epsilon=1.2449899597988732\n",
      "w_mean=[0.09809289]\n",
      "epsilon=1.224744871391589\n",
      "w_mean=[0.09817213]\n",
      "epsilon=1.2041594578792296\n",
      "w_mean=[0.09769422]\n",
      "Iter. Eval. Acceptance rate Time m:s\n",
      "1     32     31.28125        20:26.8\n",
      "Halting: target number of samples (1001) reached.\n",
      "Done\n"
     ]
    }
   ],
   "source": [
    "np.random.seed(2)\n",
    "abc = pints.ABCController(error_measure, log_prior, method=pints.ABCAdaptivePMC)\n",
    "\n",
    "# set threshold\n",
    "abc.sampler().set_N_l(700)\n",
    "\n",
    "# set p_acc_min\n",
    "abc.sampler().set_p_acc_min(0.05)\n",
    "\n",
    "# set target number of samples\n",
    "abc.set_n_samples(1000)\n",
    "\n",
    "# log to screen\n",
    "abc.set_log_to_screen(True)\n",
    "\n",
    "print('Running...')\n",
    "samples  = abc.run()\n",
    "print('Done')"
   ]
  },
  {
   "cell_type": "code",
   "execution_count": 27,
   "metadata": {},
   "outputs": [
    {
     "data": {
      "image/png": "[encoded data removed]",
      "text/plain": [
       "<Figure size 432x288 with 1 Axes>"
      ]
     },
     "metadata": {
      "needs_background": "light"
     },
     "output_type": "display_data"
    }
   ],
   "source": [
    "plt.hist(samples[:,0], color=\"blue\", label=\"Samples\")\n",
    "plt.vlines(x=model.suggested_parameters(), linestyles='dashed', ymin=0, ymax=310, label=\"Actual value\", color=\"red\")\n",
    "mod_true_prob = [x * 6 for x in true_prob]\n",
    "plt.plot(thetas, mod_true_prob, color='black', label='Scaled posterior')\n",
    "plt.legend()\n",
    "plt.show()"
   ]
  },
  {
   "cell_type": "code",
   "execution_count": 28,
   "metadata": {},
   "outputs": [
    {
     "data": {
      "image/png": "[encoded data removed]",
      "text/plain": [
       "<Figure size 432x288 with 1 Axes>"
      ]
     },
     "metadata": {
      "needs_background": "light"
     },
     "output_type": "display_data"
    }
   ],
   "source": [
    "plt.hist(samples[:500,0], color=\"blue\", label=\"First 500 samples\")\n",
    "plt.vlines(x=model.suggested_parameters(), linestyles='dashed', ymin=0, ymax=160, label=\"Actual value\", color=\"red\")\n",
    "mod_true_prob = [x * 3 for x in true_prob]\n",
    "plt.plot(thetas, mod_true_prob, color='black', label='Scaled posterior')\n",
    "plt.legend()\n",
    "plt.show()"
   ]
  },
  {
   "cell_type": "code",
   "execution_count": 29,
   "metadata": {},
   "outputs": [
    {
     "data": {
      "image/png": "[encoded data removed]",
      "text/plain": [
       "<Figure size 432x288 with 1 Axes>"
      ]
     },
     "metadata": {
      "needs_background": "light"
     },
     "output_type": "display_data"
    }
   ],
   "source": [
    "plt.hist(samples[500:,0], color=\"blue\", label=\"Last 500 samples\")\n",
    "plt.vlines(x=model.suggested_parameters(), linestyles='dashed', ymin=0, ymax=160, label=\"Actual value\", color=\"red\")\n",
    "mod_true_prob = [x * 3 for x in true_prob]\n",
    "plt.plot(thetas, mod_true_prob, color='black', label='Scaled posterior')\n",
    "plt.legend()\n",
    "plt.show()"
   ]
  }
 ],
 "metadata": {
  "interpreter": {
   "hash": "62b8c3045b77e73a8aab814fbf01ae024ab075fc3f7014742f3a4c5a8ac43e7b"
  },
  "kernelspec": {
   "display_name": "Python 3.8.0 32-bit",
   "language": "python",
   "name": "python3"
  },
  "language_info": {
   "codemirror_mode": {
    "name": "ipython",
    "version": 3
   },
   "file_extension": ".py",
   "mimetype": "text/x-python",
   "name": "python",
   "nbconvert_exporter": "python",
   "pygments_lexer": "ipython3",
   "version": "3.8.0"
  },
  "orig_nbformat": 4
 },
 "nbformat": 4,
 "nbformat_minor": 2
}
