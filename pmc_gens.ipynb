{
 "cells": [
  {
   "cell_type": "markdown",
   "metadata": {},
   "source": [
    "# ABC-SMC"
   ]
  },
  {
   "cell_type": "code",
   "execution_count": 1,
   "metadata": {},
   "outputs": [],
   "source": [
    "import pints\n",
    "import pints.toy as toy\n",
    "import pints.toy.stochastic\n",
    "import pints.plot\n",
    "import numpy as np\n",
    "import matplotlib.pyplot as plt"
   ]
  },
  {
   "cell_type": "code",
   "execution_count": 40,
   "metadata": {},
   "outputs": [],
   "source": [
    "import os\n",
    "\n",
    "__file = r\"C:\\Users\\Victor\\Desktop\\disertation_2022\\experiments\\background\"\n",
    "\n",
    "my_path = os.path.abspath(__file)"
   ]
  },
  {
   "cell_type": "code",
   "execution_count": 2,
   "metadata": {},
   "outputs": [],
   "source": [
    "import numpy as np\n",
    "import matplotlib.pyplot as plt\n",
    "from scipy.stats.distributions import norm\n",
    "\n",
    "from sklearn.neighbors import KernelDensity\n",
    "from scipy.stats import gaussian_kde\n",
    "from statsmodels.nonparametric.kde import KDEUnivariate\n",
    "from statsmodels.nonparametric.kernel_density import KDEMultivariate"
   ]
  },
  {
   "cell_type": "code",
   "execution_count": 3,
   "metadata": {},
   "outputs": [
    {
     "data": {
      "image/png": "[encoded data removed]",
      "text/plain": [
       "<Figure size 432x288 with 1 Axes>"
      ]
     },
     "metadata": {
      "needs_background": "light"
     },
     "output_type": "display_data"
    }
   ],
   "source": [
    "np.random.seed(2)\n",
    "\n",
    "# Load a forward model\n",
    "model = toy.stochastic.DegradationModel()\n",
    "\n",
    "# Create some toy data\n",
    "real_parameters = model.suggested_parameters()\n",
    "times = np.linspace(0, 10, 20)\n",
    "\n",
    "values = model.simulate(real_parameters, times)\n",
    "\n",
    "# Create an object with links to the model and time series\n",
    "problem = pints.SingleOutputProblem(model, times, values)\n",
    "\n",
    "# Create a uniform prior parameter\n",
    "log_prior = pints.UniformLogPrior([0.0], [0.3])\n",
    "\n",
    "# Set the error measure to be used to compare simulated to observed data\n",
    "error_measure = pints.RootMeanSquaredError(problem)\n",
    "plt.step(times, values)\n",
    "\n",
    "\n",
    "plt.xlabel('time')\n",
    "plt.ylabel('concentration (A(t))')\n",
    "plt.show()"
   ]
  },
  {
   "cell_type": "markdown",
   "metadata": {},
   "source": [
    "## Fit using ABC SMC\n",
    "\n",
    "The ABC SMC method can be used to perform parameter inference for stochastic models, where the likelihood is intractable. In ABC methods, typically, a distance metric comparing the observed data and the simulated is used. Here, we use the root mean square error (RMSE), and we accept a parameter value if the $RMSE<3$ for the first intermediate distribution, $RMSE<1.5$ for the second one and $RMSE<1$ for the last. The size of the intermediate distributions will be 200."
   ]
  },
  {
   "cell_type": "code",
   "execution_count": 4,
   "metadata": {},
   "outputs": [
    {
     "name": "stdout",
     "output_type": "stream",
     "text": [
      "likelihood integrate value=5.086995413811021e-16\n",
      "posterior integrate value=0.9999392938746746\n"
     ]
    }
   ],
   "source": [
    "np.random.seed(0)\n",
    "\n",
    "from math import comb\n",
    "\n",
    "n_0 = 20\n",
    "\n",
    "# Probability for one data point\n",
    "def compute_prob(n, t, k):\n",
    "    exp_term = np.exp(-k * n * t)\n",
    "    comb_term = comb(n_0, int(n)) \n",
    "    t_term = (1 - np.exp(-k * t)) \n",
    "    return exp_term * comb_term * (t_term ** (n_0 - n))\n",
    "\n",
    "# Probability for multiple data points\n",
    "def prob_gen(data, times, k):\n",
    "    all_prob = 1.0\n",
    "    for i in range(len(data)):\n",
    "        computed_prob = compute_prob(data[i][0], times[i], k)\n",
    "        all_prob *= computed_prob\n",
    "    return all_prob\n",
    "\n",
    "\n",
    "# Compute integral\n",
    "from scipy import integrate\n",
    "\n",
    "func = lambda x : prob_gen(values, times, x)\n",
    "int_val = integrate.quad(func, 0.01, 0.3)\n",
    "print(\"likelihood integrate value=\"+str(int_val[0]))\n",
    "\n",
    "# True posterior\n",
    "def posterior(data, times, k):\n",
    "    return prob_gen(data, times, k) / int_val[0]\n",
    "\n",
    "thetas = np.linspace(0.01, 0.3, 200)\n",
    "true_prob = []\n",
    "for i in range(len(thetas)):\n",
    "    true_prob.append(posterior(values, times, thetas[i]))\n",
    "\n",
    "v_func = lambda x : posterior(values, times, x)\n",
    "i_val = integrate.quad(v_func, 0.01, 0.3)\n",
    "\n",
    "print(\"posterior integrate value=\"+str(i_val[0]))"
   ]
  },
  {
   "cell_type": "code",
   "execution_count": 5,
   "metadata": {},
   "outputs": [
    {
     "data": {
      "image/png": "[encoded data removed]",
      "text/plain": [
       "<Figure size 432x288 with 1 Axes>"
      ]
     },
     "metadata": {
      "needs_background": "light"
     },
     "output_type": "display_data"
    }
   ],
   "source": [
    "plt.plot(thetas, true_prob)\n",
    "plt.show()"
   ]
  },
  {
   "cell_type": "code",
   "execution_count": 35,
   "metadata": {},
   "outputs": [
    {
     "name": "stdout",
     "output_type": "stream",
     "text": [
      "Running...\n",
      "Using ABC-SMC\n",
      "Running in sequential mode.\n",
      "Starting t=0, with threshold=10\n",
      "Iter. Eval. Acceptance rate Time m:s\n",
      "1     1      1                0:00.0\n",
      "2     2      1                0:00.0\n",
      "3     3      1                0:00.0\n",
      "20    20     1                0:00.0\n",
      "40    40     1                0:00.0\n",
      "60    60     1                0:00.0\n",
      "80    80     1                0:00.1\n",
      "100   100    1                0:00.1\n",
      "120   120    1                0:00.1\n",
      "140   140    1                0:00.1\n",
      "160   160    1                0:00.1\n",
      "180   180    1                0:00.1\n",
      "200   200    1                0:00.1\n",
      "220   220    1                0:00.1\n",
      "240   240    1                0:00.2\n",
      "260   260    1                0:00.2\n",
      "280   280    1                0:00.2\n",
      "300   300    1                0:00.2\n",
      "320   320    1                0:00.2\n",
      "340   340    1                0:00.2\n",
      "360   360    1                0:00.2\n",
      "380   380    1                0:00.2\n",
      "400   400    1                0:00.2\n",
      "420   420    1                0:00.2\n",
      "440   440    1                0:00.3\n",
      "460   460    1                0:00.3\n",
      "480   480    1                0:00.3\n",
      "500   500    1                0:00.3\n",
      "520   520    1                0:00.3\n",
      "540   540    1                0:00.3\n",
      "560   560    1                0:00.3\n",
      "580   580    1                0:00.4\n",
      "600   600    1                0:00.4\n",
      "620   620    1                0:00.4\n",
      "640   640    1                0:00.4\n",
      "660   660    1                0:00.4\n",
      "680   680    1                0:00.4\n",
      "700   700    1                0:00.4\n",
      "720   720    1                0:00.4\n",
      "740   740    1                0:00.4\n",
      "760   760    1                0:00.4\n",
      "780   780    1                0:00.4\n",
      "800   800    1                0:00.5\n",
      "820   820    1                0:00.5\n",
      "840   840    1                0:00.5\n",
      "860   860    1                0:00.5\n",
      "880   880    1                0:00.5\n",
      "900   900    1                0:00.5\n",
      "920   920    1                0:00.5\n",
      "940   940    1                0:00.5\n",
      "960   960    1                0:00.5\n",
      "980   980    1                0:00.6\n",
      "Starting t=1, with threshold=5\n",
      "1000  1000   1                0:00.6\n",
      "1020  1044   0.977011494      0:00.6\n",
      "1040  1078   0.964749536      0:00.7\n",
      "1060  1115   0.950672646      0:00.7\n",
      "1080  1143   0.94488189       0:00.7\n",
      "1100  1171   0.939368061      0:00.8\n",
      "1120  1208   0.927152318      0:00.9\n",
      "1140  1244   0.916398714      0:00.9\n",
      "1160  1275   0.909803922      0:00.9\n",
      "1180  1312   0.899390244      0:01.0\n",
      "1200  1346   0.891530461      0:01.0\n",
      "1220  1389   0.878329734      0:01.0\n",
      "1240  1424   0.870786517      0:01.1\n",
      "1260  1465   0.860068259      0:01.2\n",
      "1280  1495   0.856187291      0:01.2\n",
      "1300  1538   0.845253576      0:01.2\n",
      "1320  1588   0.831234256927   0:01.3\n",
      "1340  1622   0.826140567201   0:01.3\n",
      "1360  1653   0.822746521      0:01.3\n",
      "1380  1676   0.823389021      0:01.3\n",
      "1400  1709   0.81919251       0:01.4\n",
      "1420  1743   0.814687321      0:01.4\n",
      "1440  1769   0.81401922       0:01.4\n",
      "1460  1800   0.811111111      0:01.4\n",
      "1480  1831   0.808301474604   0:01.5\n",
      "1500  1868   0.802997859      0:01.5\n",
      "1520  1902   0.79915878       0:01.5\n",
      "1540  1937   0.795043882      0:01.6\n",
      "1560  1966   0.793489318413   0:01.6\n",
      "1580  2004   0.788423154      0:01.6\n",
      "1600  2052   0.779727096      0:01.6\n",
      "1620  2088   0.775862069      0:01.7\n",
      "1640  2115   0.775413712      0:01.7\n",
      "1660  2150   0.772093023      0:01.7\n",
      "1680  2180   0.770642202      0:01.7\n",
      "1700  2215   0.767494357      0:01.8\n",
      "1720  2247   0.765465065      0:01.8\n",
      "1740  2275   0.764835165      0:01.8\n",
      "1760  2312   0.761245675      0:01.9\n",
      "1780  2349   0.757769264      0:01.9\n",
      "1800  2378   0.756938604      0:01.9\n",
      "1820  2419   0.752377015      0:01.9\n",
      "1840  2455   0.749490835      0:02.0\n",
      "1860  2486   0.748189863      0:02.0\n",
      "1880  2526   0.744259699      0:02.0\n",
      "1900  2558   0.742767787      0:02.1\n",
      "1920  2587   0.7421724        0:02.1\n",
      "1940  2620   0.740458015      0:02.1\n",
      "1960  2663   0.736012017      0:02.1\n",
      "1980  2693   0.73523951       0:02.2\n",
      "Starting t=2, with threshold=1\n",
      "2000  2728   0.733137829912   0:18.1\n",
      "2020  4100   0.492682927      0:19.2\n",
      "2040  5808   0.351239669      0:20.5\n",
      "2060  7045   0.292405962      0:21.5\n",
      "2080  8279   0.251238072      0:22.5\n",
      "2100  10257  0.204738228      0:24.1\n",
      "2120  11727  0.180779398      0:25.2\n",
      "2140  14125  0.151504425      0:27.1\n",
      "2160  15798  0.136726168      0:28.4\n",
      "2180  17327  0.125815202      0:29.6\n",
      "2200  19298  0.114001451      0:31.2\n",
      "2220  21356  0.103952051      0:32.8\n",
      "2240  23036  0.097239104      0:34.1\n",
      "2260  24091  0.0938109668     0:35.0\n",
      "2280  25532  0.0892997023     0:36.1\n",
      "2300  27782  0.0827874163     0:38.0\n",
      "2320  29315  0.0791403718     0:39.2\n",
      "2340  31188  0.0750288573     0:40.7\n",
      "2360  33587  0.0702652812     0:42.6\n",
      "2380  35458  0.0671216651     0:44.1\n",
      "2400  37472  0.0640478224     0:45.7\n",
      "2420  40249  0.0601257174     0:47.9\n",
      "2440  41994  0.0581035386     0:49.3\n",
      "2460  43628  0.0563858073     0:50.6\n",
      "2480  45525  0.0544755629     0:52.2\n",
      "2500  47230  0.0529324582     0:53.6\n",
      "2520  48886  0.0515485006     0:54.9\n",
      "2540  51562  0.0492610837     0:57.0\n",
      "2560  53654  0.0477131248     0:58.6\n",
      "2580  55005  0.0469048268     0:59.7\n",
      "2600  56305  0.0461770713     1:00.8\n",
      "2620  57757  0.0453624669     1:02.2\n",
      "2640  59697  0.0442233278     1:04.0\n",
      "2660  61871  0.0429926783     1:07.2\n",
      "2680  63521  0.0421907716     1:10.0\n",
      "2700  65099  0.0414752915     1:12.7\n",
      "2720  67311  0.0404094427     1:14.8\n",
      "2740  68666  0.0399033        1:16.1\n",
      "2760  70334  0.0392413342     1:17.6\n",
      "2780  71718  0.0387629326     1:18.8\n",
      "2800  72965  0.0383745631     1:19.8\n",
      "2820  74905  0.0376476871     1:21.4\n",
      "2840  76195  0.0372727869     1:22.4\n",
      "2860  77658  0.0368281439     1:23.6\n",
      "2880  79212  0.0363581276     1:24.8\n",
      "2900  81672  0.0355078852     1:26.9\n",
      "2920  83007  0.0351777561     1:28.0\n",
      "2940  85039  0.0345723727     1:29.6\n",
      "2960  86331  0.034286641      1:30.7\n",
      "2980  88004  0.0338620972     1:32.1\n",
      "3000  89670  0.0334560054     1:33.4\n",
      "Halting: target number of samples (3000) reached.\n",
      "Done\n"
     ]
    }
   ],
   "source": [
    "np.random.seed(0)\n",
    "abc = pints.ABCController(error_measure, log_prior, method=pints.ABCSMC)\n",
    "\n",
    "# set threshold schedule\n",
    "abc.sampler().set_threshold_schedule(np.array([10,5,1]))\n",
    "\n",
    "# set perturbation kernel\n",
    "\n",
    "abc.sampler().set_perturbation_kernel(pints.UniformLogPrior([0.0], [0.2]))\n",
    "\n",
    "# produce intermediate distributions of size 200\n",
    "abc.sampler().set_intermediate_size(1000)\n",
    "\n",
    "# set target number of samples\n",
    "abc.set_n_samples(3000)\n",
    "\n",
    "# log to screen\n",
    "abc.set_log_interval(20)\n",
    "abc.set_log_to_screen(True)\n",
    "\n",
    "print('Running...')\n",
    "samples  = abc.run()\n",
    "print('Done')"
   ]
  },
  {
   "cell_type": "code",
   "execution_count": 36,
   "metadata": {},
   "outputs": [],
   "source": [
    "fst_gen_samples = [x[0] for x in samples[:1000]]\n",
    "snd_gen_samples = [x[0] for x in samples[1000:2000]]\n",
    "trd_gen_samples = [x[0] for x in samples[2000:]]"
   ]
  },
  {
   "cell_type": "code",
   "execution_count": 56,
   "metadata": {},
   "outputs": [
    {
     "data": {
      "image/png": "[encoded data removed]",
      "text/plain": [
       "<Figure size 576x288 with 1 Axes>"
      ]
     },
     "metadata": {
      "needs_background": "light"
     },
     "output_type": "display_data"
    }
   ],
   "source": [
    "fig, ax = plt.subplots(1, 1, figsize=(8, 4))\n",
    "\n",
    "plt.hist(fst_gen_samples, bins=10, label='First generation', alpha=0.5)\n",
    "plt.hist(snd_gen_samples, bins=10, label='Second generation', alpha=0.5)\n",
    "plt.hist(trd_gen_samples, bins=10, label='Third generation', alpha=0.5)\n",
    "\n",
    "plt.vlines(x=model.suggested_parameters(), linestyles='dashed', ymin=0, ymax=250, label='True value', color='red')\n",
    "plt.legend()\n",
    "# plt.show()\n",
    "plt.xlabel(\"k\")\n",
    "plt.ylabel(\"Samples\")\n",
    "plt.savefig(my_path + './pmc_hist.pdf')"
   ]
  },
  {
   "cell_type": "code",
   "execution_count": 55,
   "metadata": {},
   "outputs": [
    {
     "data": {
      "image/png": "[encoded data removed]",
      "text/plain": [
       "<Figure size 576x288 with 1 Axes>"
      ]
     },
     "metadata": {
      "needs_background": "light"
     },
     "output_type": "display_data"
    }
   ],
   "source": [
    "\n",
    "def kde_sklearn(x, x_grid, bandwidth=0.2, **kwargs):\n",
    "    kde_skl = KernelDensity(bandwidth=bandwidth, **kwargs)\n",
    "    kde_skl.fit(x[:, np.newaxis])\n",
    "    # score_samples() returns the log-likelihood of the samples\n",
    "    log_pdf = kde_skl.score_samples(x_grid[:, np.newaxis])\n",
    "    return np.exp(log_pdf)\n",
    "\n",
    "fig, ax = plt.subplots(1, 1, figsize=(8, 4))\n",
    "\n",
    "x_grid = np.linspace(0, 0.3, 100)\n",
    "\n",
    "ax.plot(x_grid, kde_sklearn(np.array(fst_gen_samples), x_grid, bandwidth=0.02),\n",
    "            label='Kernel Density Estimate first generation', linewidth=3, alpha=0.5)\n",
    "ax.plot(x_grid, kde_sklearn(np.array(snd_gen_samples), x_grid, bandwidth=0.02),\n",
    "            label='Kernel Density Estimate second generation', linewidth=3, alpha=0.5)\n",
    "ax.plot(x_grid, kde_sklearn(np.array(trd_gen_samples), x_grid, bandwidth=0.02),\n",
    "            label='Kernel Density Estimate third generation', linewidth=3, alpha=0.5)\n",
    "ax.plot(thetas, true_prob, color=\"black\", label=\"Posterior\")\n",
    "ax.set_xlim(0, 0.3)\n",
    "plt.xlabel(\"k\")\n",
    "plt.ylabel(\"Probability density\")\n",
    "ax.legend()\n",
    "# plt.show()\n",
    "plt.savefig(my_path + './pmc_kde.pdf')"
   ]
  },
  {
   "cell_type": "code",
   "execution_count": 48,
   "metadata": {},
   "outputs": [
    {
     "name": "stdout",
     "output_type": "stream",
     "text": [
      "kl first gen = 2.109296250007663\n",
      "kl second gen = 1.9439647547971035\n",
      "kl third gen = 1.0395808941624949\n"
     ]
    }
   ],
   "source": [
    "def kl_func(y, post, kde_skl):\n",
    "    part = posterior(values, times, y)\n",
    "    s_part = np.exp(kde_skl.score_samples([[y]]))\n",
    "    if s_part == 0 or part == 0:\n",
    "        return np.inf\n",
    "    else:\n",
    "        saved = part * np.log(part / s_part)\n",
    "        return saved\n",
    "\n",
    "def kl_div(x, bandwidth, posterior, **kwargs):\n",
    "    kde_skl = KernelDensity(bandwidth=bandwidth, **kwargs)\n",
    "    kde_skl.fit(x[:, np.newaxis])\n",
    "    fun = lambda y : kl_func(y, posterior, kde_skl)\n",
    "    return integrate.quad(fun, 0.01, 0.3)\n",
    "\n",
    "def s_posterior(theta):\n",
    "    return posterior(values, times, theta)\n",
    "\n",
    "\n",
    "kl_fst_gen = kl_div(np.array(fst_gen_samples), 0.02, s_posterior)[0]\n",
    "kl_snd_gen = kl_div(np.array(snd_gen_samples), 0.02, s_posterior)[0]\n",
    "kl_trd_gen = kl_div(np.array(trd_gen_samples), 0.02, s_posterior)[0]\n",
    "\n",
    "print(\"kl first gen = \" + str(kl_fst_gen))\n",
    "print(\"kl second gen = \" + str(kl_snd_gen))\n",
    "print(\"kl third gen = \" + str(kl_trd_gen))"
   ]
  }
 ],
 "metadata": {
  "interpreter": {
   "hash": "62b8c3045b77e73a8aab814fbf01ae024ab075fc3f7014742f3a4c5a8ac43e7b"
  },
  "kernelspec": {
   "display_name": "Python 3.8.0 32-bit",
   "language": "python",
   "name": "python3"
  },
  "language_info": {
   "codemirror_mode": {
    "name": "ipython",
    "version": 3
   },
   "file_extension": ".py",
   "mimetype": "text/x-python",
   "name": "python",
   "nbconvert_exporter": "python",
   "pygments_lexer": "ipython3",
   "version": "3.8.0"
  },
  "orig_nbformat": 4
 },
 "nbformat": 4,
 "nbformat_minor": 2
}
