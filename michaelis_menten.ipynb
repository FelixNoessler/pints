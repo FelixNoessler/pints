{
 "cells": [
  {
   "cell_type": "markdown",
   "metadata": {},
   "source": [
    "# Testing production and degradation on ABC"
   ]
  },
  {
   "cell_type": "code",
   "execution_count": 1,
   "metadata": {},
   "outputs": [],
   "source": [
    "import pints\n",
    "import pints.toy as toy\n",
    "import pints.toy.stochastic\n",
    "import pints.plot\n",
    "import numpy as np\n",
    "import matplotlib.pyplot as plt"
   ]
  },
  {
   "cell_type": "code",
   "execution_count": 3,
   "metadata": {},
   "outputs": [
    {
     "name": "stdout",
     "output_type": "stream",
     "text": [
      "(100, 4)\n"
     ]
    },
    {
     "data": {
      "image/png": "[encoded data removed]",
      "text/plain": [
       "<Figure size 432x288 with 1 Axes>"
      ]
     },
     "metadata": {
      "needs_background": "light"
     },
     "output_type": "display_data"
    }
   ],
   "source": [
    "x_0 = [1e4, 2e3, 2e4, 0]\n",
    "model = pints.toy.stochastic.MichaelisMentenModel(x_0)\n",
    "\n",
    "times = np.linspace(0, 24, 100)\n",
    "k = [1e-5, 0.2, 0.2]\n",
    "\n",
    "\n",
    "values = model.simulate(k, times)\n",
    "print(values.shape)\n",
    "# print(\"s = (\" + str(len(times)) + \", \" + str(model.n_outputs()) + \")\")\n",
    "problem = pints.MultiOutputProblem(model, times, values)\n",
    "error_measure = pints.MeanSquaredError(problem)\n",
    "\n",
    "log_prior = pints.UniformLogPrior([0.0, 400], [0.3, 700])\n",
    "\n",
    "plt.step(times, values)\n",
    "plt.xlabel('Time')\n",
    "plt.ylabel(r'Concentration ($A(t)$)')\n",
    "plt.show()"
   ]
  },
  {
   "cell_type": "markdown",
   "metadata": {},
   "source": [
    "# Rejection ABC"
   ]
  },
  {
   "cell_type": "code",
   "execution_count": 16,
   "metadata": {},
   "outputs": [
    {
     "name": "stdout",
     "output_type": "stream",
     "text": [
      "Running...\n",
      "Using Rejection ABC\n",
      "Running in sequential mode.\n",
      "Iter. Eval. Acceptance rate Time m:s\n",
      "1     35     0.0285714286     0:00.2\n",
      "2     39     0.0512820513     0:00.2\n",
      "3     41     0.0731707317     0:00.2\n",
      "20    1133   0.0176522507     0:05.2\n",
      "40    2181   0.0183402109     0:10.0\n",
      "60    3402   0.0176366843     0:15.5\n",
      "80    4552   0.0175746924     0:20.7\n",
      "100   5586   0.0179018976     0:25.5\n",
      "120   6945   0.0172786177     0:31.6\n",
      "140   8691   0.0161086181     0:39.2\n",
      "160   9867   0.0162156684     0:44.4\n",
      "180   11419  0.0157632017     0:51.3\n",
      "200   12979  0.0154095077     0:58.1\n",
      "220   13869  0.0158627154     1:02.0\n",
      "240   15416  0.0155682408     1:08.7\n",
      "260   16715  0.0155548908     1:14.4\n",
      "280   18130  0.0154440154     1:20.9\n",
      "300   19437  0.0154344806     1:26.6\n",
      "320   20656  0.0154918668     1:32.5\n",
      "340   21882  0.015537885      1:37.7\n",
      "360   23504  0.0153165419     1:44.8\n",
      "380   25322  0.0150067135     1:52.8\n",
      "400   26326  0.0151941047     1:57.1\n",
      "420   27528  0.0152571927     2:02.5\n",
      "440   29925  0.0147034252     2:13.0\n",
      "460   31137  0.0147734207     2:18.4\n",
      "480   32315  0.0148537831     2:23.5\n",
      "500   33626  0.0148694463     2:29.2\n",
      "520   34483  0.0150798944     2:33.0\n",
      "540   35926  0.0150308968     2:39.7\n",
      "560   37716  0.0148478099     2:47.5\n",
      "580   39561  0.0146609034     2:55.6\n",
      "600   40999  0.0146345033     3:01.8\n",
      "620   42288  0.0146613697     3:07.5\n",
      "640   43452  0.0147288963     3:12.9\n",
      "660   44929  0.014689844      3:19.4\n",
      "680   46812  0.0145261899     3:27.7\n",
      "700   48491  0.0144356685     3:35.1\n",
      "720   50256  0.0143266476     3:43.1\n",
      "740   51704  0.0143122389     3:49.5\n",
      "760   52797  0.0143947573     3:54.3\n",
      "780   53777  0.014504342      3:58.6\n",
      "800   55314  0.0144628846     4:05.7\n",
      "820   57043  0.0143751205     4:13.1\n",
      "840   58584  0.0143383859     4:19.7\n",
      "860   60217  0.0142816813     4:26.9\n",
      "880   61794  0.0142408648     4:33.8\n",
      "900   62863  0.0143168477     4:38.4\n",
      "920   64574  0.0142472202     4:45.8\n",
      "940   66012  0.0142398352     4:52.4\n",
      "960   67913  0.0141357325     5:00.8\n",
      "980   69461  0.0141086365     5:07.7\n",
      "1000  70613  0.0141616983     5:12.8\n",
      "Halting: target number of samples (1000) reached.\n",
      "Done\n"
     ]
    }
   ],
   "source": [
    "abc = pints.ABCController(error_measure, log_prior)\n",
    "\n",
    "# set threshold\n",
    "abc.sampler().set_threshold(30)\n",
    "\n",
    "# set target number of samples\n",
    "abc.set_n_samples(1000)\n",
    "\n",
    "# log to screen\n",
    "abc.set_log_to_screen(True)\n",
    "\n",
    "print('Running...')\n",
    "samples  = abc.run()\n",
    "print('Done')"
   ]
  },
  {
   "cell_type": "code",
   "execution_count": 19,
   "metadata": {},
   "outputs": [
    {
     "data": {
      "image/png": "[encoded data removed]",
      "text/plain": [
       "<Figure size 432x288 with 1 Axes>"
      ]
     },
     "metadata": {
      "needs_background": "light"
     },
     "output_type": "display_data"
    }
   ],
   "source": [
    "samples_flat = np.array([item for sublist in samples for item in sublist])\n",
    "\n",
    "# print(samples_flat[:])\n",
    "plt.hist(samples_flat[:,0], color=\"blue\", label=\"Samples\")\n",
    "plt.vlines(x=0.1, linestyles='dashed', ymin=0, ymax=250, label=\"Actual value\", color=\"red\")\n",
    "plt.legend()\n",
    "plt.show()"
   ]
  },
  {
   "cell_type": "code",
   "execution_count": 22,
   "metadata": {},
   "outputs": [
    {
     "data": {
      "image/png": "[encoded data removed]",
      "text/plain": [
       "<Figure size 432x288 with 1 Axes>"
      ]
     },
     "metadata": {
      "needs_background": "light"
     },
     "output_type": "display_data"
    }
   ],
   "source": [
    "plt.hist(samples_flat[:,1], color=\"blue\", label=\"Samples\")\n",
    "plt.vlines(x=500, linestyles='dashed', ymin=0, ymax=210, label=\"Actual value\", color=\"red\")\n",
    "plt.legend()\n",
    "plt.show()"
   ]
  },
  {
   "cell_type": "markdown",
   "metadata": {},
   "source": [
    "# PMC"
   ]
  },
  {
   "cell_type": "code",
   "execution_count": 8,
   "metadata": {},
   "outputs": [
    {
     "name": "stdout",
     "output_type": "stream",
     "text": [
      "Running...\n",
      "Using PMC ABC\n",
      "Running in sequential mode.\n",
      "Iter. Eval. Acceptance rate Time m:s\n",
      "1     66251  0.00756215001   12:42.5\n",
      "Halting: target number of samples (501) reached.\n",
      "Done\n"
     ]
    }
   ],
   "source": [
    "np.random.seed(3)\n",
    "\n",
    "abc = pints.ABCController(error_measure, log_prior, method=pints.ABCPMC)\n",
    "\n",
    "# set the threshold\n",
    "abc.sampler().set_threshold(35)\n",
    "\n",
    "# set target number of samples\n",
    "# try this\n",
    "abc.set_n_samples(500)\n",
    "\n",
    "# setting the number of generations\n",
    "abc.sampler().set_n_generations(10)\n",
    "\n",
    "# setting the threshold ratio\n",
    "abc.sampler().set_t_ratio(0.99)\n",
    "\n",
    "# log to screen\n",
    "abc.set_log_to_screen(True)\n",
    "\n",
    "print('Running...')\n",
    "samples  = abc.run()\n",
    "print('Done')"
   ]
  },
  {
   "cell_type": "code",
   "execution_count": 10,
   "metadata": {},
   "outputs": [
    {
     "data": {
      "image/png": "[encoded data removed]",
      "text/plain": [
       "<Figure size 432x288 with 1 Axes>"
      ]
     },
     "metadata": {
      "needs_background": "light"
     },
     "output_type": "display_data"
    }
   ],
   "source": [
    "plt.hist(samples[:,0], color=\"blue\", label=\"Samples\")\n",
    "plt.vlines(x=0.1, linestyles='dashed', ymin=0, ymax=200, label=\"Actual value\", color=\"red\")\n",
    "# plt.plot(thetas, true_prob, label=\"posterior\")\n",
    "plt.legend()\n",
    "plt.show()"
   ]
  },
  {
   "cell_type": "code",
   "execution_count": 12,
   "metadata": {},
   "outputs": [
    {
     "data": {
      "image/png": "[encoded data removed]",
      "text/plain": [
       "<Figure size 432x288 with 1 Axes>"
      ]
     },
     "metadata": {
      "needs_background": "light"
     },
     "output_type": "display_data"
    }
   ],
   "source": [
    "plt.hist(samples[:,1], color=\"blue\", label=\"Samples\")\n",
    "plt.vlines(x=500, linestyles='dashed', ymin=0, ymax=230, label=\"Actual value\", color=\"red\")\n",
    "# plt.plot(thetas, true_prob, label=\"posterior\")\n",
    "plt.legend()\n",
    "plt.show()"
   ]
  },
  {
   "cell_type": "markdown",
   "metadata": {},
   "source": [
    "# ABC SMC"
   ]
  },
  {
   "cell_type": "code",
   "execution_count": 43,
   "metadata": {},
   "outputs": [
    {
     "name": "stdout",
     "output_type": "stream",
     "text": [
      "Using ABC-SMC\n",
      "Running in sequential mode.\n",
      "Trying t=1, threshold=40\n",
      "Trying t=2, threshold=30\n",
      "Iter. Eval. Acceptance rate Time m:s\n",
      "1     5498   0.000181884322   0:27.4\n",
      "2     5503   0.000363438125   0:27.4\n",
      "3     5506   0.000544860153   0:27.4\n",
      "20    5575   0.00358744395    0:27.8\n",
      "40    5757   0.00694806323    0:28.6\n",
      "60    5905   0.0101608806     0:29.3\n",
      "80    6066   0.0131882624     0:30.1\n",
      "100   6192   0.0161498708     0:30.7\n",
      "120   6303   0.0190385531     0:31.2\n",
      "140   6437   0.0217492621     0:31.9\n",
      "160   6561   0.0243865264     0:32.4\n",
      "180   6722   0.0267777447     0:33.2\n",
      "200   6905   0.0289645185     0:34.0\n",
      "220   7114   0.0309249367     0:34.8\n",
      "240   7302   0.0328677075     0:35.7\n",
      "260   7458   0.0348618933     0:36.4\n",
      "280   7655   0.0365774004     0:37.3\n",
      "300   7824   0.0383435583     0:38.1\n",
      "320   8016   0.0399201597     0:39.0\n",
      "340   8179   0.0415698741     0:39.7\n",
      "360   8400   0.0428571429     0:40.7\n",
      "380   8548   0.0444548432     0:41.4\n",
      "400   8730   0.0458190149     0:42.3\n",
      "420   8879   0.0473026242     0:43.2\n",
      "440   9028   0.0487372619     0:44.0\n",
      "460   9233   0.0498212932     0:45.1\n",
      "480   9377   0.0511890797     0:46.0\n",
      "500   9528   0.0524769102     0:46.7\n",
      "520   9728   0.0534539474     0:47.8\n",
      "540   9882   0.0546448087     0:48.8\n",
      "560   10095  0.0554730064     0:50.1\n",
      "580   10236  0.0566627589     0:51.0\n",
      "600   10569  0.0567697985     0:53.0\n",
      "620   10719  0.0578412165     0:53.9\n",
      "640   10866  0.058899319      0:54.8\n",
      "660   11006  0.0599672906     0:55.5\n",
      "680   11148  0.0609974883     0:56.2\n",
      "700   11265  0.0621393697     0:56.9\n",
      "720   11382  0.0632577754     0:57.5\n",
      "740   11536  0.064147018      0:58.4\n",
      "760   11685  0.0650406504     0:59.3\n",
      "780   11806  0.066068101      1:00.0\n",
      "800   11892  0.0672721157     1:00.4\n",
      "820   12078  0.0678920351     1:01.6\n",
      "840   12322  0.0681707515     1:02.7\n",
      "860   12610  0.0681998414     1:04.3\n",
      "880   12816  0.0686641698     1:05.6\n",
      "900   12925  0.0696324952     1:06.1\n",
      "920   13093  0.0702665546     1:06.9\n",
      "940   13253  0.0709273372     1:07.6\n",
      "960   13411  0.0715830289     1:08.2\n",
      "980   13530  0.0724316334     1:08.8\n",
      "1000  13719  0.0728916102     1:09.8\n",
      "Halting: target number of samples (1000) reached.\n",
      "Done\n"
     ]
    }
   ],
   "source": [
    "np.random.seed(2)\n",
    "abc = pints.ABCController(error_measure, log_prior, method=pints.ABCSMC)\n",
    "# set initial threshold\n",
    "abc.sampler().set_threshold_schedule(np.array([50, 40, 30]))\n",
    "\n",
    "# produce intermediate distributions of size 200\n",
    "abc.sampler().set_intermediate_size(200)\n",
    "\n",
    "# set target number of samples\n",
    "abc.set_n_samples(1000)\n",
    "\n",
    "# log to screen\n",
    "abc.set_log_to_screen(True)\n",
    "\n",
    "samples = abc.run()\n",
    "print(\"Done\")"
   ]
  },
  {
   "cell_type": "code",
   "execution_count": 45,
   "metadata": {},
   "outputs": [
    {
     "data": {
      "image/png": "[encoded data removed]",
      "text/plain": [
       "<Figure size 432x288 with 1 Axes>"
      ]
     },
     "metadata": {
      "needs_background": "light"
     },
     "output_type": "display_data"
    }
   ],
   "source": [
    "plt.hist(samples[:,0], color=\"blue\", label=\"Samples\")\n",
    "plt.vlines(x=0.1, linestyles='dashed', ymin=0, ymax=250, label=\"Actual value\", color=\"red\")\n",
    "# plt.plot(thetas, true_prob, label=\"posterior\")\n",
    "plt.legend()\n",
    "plt.show()"
   ]
  },
  {
   "cell_type": "code",
   "execution_count": 47,
   "metadata": {},
   "outputs": [
    {
     "data": {
      "image/png": "[encoded data removed]",
      "text/plain": [
       "<Figure size 432x288 with 1 Axes>"
      ]
     },
     "metadata": {
      "needs_background": "light"
     },
     "output_type": "display_data"
    }
   ],
   "source": [
    "plt.hist(samples[:,1], color=\"blue\", label=\"Samples\")\n",
    "plt.vlines(x=500, linestyles='dashed', ymin=0, ymax=300, label=\"Actual value\", color=\"red\")\n",
    "# plt.plot(thetas, true_prob, label=\"posterior\")\n",
    "plt.legend()\n",
    "plt.show()"
   ]
  }
 ],
 "metadata": {
  "interpreter": {
   "hash": "62b8c3045b77e73a8aab814fbf01ae024ab075fc3f7014742f3a4c5a8ac43e7b"
  },
  "kernelspec": {
   "display_name": "Python 3.8.0 32-bit",
   "language": "python",
   "name": "python3"
  },
  "language_info": {
   "codemirror_mode": {
    "name": "ipython",
    "version": 3
   },
   "file_extension": ".py",
   "mimetype": "text/x-python",
   "name": "python",
   "nbconvert_exporter": "python",
   "pygments_lexer": "ipython3",
   "version": "3.8.0"
  },
  "orig_nbformat": 4
 },
 "nbformat": 4,
 "nbformat_minor": 2
}
