{
 "cells": [
  {
   "cell_type": "markdown",
   "metadata": {},
   "source": [
    "# Testing production and degradation on ABC"
   ]
  },
  {
   "cell_type": "code",
   "execution_count": 1,
   "metadata": {},
   "outputs": [],
   "source": [
    "import pints\n",
    "import pints.toy as toy\n",
    "import pints.toy.stochastic\n",
    "import pints.plot\n",
    "import numpy as np\n",
    "import matplotlib.pyplot as plt"
   ]
  },
  {
   "cell_type": "code",
   "execution_count": 3,
   "metadata": {},
   "outputs": [
    {
     "data": {
      "image/png": "[encoded data removed]",
      "text/plain": [
       "<Figure size 432x288 with 1 Axes>"
      ]
     },
     "metadata": {
      "needs_background": "light"
     },
     "output_type": "display_data"
    }
   ],
   "source": [
    "n_0 = 1\n",
    "model = pints.toy.stochastic.LogisticModel(n_0)\n",
    "\n",
    "times = np.linspace(0, 125, 30)\n",
    "\n",
    "# $b_0$ = 0.1, $k$ = 500\n",
    "params = [0.1, 500]\n",
    "\n",
    "values = model.simulate(params, times)\n",
    "problem = pints.SingleOutputProblem(model, times, values)\n",
    "error_measure = pints.RootMeanSquaredError(problem)\n",
    "\n",
    "log_prior = pints.UniformLogPrior([0.0, 400], [0.3, 700])\n",
    "\n",
    "plt.step(times, values)\n",
    "plt.xlabel('Time')\n",
    "plt.ylabel(r'Concentration ($A(t)$)')\n",
    "plt.show()"
   ]
  },
  {
   "cell_type": "markdown",
   "metadata": {},
   "source": [
    "# Rejection ABC"
   ]
  },
  {
   "cell_type": "code",
   "execution_count": 4,
   "metadata": {},
   "outputs": [
    {
     "name": "stdout",
     "output_type": "stream",
     "text": [
      "Running...\n",
      "Using Rejection ABC\n",
      "Running in sequential mode.\n",
      "Iter. Eval. Acceptance rate Time m:s\n",
      "1     5      0.2              0:00.0\n",
      "2     57     0.0350877193     0:00.3\n",
      "3     78     0.0384615385     0:00.4\n",
      "20    1631   0.0122624157     0:09.3\n",
      "40    2799   0.0142908181     0:15.4\n",
      "60    3514   0.0170745589     0:19.6\n",
      "80    5518   0.0144980065     0:31.8\n",
      "100   6669   0.0149947518     0:38.5\n",
      "120   8238   0.0145666424     0:47.8\n",
      "140   9650   0.014507772      0:56.0\n",
      "160   11385  0.0140535793     1:06.6\n",
      "180   12650  0.014229249      1:14.0\n",
      "200   14873  0.0134471862     1:26.5\n",
      "220   16027  0.013726836      1:33.4\n",
      "240   17338  0.013842427      1:41.2\n",
      "260   19406  0.0133979182     1:53.1\n",
      "280   20598  0.0135935528     1:59.8\n",
      "300   22327  0.0134366462     2:10.1\n",
      "320   24179  0.0132346251     2:21.0\n",
      "340   26389  0.0128841563     2:33.1\n",
      "360   27315  0.0131795717     2:37.7\n",
      "380   29135  0.0130427321     2:47.0\n",
      "400   31247  0.0128012289     2:57.7\n",
      "420   32554  0.0129016404     3:03.8\n",
      "440   34185  0.0128711423     3:11.8\n",
      "460   37013  0.0124280658     3:27.3\n",
      "480   38732  0.0123928535     3:35.8\n",
      "500   40131  0.0124591961     3:42.8\n",
      "520   41309  0.0125880559     3:48.6\n",
      "540   43390  0.0124452639     3:58.5\n",
      "560   44685  0.0125321696     4:04.7\n",
      "580   46017  0.0126040376     4:11.1\n",
      "600   47855  0.0125378748     4:19.7\n",
      "620   49157  0.0126126493     4:26.0\n",
      "640   50387  0.0127016889     4:31.7\n",
      "660   52288  0.012622399      4:41.0\n",
      "680   53572  0.0126931979     4:47.6\n",
      "700   54841  0.0127641728     4:53.6\n",
      "720   56092  0.0128360551     4:59.5\n",
      "740   57606  0.0128458841     5:07.1\n",
      "760   59047  0.0128711027     5:14.0\n",
      "780   60593  0.0128727741     5:21.5\n",
      "800   62187  0.012864425      5:28.5\n",
      "820   64050  0.012802498      5:36.7\n",
      "840   65715  0.0127824698     5:43.9\n",
      "860   67334  0.0127721508     5:51.6\n",
      "880   68471  0.0128521564     5:56.5\n",
      "900   69943  0.0128676208     6:03.0\n",
      "920   71154  0.0129297018     6:08.3\n",
      "940   72901  0.012894199      6:15.9\n",
      "960   74221  0.0129343447     6:21.7\n",
      "980   75992  0.0128960943     6:29.6\n",
      "1000  77585  0.0128890894     6:36.6\n",
      "Halting: target number of samples (1000) reached.\n",
      "Done\n"
     ]
    }
   ],
   "source": [
    "abc = pints.ABCController(error_measure, log_prior)\n",
    "\n",
    "# set threshold\n",
    "abc.sampler().set_threshold(30)\n",
    "\n",
    "# set target number of samples\n",
    "abc.set_n_samples(1000)\n",
    "\n",
    "# log to screen\n",
    "abc.set_log_to_screen(True)\n",
    "\n",
    "print('Running...')\n",
    "samples  = abc.run()\n",
    "print('Done')"
   ]
  },
  {
   "cell_type": "code",
   "execution_count": 5,
   "metadata": {},
   "outputs": [
    {
     "data": {
      "image/png": "[encoded data removed]",
      "text/plain": [
       "<Figure size 432x288 with 1 Axes>"
      ]
     },
     "metadata": {
      "needs_background": "light"
     },
     "output_type": "display_data"
    }
   ],
   "source": [
    "samples_flat = np.array([item for sublist in samples for item in sublist])\n",
    "\n",
    "# print(samples_flat[:])\n",
    "plt.hist(samples_flat[:,0], color=\"blue\", label=\"Samples\")\n",
    "plt.vlines(x=0.1, linestyles='dashed', ymin=0, ymax=250, label=\"Actual value\", color=\"red\")\n",
    "plt.legend()\n",
    "plt.show()"
   ]
  },
  {
   "cell_type": "code",
   "execution_count": 6,
   "metadata": {},
   "outputs": [
    {
     "data": {
      "image/png": "[encoded data removed]",
      "text/plain": [
       "<Figure size 432x288 with 1 Axes>"
      ]
     },
     "metadata": {
      "needs_background": "light"
     },
     "output_type": "display_data"
    }
   ],
   "source": [
    "plt.hist(samples_flat[:,1], color=\"blue\", label=\"Samples\")\n",
    "plt.vlines(x=500, linestyles='dashed', ymin=0, ymax=210, label=\"Actual value\", color=\"red\")\n",
    "plt.legend()\n",
    "plt.show()"
   ]
  },
  {
   "cell_type": "markdown",
   "metadata": {},
   "source": [
    "# PMC"
   ]
  },
  {
   "cell_type": "code",
   "execution_count": 4,
   "metadata": {},
   "outputs": [
    {
     "name": "stdout",
     "output_type": "stream",
     "text": [
      "Running...\n",
      "Using PMC ABC\n",
      "Running in sequential mode.\n",
      "Iter. Eval. Acceptance rate Time m:s\n",
      "1     81936  0.0122168522    32:48.9\n",
      "Halting: target number of samples (1001) reached.\n",
      "Done\n"
     ]
    }
   ],
   "source": [
    "np.random.seed(3)\n",
    "\n",
    "abc = pints.ABCController(error_measure, log_prior, method=pints.ABCPMC)\n",
    "\n",
    "# set the threshold\n",
    "abc.sampler().set_threshold(40)\n",
    "\n",
    "# set target number of samples\n",
    "# try this\n",
    "abc.set_n_samples(1000)\n",
    "\n",
    "# setting the number of generations\n",
    "abc.sampler().set_n_generations(10)\n",
    "\n",
    "# setting the threshold ratio\n",
    "abc.sampler().set_t_ratio(0.99)\n",
    "\n",
    "# log to screen\n",
    "abc.set_log_to_screen(True)\n",
    "\n",
    "print('Running...')\n",
    "samples  = abc.run()\n",
    "print('Done')"
   ]
  },
  {
   "cell_type": "code",
   "execution_count": 8,
   "metadata": {},
   "outputs": [
    {
     "data": {
      "image/png": "[encoded data removed]",
      "text/plain": [
       "<Figure size 432x288 with 1 Axes>"
      ]
     },
     "metadata": {
      "needs_background": "light"
     },
     "output_type": "display_data"
    }
   ],
   "source": [
    "plt.hist(samples[:,0], color=\"blue\", label=\"Samples\")\n",
    "plt.vlines(x=0.1, linestyles='dashed', ymin=0, ymax=430, label=\"Actual value\", color=\"red\")\n",
    "# plt.plot(thetas, true_prob, label=\"posterior\")\n",
    "plt.legend()\n",
    "plt.show()"
   ]
  },
  {
   "cell_type": "code",
   "execution_count": 7,
   "metadata": {},
   "outputs": [
    {
     "data": {
      "image/png": "[encoded data removed]",
      "text/plain": [
       "<Figure size 432x288 with 1 Axes>"
      ]
     },
     "metadata": {
      "needs_background": "light"
     },
     "output_type": "display_data"
    }
   ],
   "source": [
    "plt.hist(samples[:,1], color=\"blue\", label=\"Samples\")\n",
    "plt.vlines(x=500, linestyles='dashed', ymin=0, ymax=650, label=\"Actual value\", color=\"red\")\n",
    "# plt.plot(thetas, true_prob, label=\"posterior\")\n",
    "plt.legend()\n",
    "plt.show()"
   ]
  },
  {
   "cell_type": "markdown",
   "metadata": {},
   "source": [
    "# ABC SMC"
   ]
  },
  {
   "cell_type": "code",
   "execution_count": 7,
   "metadata": {},
   "outputs": [
    {
     "name": "stdout",
     "output_type": "stream",
     "text": [
      "Using ABC-SMC\n",
      "Running in sequential mode.\n",
      "Trying t=1, threshold=40\n",
      "Trying t=2, threshold=30\n",
      "Iter. Eval. Acceptance rate Time m:s\n",
      "1     6164   0.000162232317   0:29.1\n",
      "2     6174   0.000323939099   0:29.2\n",
      "3     6178   0.000485594043   0:29.2\n",
      "20    6408   0.00312109863    0:30.4\n",
      "40    6541   0.00611527289    0:31.2\n",
      "60    6691   0.00896726947    0:31.9\n",
      "80    6906   0.0115841297     0:33.0\n",
      "100   7072   0.0141402715     0:33.8\n",
      "120   7260   0.0165289256     0:34.6\n",
      "140   7542   0.0185627155     0:36.1\n",
      "160   7776   0.0205761317     0:37.2\n",
      "180   8031   0.022413149      0:38.6\n",
      "200   8277   0.0241633442     0:39.9\n",
      "220   8540   0.0257611241     0:41.2\n",
      "240   8783   0.0273255152     0:42.3\n",
      "260   9027   0.0288024814     0:43.5\n",
      "280   9211   0.0303984367     0:44.5\n",
      "300   9425   0.0318302387     0:45.6\n",
      "320   9649   0.0331640585     0:46.8\n",
      "340   9845   0.0345352971     0:47.7\n",
      "360   10082  0.035707201      0:49.0\n",
      "380   10284  0.0369506029     0:50.1\n",
      "400   10465  0.0382226469     0:51.0\n",
      "420   10707  0.0392266741     0:52.2\n",
      "440   10896  0.0403817915     0:53.1\n",
      "460   11153  0.0412445082     0:54.4\n",
      "480   11362  0.0422460834     0:55.3\n",
      "500   11534  0.0433500954     0:56.2\n",
      "520   11721  0.0443648153     0:57.0\n",
      "540   11884  0.045439246      0:57.8\n",
      "560   12066  0.0464114039     0:58.7\n",
      "580   12293  0.0471813227     1:00.0\n",
      "600   12485  0.0480576692     1:01.1\n",
      "620   12816  0.0483770287     1:02.8\n",
      "640   13047  0.0490534222     1:04.1\n",
      "660   13288  0.0496688742     1:05.3\n",
      "680   13565  0.0501290085     1:06.7\n",
      "700   13813  0.0506768986     1:08.0\n",
      "720   13972  0.0515316347     1:08.8\n",
      "740   14143  0.0523227038     1:09.6\n",
      "760   14366  0.0529026869     1:10.6\n",
      "780   14526  0.0536968195     1:11.4\n",
      "800   14844  0.0538938292     1:13.0\n",
      "820   15060  0.0544488712     1:14.1\n",
      "840   15308  0.0548732689     1:15.3\n",
      "860   15482  0.0555483788     1:16.2\n",
      "880   15625  0.05632          1:16.9\n",
      "900   15868  0.0567179229     1:18.2\n",
      "920   16088  0.0571854799     1:19.4\n",
      "940   16256  0.0578248031     1:20.2\n",
      "960   16488  0.058224163      1:21.4\n",
      "980   16753  0.0584969856     1:22.8\n",
      "1000  16957  0.0589726956     1:23.8\n",
      "Halting: target number of samples (1000) reached.\n",
      "Done\n"
     ]
    }
   ],
   "source": [
    "np.random.seed(2)\n",
    "abc = pints.ABCController(error_measure, log_prior, method=pints.ABCSMC)\n",
    "# set initial threshold\n",
    "abc.sampler().set_threshold_schedule(np.array([50, 40, 30]))\n",
    "\n",
    "# produce intermediate distributions of size 200\n",
    "abc.sampler().set_intermediate_size(200)\n",
    "\n",
    "# set target number of samples\n",
    "abc.set_n_samples(1000)\n",
    "\n",
    "# log to screen\n",
    "abc.set_log_to_screen(True)\n",
    "\n",
    "samples = abc.run()\n",
    "print(\"Done\")"
   ]
  },
  {
   "cell_type": "code",
   "execution_count": 9,
   "metadata": {},
   "outputs": [
    {
     "data": {
      "image/png": "[encoded data removed]",
      "text/plain": [
       "<Figure size 432x288 with 1 Axes>"
      ]
     },
     "metadata": {
      "needs_background": "light"
     },
     "output_type": "display_data"
    }
   ],
   "source": [
    "plt.hist(samples[:,0], color=\"blue\", label=\"Samples\")\n",
    "plt.vlines(x=0.1, linestyles='dashed', ymin=0, ymax=300, label=\"Actual value\", color=\"red\")\n",
    "# plt.plot(thetas, true_prob, label=\"posterior\")\n",
    "plt.legend()\n",
    "plt.show()"
   ]
  },
  {
   "cell_type": "code",
   "execution_count": 10,
   "metadata": {},
   "outputs": [
    {
     "data": {
      "image/png": "[encoded data removed]",
      "text/plain": [
       "<Figure size 432x288 with 1 Axes>"
      ]
     },
     "metadata": {
      "needs_background": "light"
     },
     "output_type": "display_data"
    }
   ],
   "source": [
    "plt.hist(samples[:,1], color=\"blue\", label=\"Samples\")\n",
    "plt.vlines(x=500, linestyles='dashed', ymin=0, ymax=300, label=\"Actual value\", color=\"red\")\n",
    "# plt.plot(thetas, true_prob, label=\"posterior\")\n",
    "plt.legend()\n",
    "plt.show()"
   ]
  },
  {
   "cell_type": "markdown",
   "metadata": {},
   "source": [
    "# Adaptive PMC ABC"
   ]
  },
  {
   "cell_type": "code",
   "execution_count": 14,
   "metadata": {},
   "outputs": [
    {
     "name": "stdout",
     "output_type": "stream",
     "text": [
      "Running...\n",
      "Using ABC-Adaptive-PMC\n",
      "Running in sequential mode.\n",
      "w_mean=[1.35500978e-01 5.23159352e+02]\n",
      "epsilon=153.16102637420525\n",
      "w_mean=[1.14577096e-01 5.33571684e+02]\n",
      "epsilon=114.56046438453365\n",
      "w_mean=[1.07957675e-01 5.24483598e+02]\n",
      "epsilon=88.6190348251059\n",
      "w_mean=[1.04751620e-01 5.16271987e+02]\n",
      "epsilon=74.13658566007295\n",
      "w_mean=[1.05155635e-01 5.08672666e+02]\n",
      "epsilon=65.84527317886987\n",
      "w_mean=[1.04069084e-01 5.04876683e+02]\n",
      "epsilon=58.06519324575323\n",
      "w_mean=[1.03288473e-01 4.98263706e+02]\n",
      "epsilon=52.01762521812519\n",
      "w_mean=[1.02809585e-01 4.99279085e+02]\n",
      "epsilon=47.16990566028302\n",
      "w_mean=[1.01424125e-01 5.00645583e+02]\n",
      "epsilon=44.32681656364087\n",
      "w_mean=[1.01680978e-01 5.00154944e+02]\n",
      "epsilon=41.07432287938536\n",
      "w_mean=[1.00678809e-01 5.01782183e+02]\n",
      "epsilon=38.99187949646268\n",
      "w_mean=[1.00080155e-01 5.04052641e+02]\n",
      "epsilon=35.7980446393375\n",
      "w_mean=[1.00761148e-01 5.03910009e+02]\n",
      "epsilon=32.77244777756665\n",
      "w_mean=[1.02318824e-01 5.04736180e+02]\n",
      "epsilon=30.90631003533097\n",
      "w_mean=[1.03173173e-01 5.02703364e+02]\n",
      "epsilon=29.46410245253253\n",
      "w_mean=[1.02381761e-01 5.02195224e+02]\n",
      "epsilon=27.795683118067092\n",
      "w_mean=[1.02150961e-01 5.02169599e+02]\n",
      "epsilon=26.720778431774775\n",
      "w_mean=[1.02225458e-01 5.02302231e+02]\n",
      "epsilon=25.337061129236492\n",
      "w_mean=[1.02241960e-01 5.02104502e+02]\n",
      "epsilon=24.480604567698077\n",
      "w_mean=[1.01603774e-01 5.01496018e+02]\n",
      "epsilon=23.234313704805945\n",
      "w_mean=[1.02175620e-01 5.00590503e+02]\n",
      "epsilon=22.28601953392904\n",
      "w_mean=[1.02293147e-01 5.00853773e+02]\n",
      "epsilon=21.54916858411634\n",
      "w_mean=[1.02131062e-01 5.01036558e+02]\n",
      "epsilon=20.676073128135332\n",
      "w_mean=[1.02053846e-01 5.00861712e+02]\n",
      "epsilon=20.310916604952453\n",
      "w_mean=[1.02109070e-01 5.00564909e+02]\n",
      "epsilon=19.966638842495918\n",
      "w_mean=[1.02222454e-01 5.00469517e+02]\n",
      "epsilon=19.53714411064217\n",
      "w_mean=[1.02626021e-01 5.00443498e+02]\n",
      "epsilon=18.966637375489977\n",
      "w_mean=[1.02733252e-01 4.99929940e+02]\n",
      "epsilon=18.33939293797189\n",
      "w_mean=[1.02774704e-01 5.00770330e+02]\n",
      "epsilon=17.767948671695333\n",
      "w_mean=[1.02694735e-01 5.00916517e+02]\n",
      "epsilon=17.431771759252317\n",
      "w_mean=[1.02542784e-01 5.00894182e+02]\n",
      "epsilon=17.128922908344236\n",
      "w_mean=[1.02123995e-01 5.01391639e+02]\n",
      "epsilon=16.65332799572906\n",
      "w_mean=[1.01174116e-01 5.02412179e+02]\n",
      "Iter. Eval. Acceptance rate Time m:s\n",
      "1     34     29.41176470588  27:10.4\n",
      "Halting: target number of samples (1000) reached.\n",
      "Done\n"
     ]
    }
   ],
   "source": [
    "np.random.seed(2)\n",
    "abc = pints.ABCController(error_measure, log_prior, method=pints.ABCAdaptivePMC)\n",
    "\n",
    "# set threshold\n",
    "abc.sampler().set_N_l(500)\n",
    "\n",
    "# set p_acc_min\n",
    "abc.sampler().set_p_acc_min(0.05)\n",
    "\n",
    "# set target number of samples\n",
    "abc.set_n_samples(1000)\n",
    "\n",
    "# log to screen\n",
    "abc.set_log_to_screen(True)\n",
    "\n",
    "print('Running...')\n",
    "samples  = abc.run()\n",
    "print('Done')"
   ]
  },
  {
   "cell_type": "code",
   "execution_count": 16,
   "metadata": {},
   "outputs": [
    {
     "data": {
      "image/png": "[encoded data removed]",
      "text/plain": [
       "<Figure size 432x288 with 1 Axes>"
      ]
     },
     "metadata": {
      "needs_background": "light"
     },
     "output_type": "display_data"
    }
   ],
   "source": [
    "plt.hist(samples[:,0], color=\"blue\", label=\"Samples\")\n",
    "plt.vlines(x=0.1, linestyles='dashed', ymin=0, ymax=310, label=\"Actual value\", color=\"red\")\n",
    "# plt.plot(thetas, true_prob, label=\"posterior\")\n",
    "plt.legend()\n",
    "plt.show()"
   ]
  },
  {
   "cell_type": "code",
   "execution_count": 17,
   "metadata": {},
   "outputs": [
    {
     "data": {
      "image/png": "[encoded data removed]",
      "text/plain": [
       "<Figure size 432x288 with 1 Axes>"
      ]
     },
     "metadata": {
      "needs_background": "light"
     },
     "output_type": "display_data"
    }
   ],
   "source": [
    "plt.hist(samples[:,1], color=\"blue\", label=\"Samples\")\n",
    "plt.vlines(x=500, linestyles='dashed', ymin=0, ymax=310, label=\"Actual value\", color=\"red\")\n",
    "# plt.plot(thetas, true_prob, label=\"posterior\")\n",
    "plt.legend()\n",
    "plt.show()"
   ]
  }
 ],
 "metadata": {
  "interpreter": {
   "hash": "62b8c3045b77e73a8aab814fbf01ae024ab075fc3f7014742f3a4c5a8ac43e7b"
  },
  "kernelspec": {
   "display_name": "Python 3.8.0 32-bit",
   "language": "python",
   "name": "python3"
  },
  "language_info": {
   "codemirror_mode": {
    "name": "ipython",
    "version": 3
   },
   "file_extension": ".py",
   "mimetype": "text/x-python",
   "name": "python",
   "nbconvert_exporter": "python",
   "pygments_lexer": "ipython3",
   "version": "3.8.0"
  },
  "orig_nbformat": 4
 },
 "nbformat": 4,
 "nbformat_minor": 2
}
